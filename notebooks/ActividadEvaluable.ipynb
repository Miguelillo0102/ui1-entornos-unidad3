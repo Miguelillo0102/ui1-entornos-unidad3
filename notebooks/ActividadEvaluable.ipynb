{
 "cells": [
  {
   "cell_type": "code",
   "execution_count": 96,
   "metadata": {},
   "outputs": [],
   "source": [
    "from pyspark.sql.types import *\n",
    "from pyspark.sql.functions import expr, col, desc, lower, instr"
   ]
  },
  {
   "cell_type": "code",
   "execution_count": 70,
   "metadata": {},
   "outputs": [],
   "source": [
    "google_play_df = spark.read.csv('../data/googleplaystore.csv', header=True, inferSchema=True, nullValue='', sep=',')"
   ]
  },
  {
   "cell_type": "code",
   "execution_count": 71,
   "metadata": {},
   "outputs": [],
   "source": [
    "schema = StructType( [\n",
    "    StructField('App', StringType()),\n",
    "    StructField('Translated Review', StringType()),\n",
    "    StructField('Sentiment', StringType() ),\n",
    "    StructField('Sentiment_Polarity', DoubleType()),\n",
    "    StructField('Sentiment_Subjectivity', DoubleType())\n",
    "] )\n",
    "app_reviews_df = spark.read.csv('../data/googleplaystore_user_reviews.csv', sep=',', schema=schema, header=True)"
   ]
  },
  {
   "cell_type": "code",
   "execution_count": 72,
   "metadata": {},
   "outputs": [],
   "source": [
    "google_play_df = google_play_df.withColumn('Price', expr('double(replace(Price,\"\\$\",\"\"))'))\n",
    "google_play_df = google_play_df.withColumn('Installs', expr('double(replace(replace(Installs, \"+\", \"\"), \",\", \"\"))') )\n",
    "google_play_df=google_play_df.withColumn('Size', expr('double(replace(replace(Size,\"M\",\"000\"),\"K\",\"\"))'))\n",
    "google_play_df=google_play_df.drop('Android Ver')\n",
    "google_play_df=google_play_df.drop('Genres')\n",
    "google_play_df=google_play_df.drop('Last Updated')\n",
    "google_play_df=google_play_df.drop('Current Ver')"
   ]
  },
  {
   "cell_type": "code",
   "execution_count": null,
   "metadata": {},
   "outputs": [],
   "source": []
  }
 ],
 "metadata": {
  "kernelspec": {
   "display_name": "Python 3",
   "language": "python",
   "name": "python3"
  },
  "language_info": {
   "codemirror_mode": {
    "name": "ipython",
    "version": 3
   },
   "file_extension": ".py",
   "mimetype": "text/x-python",
   "name": "python",
   "nbconvert_exporter": "python",
   "pygments_lexer": "ipython3",
   "version": "3.7.0"
  }
 },
 "nbformat": 4,
 "nbformat_minor": 2
}
