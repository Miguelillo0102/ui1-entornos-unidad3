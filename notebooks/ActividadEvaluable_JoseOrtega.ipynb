{
 "cells": [
  {
   "cell_type": "code",
   "execution_count": 1,
   "metadata": {},
   "outputs": [],
   "source": [
    "from pyspark.sql.types import *\n",
    "from pyspark.sql.functions import expr, col, desc, lower, instr\n",
    "from pyspark.sql.functions import mean, stddev_samp, var_samp, avg\n",
    "from pyspark.sql.functions import countDistinct\n",
    "from pyspark.sql.functions import concat_ws, concat\n",
    "from pyspark.sql import Row\n",
    "from pyspark.sql.functions import corr"
   ]
  },
  {
   "cell_type": "code",
   "execution_count": 2,
   "metadata": {},
   "outputs": [],
   "source": [
    "google_play_df = spark.read.csv('../data/googleplaystore.csv', header=True, inferSchema=True, nullValue='', sep=',')"
   ]
  },
  {
   "cell_type": "code",
   "execution_count": 3,
   "metadata": {},
   "outputs": [],
   "source": [
    "schema = StructType( [\n",
    "    StructField('App', StringType()),\n",
    "    StructField('Translated Review', StringType()),\n",
    "    StructField('Sentiment', StringType() ),\n",
    "    StructField('Sentiment_Polarity', DoubleType()),\n",
    "    StructField('Sentiment_Subjectivity', DoubleType())\n",
    "] )\n",
    "app_reviews_df = spark.read.csv('../data/googleplaystore_user_reviews.csv', sep=',', schema=schema, header=True)"
   ]
  },
  {
   "cell_type": "code",
   "execution_count": 4,
   "metadata": {},
   "outputs": [],
   "source": [
    "google_play_df = google_play_df.withColumn('Price', expr('double(replace(Price,\"\\$\",\"\"))'))\n",
    "google_play_df = google_play_df.withColumn('Installs', expr('double(replace(replace(Installs, \"+\", \"\"), \",\", \"\"))') )\n",
    "google_play_df=google_play_df.withColumn('Size', expr('double(replace(replace(Size,\"M\",\"000\"),\"K\",\"\"))'))\n",
    "google_play_df=google_play_df.drop('Android Ver')\n",
    "google_play_df=google_play_df.drop('Genres')\n",
    "google_play_df=google_play_df.drop('Last Updated')\n",
    "google_play_df=google_play_df.drop('Current Ver')"
   ]
  },
  {
   "cell_type": "code",
   "execution_count": 5,
   "metadata": {},
   "outputs": [
    {
     "name": "stdout",
     "output_type": "stream",
     "text": [
      "DataFrame[App: string, Category: string, Rating: double, Reviews: int, Size: double, Installs: double, Type: string, Price: double, Content Rating: string]\n"
     ]
    }
   ],
   "source": [
    "print(google_play_df)"
   ]
  },
  {
   "cell_type": "code",
   "execution_count": 6,
   "metadata": {},
   "outputs": [
    {
     "name": "stdout",
     "output_type": "stream",
     "text": [
      "+--------------------+--------------+------+-------+-------+---------+----+-----+--------------+\n",
      "|                 App|      Category|Rating|Reviews|   Size| Installs|Type|Price|Content Rating|\n",
      "+--------------------+--------------+------+-------+-------+---------+----+-----+--------------+\n",
      "|Photo Editor & Ca...|ART_AND_DESIGN|   4.1|    159|19000.0|  10000.0|Free|  0.0|      Everyone|\n",
      "| Coloring book moana|ART_AND_DESIGN|   3.9|    967|14000.0| 500000.0|Free|  0.0|      Everyone|\n",
      "|U Launcher Lite –...|ART_AND_DESIGN|   4.7|  87510|    8.7|5000000.0|Free|  0.0|      Everyone|\n",
      "|Sketch - Draw & P...|ART_AND_DESIGN|   4.5| 215644|25000.0|    5.0E7|Free|  0.0|          Teen|\n",
      "|Pixel Draw - Numb...|ART_AND_DESIGN|   4.3|    967|    2.8| 100000.0|Free|  0.0|      Everyone|\n",
      "|Paper flowers ins...|ART_AND_DESIGN|   4.4|    167|    5.6|  50000.0|Free|  0.0|      Everyone|\n",
      "|Smoke Effect Phot...|ART_AND_DESIGN|   3.8|    178|19000.0|  50000.0|Free|  0.0|      Everyone|\n",
      "|    Infinite Painter|ART_AND_DESIGN|   4.1|  36815|29000.0|1000000.0|Free|  0.0|      Everyone|\n",
      "|Garden Coloring Book|ART_AND_DESIGN|   4.4|  13791|33000.0|1000000.0|Free|  0.0|      Everyone|\n",
      "|Kids Paint Free -...|ART_AND_DESIGN|   4.7|    121|    3.1|  10000.0|Free|  0.0|      Everyone|\n",
      "+--------------------+--------------+------+-------+-------+---------+----+-----+--------------+\n",
      "only showing top 10 rows\n",
      "\n"
     ]
    }
   ],
   "source": [
    "google_play_df.show(n=10)"
   ]
  },
  {
   "cell_type": "code",
   "execution_count": 7,
   "metadata": {},
   "outputs": [
    {
     "name": "stdout",
     "output_type": "stream",
     "text": [
      "+--------------------+--------------+------+-------+-------+---------+----+-----+--------------+----------+\n",
      "|                 App|      Category|Rating|Reviews|   Size| Installs|Type|Price|Content Rating|New_column|\n",
      "+--------------------+--------------+------+-------+-------+---------+----+-----+--------------+----------+\n",
      "|Photo Editor & Ca...|ART_AND_DESIGN|   4.1|    159|19000.0|  10000.0|Free|  0.0|      Everyone|      true|\n",
      "| Coloring book moana|ART_AND_DESIGN|   3.9|    967|14000.0| 500000.0|Free|  0.0|      Everyone|      true|\n",
      "|U Launcher Lite –...|ART_AND_DESIGN|   4.7|  87510|    8.7|5000000.0|Free|  0.0|      Everyone|      true|\n",
      "|Sketch - Draw & P...|ART_AND_DESIGN|   4.5| 215644|25000.0|    5.0E7|Free|  0.0|          Teen|      true|\n",
      "|Pixel Draw - Numb...|ART_AND_DESIGN|   4.3|    967|    2.8| 100000.0|Free|  0.0|      Everyone|      true|\n",
      "+--------------------+--------------+------+-------+-------+---------+----+-----+--------------+----------+\n",
      "only showing top 5 rows\n",
      "\n"
     ]
    }
   ],
   "source": [
    "new_df = google_play_df.select( expr('*'), (col('Rating')>3).alias('New_column') )\n",
    "\n",
    "new_df.show(5)"
   ]
  },
  {
   "cell_type": "code",
   "execution_count": 25,
   "metadata": {},
   "outputs": [
    {
     "name": "stdout",
     "output_type": "stream",
     "text": [
      "+--------------------+--------------+\n",
      "|                 App|      Category|\n",
      "+--------------------+--------------+\n",
      "|U Launcher Lite –...|ART_AND_DESIGN|\n",
      "|Sketch - Draw & P...|ART_AND_DESIGN|\n",
      "|Pixel Draw - Numb...|ART_AND_DESIGN|\n",
      "|Paper flowers ins...|ART_AND_DESIGN|\n",
      "|Garden Coloring Book|ART_AND_DESIGN|\n",
      "+--------------------+--------------+\n",
      "only showing top 5 rows\n",
      "\n"
     ]
    }
   ],
   "source": [
    "#Nos quedamos solo con las filas con valoracion mayor a 4.2\n",
    "more_than_42_df = google_play_df.filter( expr('Rating>=4.2') )\n",
    "#Elegimos solo las columnas pedidas\n",
    "new_df1 = more_than_42_df.select('App', 'Category')\n",
    "new_df1.show(5)"
   ]
  },
  {
   "cell_type": "code",
   "execution_count": 9,
   "metadata": {},
   "outputs": [
    {
     "data": {
      "text/plain": [
       "5085"
      ]
     },
     "execution_count": 9,
     "metadata": {},
     "output_type": "execute_result"
    }
   ],
   "source": [
    "#Filtramos las filas con el tamaño pedido\n",
    "size_df=google_play_df.filter( expr('Size>10000') )\n",
    "#Contamos el numero de filas\n",
    "numero_apps=size_df.count() \n",
    "numero_apps"
   ]
  },
  {
   "cell_type": "code",
   "execution_count": 10,
   "metadata": {},
   "outputs": [
    {
     "name": "stdout",
     "output_type": "stream",
     "text": [
      "+----+-----------------+\n",
      "|Type|     mean(Rating)|\n",
      "+----+-----------------+\n",
      "|Free|4.186202546163562|\n",
      "|Paid|4.266615146831529|\n",
      "+----+-----------------+\n",
      "\n",
      "+-------------------+------------------+\n",
      "|           Category|      mean(Rating)|\n",
      "+-------------------+------------------+\n",
      "|             EVENTS| 4.435555555555557|\n",
      "|             COMICS| 4.155172413793104|\n",
      "|             SPORTS| 4.223510971786835|\n",
      "|            WEATHER| 4.243999999999999|\n",
      "|      VIDEO_PLAYERS| 4.063750000000001|\n",
      "|  AUTO_AND_VEHICLES|  4.19041095890411|\n",
      "|          PARENTING| 4.300000000000001|\n",
      "|      ENTERTAINMENT| 4.126174496644294|\n",
      "|    PERSONALIZATION| 4.335987261146501|\n",
      "| HEALTH_AND_FITNESS|4.2771043771043775|\n",
      "|   TRAVEL_AND_LOCAL|  4.10929203539823|\n",
      "|BOOKS_AND_REFERENCE| 4.346067415730338|\n",
      "|     FOOD_AND_DRINK|4.1669724770642205|\n",
      "|        PHOTOGRAPHY| 4.192113564668767|\n",
      "|           BUSINESS| 4.121452145214522|\n",
      "|             FAMILY| 4.192272467086437|\n",
      "|           SHOPPING| 4.259663865546221|\n",
      "|     HOUSE_AND_HOME| 4.197368421052633|\n",
      "|               GAME|4.2863263445761195|\n",
      "|          EDUCATION| 4.389032258064517|\n",
      "+-------------------+------------------+\n",
      "only showing top 20 rows\n",
      "\n",
      "+---------------+-----------------+\n",
      "| Content Rating|     mean(Rating)|\n",
      "+---------------+-----------------+\n",
      "|        Unrated|              4.1|\n",
      "|           Teen|4.233487084870853|\n",
      "|     Mature 17+|4.123427331887204|\n",
      "|   Everyone 10+|4.257178841309818|\n",
      "|       Everyone|4.186374663072782|\n",
      "|Adults only 18+|              4.3|\n",
      "+---------------+-----------------+\n",
      "\n"
     ]
    }
   ],
   "source": [
    "#Eliminamos las filas convalores nulos de las columnas Type y Category\n",
    "no_null_df = google_play_df.dropna('any', subset=['Type', 'Category'])\n",
    "#Nos quedamos solo con las columnas Type, Category, Content Rating y Rating\n",
    "new_df2 = no_null_df.select('Type', 'Category','Content Rating','Rating')\n",
    "#Obtenemos la media para Type\n",
    "new_df2.groupBy(col('Type')).agg(expr('mean(Rating)')).show()\n",
    "#Obtenemos la media para Category\n",
    "new_df2.groupBy(col('Category')).agg(expr('mean(Rating)')).show()\n",
    "#Obtenemos la media para Content Rating\n",
    "new_df2.groupBy(col('Content Rating')).agg(expr('mean(Rating)')).show()"
   ]
  },
  {
   "cell_type": "markdown",
   "metadata": {},
   "source": []
  },
  {
   "cell_type": "code",
   "execution_count": 11,
   "metadata": {},
   "outputs": [
    {
     "name": "stdout",
     "output_type": "stream",
     "text": [
      "+-------------------+----+----+\n",
      "|Content Rating_Type|Free|Paid|\n",
      "+-------------------+----+----+\n",
      "|            Unrated|   2|   0|\n",
      "|         Mature 17+| 479|  20|\n",
      "|       Everyone 10+| 380|  33|\n",
      "|    Adults only 18+|   3|   0|\n",
      "|           Everyone|8020| 695|\n",
      "|               Teen|1156|  52|\n",
      "+-------------------+----+----+\n",
      "\n"
     ]
    }
   ],
   "source": [
    "#Eliminamos valores nulos de Type\n",
    "no_null_df = google_play_df.dropna('any', subset=['Type'])\n",
    "#Creamos la tabla de contingencia\n",
    "no_null_df.crosstab('Content Rating', 'Type').show(n=100)"
   ]
  },
  {
   "cell_type": "code",
   "execution_count": 12,
   "metadata": {},
   "outputs": [
    {
     "name": "stdout",
     "output_type": "stream",
     "text": [
      "+--------------------+--------------+------+--------------+-----------------+\n",
      "|                 App|      Category|Rating|      Category|     mean(Rating)|\n",
      "+--------------------+--------------+------+--------------+-----------------+\n",
      "|Photo Editor & Ca...|ART_AND_DESIGN|   4.1|ART_AND_DESIGN|4.358064516129031|\n",
      "| Coloring book moana|ART_AND_DESIGN|   3.9|ART_AND_DESIGN|4.358064516129031|\n",
      "|U Launcher Lite –...|ART_AND_DESIGN|   4.7|ART_AND_DESIGN|4.358064516129031|\n",
      "|Sketch - Draw & P...|ART_AND_DESIGN|   4.5|ART_AND_DESIGN|4.358064516129031|\n",
      "|Pixel Draw - Numb...|ART_AND_DESIGN|   4.3|ART_AND_DESIGN|4.358064516129031|\n",
      "|Paper flowers ins...|ART_AND_DESIGN|   4.4|ART_AND_DESIGN|4.358064516129031|\n",
      "|Smoke Effect Phot...|ART_AND_DESIGN|   3.8|ART_AND_DESIGN|4.358064516129031|\n",
      "|    Infinite Painter|ART_AND_DESIGN|   4.1|ART_AND_DESIGN|4.358064516129031|\n",
      "|Garden Coloring Book|ART_AND_DESIGN|   4.4|ART_AND_DESIGN|4.358064516129031|\n",
      "|Kids Paint Free -...|ART_AND_DESIGN|   4.7|ART_AND_DESIGN|4.358064516129031|\n",
      "|Text on Photo - F...|ART_AND_DESIGN|   4.4|ART_AND_DESIGN|4.358064516129031|\n",
      "|Name Art Photo Ed...|ART_AND_DESIGN|   4.4|ART_AND_DESIGN|4.358064516129031|\n",
      "|Tattoo Name On My...|ART_AND_DESIGN|   4.2|ART_AND_DESIGN|4.358064516129031|\n",
      "|Mandala Coloring ...|ART_AND_DESIGN|   4.6|ART_AND_DESIGN|4.358064516129031|\n",
      "|3D Color Pixel by...|ART_AND_DESIGN|   4.4|ART_AND_DESIGN|4.358064516129031|\n",
      "|Learn To Draw Kaw...|ART_AND_DESIGN|   3.2|ART_AND_DESIGN|4.358064516129031|\n",
      "|Photo Designer - ...|ART_AND_DESIGN|   4.7|ART_AND_DESIGN|4.358064516129031|\n",
      "|350 Diy Room Deco...|ART_AND_DESIGN|   4.5|ART_AND_DESIGN|4.358064516129031|\n",
      "|FlipaClip - Carto...|ART_AND_DESIGN|   4.3|ART_AND_DESIGN|4.358064516129031|\n",
      "|        ibis Paint X|ART_AND_DESIGN|   4.6|ART_AND_DESIGN|4.358064516129031|\n",
      "+--------------------+--------------+------+--------------+-----------------+\n",
      "only showing top 20 rows\n",
      "\n",
      "+--------------------+\n",
      "|                 App|\n",
      "+--------------------+\n",
      "|Google Chrome: Fa...|\n",
      "|free video calls ...|\n",
      "|Toddler Learning ...|\n",
      "|             MyChart|\n",
      "|Davis's Drug Guid...|\n",
      "|Mercari: The Sell...|\n",
      "|Nigeria News NAIJ...|\n",
      "|    Basketball Stars|\n",
      "|          C Examples|\n",
      "| Al-Quran Al-Muallim|\n",
      "|THE KING OF FIGHT...|\n",
      "|A-Z Punjabi Songs...|\n",
      "|       BD Hospital's|\n",
      "|Photo Editor - BP...|\n",
      "|    Volvo CE Insider|\n",
      "|             Casa CF|\n",
      "|Chrome Canary (Un...|\n",
      "|         C W Browser|\n",
      "|The Divine Femini...|\n",
      "|Maher EL Mouaikly...|\n",
      "+--------------------+\n",
      "only showing top 20 rows\n",
      "\n"
     ]
    }
   ],
   "source": [
    "#Eliminamos las filas convalores nulos de las columnas Type y Category\n",
    "no_null_df = google_play_df.dropna('any', subset=['Type', 'Category'])\n",
    "#Medias para cada categoría\n",
    "medias_df=no_null_df.groupBy(col('Category')).agg(expr('mean(Rating)'))\n",
    "#Unimos dos datafreams para obtener uno del tipo App, Categoty, Rating, Category, mean(category)\n",
    "#Es decir,tenemos en el mismo dataframe cada aplicación con su categoría y su valoracion y la valoracion media \n",
    "#de la categoría\n",
    "no_null_df=no_null_df.select('App', 'Category','Rating')\n",
    "Rating_with_category_df = no_null_df.join( medias_df, no_null_df.Category == medias_df.Category, how='inner' )\n",
    "Rating_with_category_df.show()\n",
    "# Eliminamos las filas que no cumplan la condicion\n",
    "Condicion_df=Rating_with_category_df.filter(col('Rating')>col('mean(Rating)'))\n",
    "#Nos quedamos solo con el nombre de las Apps\n",
    "Best_app_df=Condicion_df.select('App').distinct()\n",
    "Best_app_df.show()"
   ]
  },
  {
   "cell_type": "code",
   "execution_count": 13,
   "metadata": {},
   "outputs": [
    {
     "name": "stdout",
     "output_type": "stream",
     "text": [
      "+--------------------+-------------------+\n",
      "|                 App|           Category|\n",
      "+--------------------+-------------------+\n",
      "|  All Maths Formulas|BOOKS_AND_REFERENCE|\n",
      "|           DC Comics|             COMICS|\n",
      "|Freeme Launcher—S...|    PERSONALIZATION|\n",
      "|Gold Butterfly Ke...|     HOUSE_AND_HOME|\n",
      "|Cougar Dating Lif...|             DATING|\n",
      "|GasBuddy: Find Ch...|   TRAVEL_AND_LOCAL|\n",
      "|     Golden Launcher|    PERSONALIZATION|\n",
      "|Facebook Ads Manager|           BUSINESS|\n",
      "|Full Screen Calle...|      COMMUNICATION|\n",
      "|AlReader -any tex...|BOOKS_AND_REFERENCE|\n",
      "|AutoCAD - DWG Vie...|       PRODUCTIVITY|\n",
      "|    Cookbook Recipes|     FOOD_AND_DRINK|\n",
      "|Cymera Camera- Ph...|        PHOTOGRAPHY|\n",
      "|APUS Launcher - T...|    PERSONALIZATION|\n",
      "|     Amazon Shopping|           SHOPPING|\n",
      "|Current debit car...|            FINANCE|\n",
      "|Cymera Camera- Ph...|        PHOTOGRAPHY|\n",
      "|          DreamTrips|   TRAVEL_AND_LOCAL|\n",
      "|          BBVA Spain|            FINANCE|\n",
      "|EyeEm - Camera & ...|        PHOTOGRAPHY|\n",
      "+--------------------+-------------------+\n",
      "only showing top 20 rows\n",
      "\n"
     ]
    }
   ],
   "source": [
    "#Nos quedamos con las columnas que necesitamos y unimos\n",
    "App_reviews_df=google_play_df.select('App','Reviews','Category')\n",
    "App_sentiment_df=app_reviews_df.select('App','Sentiment_Polarity','Translated Review')\n",
    "Reviews_sentiment_df = App_reviews_df.join( App_sentiment_df, App_reviews_df.App == App_sentiment_df.App, how='inner' ).distinct()\n",
    "#Imponemos las condiciones\n",
    "final_df=Reviews_sentiment_df.filter((col('Reviews')>300) & (col('Sentiment_Polarity')==1))\n",
    "#Seleccionamos las columnas pedidas y mostramos\n",
    "final_df.drop(google_play_df.App).select('App','Category').show()\n"
   ]
  },
  {
   "cell_type": "code",
   "execution_count": null,
   "metadata": {},
   "outputs": [],
   "source": [
    "\n"
   ]
  },
  {
   "cell_type": "code",
   "execution_count": 14,
   "metadata": {},
   "outputs": [
    {
     "name": "stdout",
     "output_type": "stream",
     "text": [
      "+--------------------+\n",
      "|                 App|\n",
      "+--------------------+\n",
      "|BaBe+ - Berita In...|\n",
      "|    Basketball Stars|\n",
      "|Davis's Drug Guid...|\n",
      "|Find&Save - Local...|\n",
      "|  Floor Plan Creator|\n",
      "|     Candy Pop Story|\n",
      "|Cricbuzz - Live C...|\n",
      "|        Google Earth|\n",
      "|    Homework Planner|\n",
      "|      Epocrates Plus|\n",
      "|            Arrow.io|\n",
      "|CALCU™ Stylish Ca...|\n",
      "|FilterGrid - Cam&...|\n",
      "|Golf GPS Rangefin...|\n",
      "|BELONG Beating Ca...|\n",
      "|      Bubble Shooter|\n",
      "|Football Live Scores|\n",
      "|     Amazon Shopping|\n",
      "|CM Launcher 3D - ...|\n",
      "|Dream League Socc...|\n",
      "+--------------------+\n",
      "only showing top 20 rows\n",
      "\n"
     ]
    }
   ],
   "source": [
    "#Usamos lower para poner la columna Translated Review en minusculas\n",
    "lower_df=app_reviews_df.withColumn('Translated Review', lower(col('Translated Review')))\n",
    "#Usamos inner para detectar coincidencias y añadimos la columna al dataframe\n",
    "match_df=lower_df.select('*',instr(col('Translated Review'), 'great').alias('Match'))\n",
    "#Filtramos con la condición de que el indicador de la coincidencia sea mayor que 0\n",
    "filer_match_df=match_df.filter(col('Match')>0)\n",
    "#Nos quedamos solo con la columna del nombre de la App y eleminamos duplicados\n",
    "filer_match_df.select('App').distinct().show()\n",
    "\n"
   ]
  },
  {
   "cell_type": "code",
   "execution_count": 15,
   "metadata": {},
   "outputs": [
    {
     "name": "stdout",
     "output_type": "stream",
     "text": [
      "La correlación es \n",
      "0.10658246952806993\n"
     ]
    }
   ],
   "source": [
    "#Usamos corr para obtener la correlacion\n",
    "print('La correlación es ')\n",
    "print(google_play_df.corr('Size', 'Rating'))"
   ]
  },
  {
   "cell_type": "code",
   "execution_count": 16,
   "metadata": {},
   "outputs": [
    {
     "name": "stdout",
     "output_type": "stream",
     "text": [
      "+---------------+------------------------+\n",
      "| Content Rating|mean(Sentiment_polarity)|\n",
      "+---------------+------------------------+\n",
      "|           Teen|     0.12740170930175537|\n",
      "|     Mature 17+|     0.17390891504000114|\n",
      "|   Everyone 10+|      0.1185116527772904|\n",
      "|       Everyone|     0.17736611297187863|\n",
      "|Adults only 18+|      0.2984002267573696|\n",
      "+---------------+------------------------+\n",
      "\n",
      "+---------------+---------------------------+\n",
      "| Content Rating|var_pop(Sentiment_polarity)|\n",
      "+---------------+---------------------------+\n",
      "|           Teen|        0.10291570290562735|\n",
      "|     Mature 17+|         0.1315846892476854|\n",
      "|   Everyone 10+|        0.08668752005123831|\n",
      "|       Everyone|         0.1207805378474352|\n",
      "|Adults only 18+|        0.10515158989052915|\n",
      "+---------------+---------------------------+\n",
      "\n"
     ]
    }
   ],
   "source": [
    "#Unimos los dos dataframes por los nombres de las app\n",
    "polarity_category_df = google_play_df.join( app_reviews_df, google_play_df.App == app_reviews_df.App, how='inner').distinct()\n",
    "#Nos quedamos solo con las columnas necesarias\n",
    "final_df=polarity_category_df.select('Content Rating','Sentiment_polarity')\n",
    "#Calculamos la media\n",
    "final_df.groupBy(col('Content Rating')).agg(expr('mean(Sentiment_polarity)')).show()\n",
    "#Calculamos desviación\n",
    "final_df.groupBy(col('Content Rating')).agg(expr('var_pop(Sentiment_polarity)')).show()"
   ]
  },
  {
   "cell_type": "code",
   "execution_count": 40,
   "metadata": {},
   "outputs": [
    {
     "ename": "AnalysisException",
     "evalue": "'org.apache.hadoop.hive.metastore.api.AlreadyExistsException: Database pydb already exists;'",
     "output_type": "error",
     "traceback": [
      "\u001b[0;31m---------------------------------------------------------------------------\u001b[0m",
      "\u001b[0;31mPy4JJavaError\u001b[0m                             Traceback (most recent call last)",
      "\u001b[0;32m~/opt/spark/python/pyspark/sql/utils.py\u001b[0m in \u001b[0;36mdeco\u001b[0;34m(*a, **kw)\u001b[0m\n\u001b[1;32m     62\u001b[0m         \u001b[0;32mtry\u001b[0m\u001b[0;34m:\u001b[0m\u001b[0;34m\u001b[0m\u001b[0m\n\u001b[0;32m---> 63\u001b[0;31m             \u001b[0;32mreturn\u001b[0m \u001b[0mf\u001b[0m\u001b[0;34m(\u001b[0m\u001b[0;34m*\u001b[0m\u001b[0ma\u001b[0m\u001b[0;34m,\u001b[0m \u001b[0;34m**\u001b[0m\u001b[0mkw\u001b[0m\u001b[0;34m)\u001b[0m\u001b[0;34m\u001b[0m\u001b[0m\n\u001b[0m\u001b[1;32m     64\u001b[0m         \u001b[0;32mexcept\u001b[0m \u001b[0mpy4j\u001b[0m\u001b[0;34m.\u001b[0m\u001b[0mprotocol\u001b[0m\u001b[0;34m.\u001b[0m\u001b[0mPy4JJavaError\u001b[0m \u001b[0;32mas\u001b[0m \u001b[0me\u001b[0m\u001b[0;34m:\u001b[0m\u001b[0;34m\u001b[0m\u001b[0m\n",
      "\u001b[0;32m~/opt/spark/python/lib/py4j-0.10.7-src.zip/py4j/protocol.py\u001b[0m in \u001b[0;36mget_return_value\u001b[0;34m(answer, gateway_client, target_id, name)\u001b[0m\n\u001b[1;32m    327\u001b[0m                     \u001b[0;34m\"An error occurred while calling {0}{1}{2}.\\n\"\u001b[0m\u001b[0;34m.\u001b[0m\u001b[0;34m\u001b[0m\u001b[0m\n\u001b[0;32m--> 328\u001b[0;31m                     format(target_id, \".\", name), value)\n\u001b[0m\u001b[1;32m    329\u001b[0m             \u001b[0;32melse\u001b[0m\u001b[0;34m:\u001b[0m\u001b[0;34m\u001b[0m\u001b[0m\n",
      "\u001b[0;31mPy4JJavaError\u001b[0m: An error occurred while calling o25.sql.\n: org.apache.spark.sql.AnalysisException: org.apache.hadoop.hive.metastore.api.AlreadyExistsException: Database pydb already exists;\n\tat org.apache.spark.sql.hive.HiveExternalCatalog.withClient(HiveExternalCatalog.scala:106)\n\tat org.apache.spark.sql.hive.HiveExternalCatalog.createDatabase(HiveExternalCatalog.scala:183)\n\tat org.apache.spark.sql.catalyst.catalog.ExternalCatalogWithListener.createDatabase(ExternalCatalogWithListener.scala:47)\n\tat org.apache.spark.sql.catalyst.catalog.SessionCatalog.createDatabase(SessionCatalog.scala:211)\n\tat org.apache.spark.sql.execution.command.CreateDatabaseCommand.run(ddl.scala:70)\n\tat org.apache.spark.sql.execution.command.ExecutedCommandExec.sideEffectResult$lzycompute(commands.scala:70)\n\tat org.apache.spark.sql.execution.command.ExecutedCommandExec.sideEffectResult(commands.scala:68)\n\tat org.apache.spark.sql.execution.command.ExecutedCommandExec.executeCollect(commands.scala:79)\n\tat org.apache.spark.sql.Dataset$$anonfun$6.apply(Dataset.scala:195)\n\tat org.apache.spark.sql.Dataset$$anonfun$6.apply(Dataset.scala:195)\n\tat org.apache.spark.sql.Dataset$$anonfun$53.apply(Dataset.scala:3365)\n\tat org.apache.spark.sql.execution.SQLExecution$$anonfun$withNewExecutionId$1.apply(SQLExecution.scala:78)\n\tat org.apache.spark.sql.execution.SQLExecution$.withSQLConfPropagated(SQLExecution.scala:125)\n\tat org.apache.spark.sql.execution.SQLExecution$.withNewExecutionId(SQLExecution.scala:73)\n\tat org.apache.spark.sql.Dataset.withAction(Dataset.scala:3364)\n\tat org.apache.spark.sql.Dataset.<init>(Dataset.scala:195)\n\tat org.apache.spark.sql.Dataset$.ofRows(Dataset.scala:80)\n\tat org.apache.spark.sql.SparkSession.sql(SparkSession.scala:642)\n\tat sun.reflect.GeneratedMethodAccessor77.invoke(Unknown Source)\n\tat sun.reflect.DelegatingMethodAccessorImpl.invoke(DelegatingMethodAccessorImpl.java:43)\n\tat java.lang.reflect.Method.invoke(Method.java:498)\n\tat py4j.reflection.MethodInvoker.invoke(MethodInvoker.java:244)\n\tat py4j.reflection.ReflectionEngine.invoke(ReflectionEngine.java:357)\n\tat py4j.Gateway.invoke(Gateway.java:282)\n\tat py4j.commands.AbstractCommand.invokeMethod(AbstractCommand.java:132)\n\tat py4j.commands.CallCommand.execute(CallCommand.java:79)\n\tat py4j.GatewayConnection.run(GatewayConnection.java:238)\n\tat java.lang.Thread.run(Thread.java:748)\nCaused by: AlreadyExistsException(message:Database pydb already exists)\n\tat org.apache.hadoop.hive.metastore.HiveMetaStore$HMSHandler.create_database(HiveMetaStore.java:891)\n\tat sun.reflect.NativeMethodAccessorImpl.invoke0(Native Method)\n\tat sun.reflect.NativeMethodAccessorImpl.invoke(NativeMethodAccessorImpl.java:62)\n\tat sun.reflect.DelegatingMethodAccessorImpl.invoke(DelegatingMethodAccessorImpl.java:43)\n\tat java.lang.reflect.Method.invoke(Method.java:498)\n\tat org.apache.hadoop.hive.metastore.RetryingHMSHandler.invoke(RetryingHMSHandler.java:107)\n\tat com.sun.proxy.$Proxy23.create_database(Unknown Source)\n\tat org.apache.hadoop.hive.metastore.HiveMetaStoreClient.createDatabase(HiveMetaStoreClient.java:644)\n\tat sun.reflect.NativeMethodAccessorImpl.invoke0(Native Method)\n\tat sun.reflect.NativeMethodAccessorImpl.invoke(NativeMethodAccessorImpl.java:62)\n\tat sun.reflect.DelegatingMethodAccessorImpl.invoke(DelegatingMethodAccessorImpl.java:43)\n\tat java.lang.reflect.Method.invoke(Method.java:498)\n\tat org.apache.hadoop.hive.metastore.RetryingMetaStoreClient.invoke(RetryingMetaStoreClient.java:156)\n\tat com.sun.proxy.$Proxy24.createDatabase(Unknown Source)\n\tat org.apache.hadoop.hive.ql.metadata.Hive.createDatabase(Hive.java:306)\n\tat org.apache.spark.sql.hive.client.HiveClientImpl$$anonfun$createDatabase$1.apply$mcV$sp(HiveClientImpl.scala:312)\n\tat org.apache.spark.sql.hive.client.HiveClientImpl$$anonfun$createDatabase$1.apply(HiveClientImpl.scala:312)\n\tat org.apache.spark.sql.hive.client.HiveClientImpl$$anonfun$createDatabase$1.apply(HiveClientImpl.scala:312)\n\tat org.apache.spark.sql.hive.client.HiveClientImpl$$anonfun$withHiveState$1.apply(HiveClientImpl.scala:275)\n\tat org.apache.spark.sql.hive.client.HiveClientImpl.liftedTree1$1(HiveClientImpl.scala:213)\n\tat org.apache.spark.sql.hive.client.HiveClientImpl.retryLocked(HiveClientImpl.scala:212)\n\tat org.apache.spark.sql.hive.client.HiveClientImpl.withHiveState(HiveClientImpl.scala:258)\n\tat org.apache.spark.sql.hive.client.HiveClientImpl.createDatabase(HiveClientImpl.scala:311)\n\tat org.apache.spark.sql.hive.HiveExternalCatalog$$anonfun$createDatabase$1.apply$mcV$sp(HiveExternalCatalog.scala:184)\n\tat org.apache.spark.sql.hive.HiveExternalCatalog$$anonfun$createDatabase$1.apply(HiveExternalCatalog.scala:184)\n\tat org.apache.spark.sql.hive.HiveExternalCatalog$$anonfun$createDatabase$1.apply(HiveExternalCatalog.scala:184)\n\tat org.apache.spark.sql.hive.HiveExternalCatalog.withClient(HiveExternalCatalog.scala:97)\n\t... 27 more\n",
      "\nDuring handling of the above exception, another exception occurred:\n",
      "\u001b[0;31mAnalysisException\u001b[0m                         Traceback (most recent call last)",
      "\u001b[0;32m<ipython-input-40-387478d69df1>\u001b[0m in \u001b[0;36m<module>\u001b[0;34m\u001b[0m\n\u001b[0;32m----> 1\u001b[0;31m \u001b[0mspark\u001b[0m\u001b[0;34m.\u001b[0m\u001b[0msql\u001b[0m\u001b[0;34m(\u001b[0m\u001b[0;34m'CREATE DATABASE pydb'\u001b[0m\u001b[0;34m)\u001b[0m\u001b[0;34m\u001b[0m\u001b[0m\n\u001b[0m\u001b[1;32m      2\u001b[0m \u001b[0mspark\u001b[0m\u001b[0;34m.\u001b[0m\u001b[0msql\u001b[0m\u001b[0;34m(\u001b[0m\u001b[0;34m'USE pydb'\u001b[0m\u001b[0;34m)\u001b[0m\u001b[0;34m\u001b[0m\u001b[0m\n",
      "\u001b[0;32m~/opt/spark/python/pyspark/sql/session.py\u001b[0m in \u001b[0;36msql\u001b[0;34m(self, sqlQuery)\u001b[0m\n\u001b[1;32m    765\u001b[0m         \u001b[0;34m[\u001b[0m\u001b[0mRow\u001b[0m\u001b[0;34m(\u001b[0m\u001b[0mf1\u001b[0m\u001b[0;34m=\u001b[0m\u001b[0;36m1\u001b[0m\u001b[0;34m,\u001b[0m \u001b[0mf2\u001b[0m\u001b[0;34m=\u001b[0m\u001b[0;34mu'row1'\u001b[0m\u001b[0;34m)\u001b[0m\u001b[0;34m,\u001b[0m \u001b[0mRow\u001b[0m\u001b[0;34m(\u001b[0m\u001b[0mf1\u001b[0m\u001b[0;34m=\u001b[0m\u001b[0;36m2\u001b[0m\u001b[0;34m,\u001b[0m \u001b[0mf2\u001b[0m\u001b[0;34m=\u001b[0m\u001b[0;34mu'row2'\u001b[0m\u001b[0;34m)\u001b[0m\u001b[0;34m,\u001b[0m \u001b[0mRow\u001b[0m\u001b[0;34m(\u001b[0m\u001b[0mf1\u001b[0m\u001b[0;34m=\u001b[0m\u001b[0;36m3\u001b[0m\u001b[0;34m,\u001b[0m \u001b[0mf2\u001b[0m\u001b[0;34m=\u001b[0m\u001b[0;34mu'row3'\u001b[0m\u001b[0;34m)\u001b[0m\u001b[0;34m]\u001b[0m\u001b[0;34m\u001b[0m\u001b[0m\n\u001b[1;32m    766\u001b[0m         \"\"\"\n\u001b[0;32m--> 767\u001b[0;31m         \u001b[0;32mreturn\u001b[0m \u001b[0mDataFrame\u001b[0m\u001b[0;34m(\u001b[0m\u001b[0mself\u001b[0m\u001b[0;34m.\u001b[0m\u001b[0m_jsparkSession\u001b[0m\u001b[0;34m.\u001b[0m\u001b[0msql\u001b[0m\u001b[0;34m(\u001b[0m\u001b[0msqlQuery\u001b[0m\u001b[0;34m)\u001b[0m\u001b[0;34m,\u001b[0m \u001b[0mself\u001b[0m\u001b[0;34m.\u001b[0m\u001b[0m_wrapped\u001b[0m\u001b[0;34m)\u001b[0m\u001b[0;34m\u001b[0m\u001b[0m\n\u001b[0m\u001b[1;32m    768\u001b[0m \u001b[0;34m\u001b[0m\u001b[0m\n\u001b[1;32m    769\u001b[0m     \u001b[0;34m@\u001b[0m\u001b[0msince\u001b[0m\u001b[0;34m(\u001b[0m\u001b[0;36m2.0\u001b[0m\u001b[0;34m)\u001b[0m\u001b[0;34m\u001b[0m\u001b[0m\n",
      "\u001b[0;32m~/opt/spark/python/lib/py4j-0.10.7-src.zip/py4j/java_gateway.py\u001b[0m in \u001b[0;36m__call__\u001b[0;34m(self, *args)\u001b[0m\n\u001b[1;32m   1255\u001b[0m         \u001b[0manswer\u001b[0m \u001b[0;34m=\u001b[0m \u001b[0mself\u001b[0m\u001b[0;34m.\u001b[0m\u001b[0mgateway_client\u001b[0m\u001b[0;34m.\u001b[0m\u001b[0msend_command\u001b[0m\u001b[0;34m(\u001b[0m\u001b[0mcommand\u001b[0m\u001b[0;34m)\u001b[0m\u001b[0;34m\u001b[0m\u001b[0m\n\u001b[1;32m   1256\u001b[0m         return_value = get_return_value(\n\u001b[0;32m-> 1257\u001b[0;31m             answer, self.gateway_client, self.target_id, self.name)\n\u001b[0m\u001b[1;32m   1258\u001b[0m \u001b[0;34m\u001b[0m\u001b[0m\n\u001b[1;32m   1259\u001b[0m         \u001b[0;32mfor\u001b[0m \u001b[0mtemp_arg\u001b[0m \u001b[0;32min\u001b[0m \u001b[0mtemp_args\u001b[0m\u001b[0;34m:\u001b[0m\u001b[0;34m\u001b[0m\u001b[0m\n",
      "\u001b[0;32m~/opt/spark/python/pyspark/sql/utils.py\u001b[0m in \u001b[0;36mdeco\u001b[0;34m(*a, **kw)\u001b[0m\n\u001b[1;32m     67\u001b[0m                                              e.java_exception.getStackTrace()))\n\u001b[1;32m     68\u001b[0m             \u001b[0;32mif\u001b[0m \u001b[0ms\u001b[0m\u001b[0;34m.\u001b[0m\u001b[0mstartswith\u001b[0m\u001b[0;34m(\u001b[0m\u001b[0;34m'org.apache.spark.sql.AnalysisException: '\u001b[0m\u001b[0;34m)\u001b[0m\u001b[0;34m:\u001b[0m\u001b[0;34m\u001b[0m\u001b[0m\n\u001b[0;32m---> 69\u001b[0;31m                 \u001b[0;32mraise\u001b[0m \u001b[0mAnalysisException\u001b[0m\u001b[0;34m(\u001b[0m\u001b[0ms\u001b[0m\u001b[0;34m.\u001b[0m\u001b[0msplit\u001b[0m\u001b[0;34m(\u001b[0m\u001b[0;34m': '\u001b[0m\u001b[0;34m,\u001b[0m \u001b[0;36m1\u001b[0m\u001b[0;34m)\u001b[0m\u001b[0;34m[\u001b[0m\u001b[0;36m1\u001b[0m\u001b[0;34m]\u001b[0m\u001b[0;34m,\u001b[0m \u001b[0mstackTrace\u001b[0m\u001b[0;34m)\u001b[0m\u001b[0;34m\u001b[0m\u001b[0m\n\u001b[0m\u001b[1;32m     70\u001b[0m             \u001b[0;32mif\u001b[0m \u001b[0ms\u001b[0m\u001b[0;34m.\u001b[0m\u001b[0mstartswith\u001b[0m\u001b[0;34m(\u001b[0m\u001b[0;34m'org.apache.spark.sql.catalyst.analysis'\u001b[0m\u001b[0;34m)\u001b[0m\u001b[0;34m:\u001b[0m\u001b[0;34m\u001b[0m\u001b[0m\n\u001b[1;32m     71\u001b[0m                 \u001b[0;32mraise\u001b[0m \u001b[0mAnalysisException\u001b[0m\u001b[0;34m(\u001b[0m\u001b[0ms\u001b[0m\u001b[0;34m.\u001b[0m\u001b[0msplit\u001b[0m\u001b[0;34m(\u001b[0m\u001b[0;34m': '\u001b[0m\u001b[0;34m,\u001b[0m \u001b[0;36m1\u001b[0m\u001b[0;34m)\u001b[0m\u001b[0;34m[\u001b[0m\u001b[0;36m1\u001b[0m\u001b[0;34m]\u001b[0m\u001b[0;34m,\u001b[0m \u001b[0mstackTrace\u001b[0m\u001b[0;34m)\u001b[0m\u001b[0;34m\u001b[0m\u001b[0m\n",
      "\u001b[0;31mAnalysisException\u001b[0m: 'org.apache.hadoop.hive.metastore.api.AlreadyExistsException: Database pydb already exists;'"
     ]
    }
   ],
   "source": [
    "spark.sql('CREATE DATABASE pydb')\n",
    "spark.sql('USE pydb')"
   ]
  },
  {
   "cell_type": "code",
   "execution_count": 22,
   "metadata": {},
   "outputs": [],
   "source": [
    "#Cambiamos el nombre de la columna para que no de problemas y guardamos\n",
    "google_play_df.withColumnRenamed('Content Rating', 'Content_Rating').write.saveAsTable('google')"
   ]
  },
  {
   "cell_type": "code",
   "execution_count": 23,
   "metadata": {},
   "outputs": [],
   "source": [
    "#Lo mismo con este otro dataframe\n",
    "app_reviews_df.withColumnRenamed('Translated Review', 'Translated_Review').write.saveAsTable('App_reviews')"
   ]
  },
  {
   "cell_type": "code",
   "execution_count": 30,
   "metadata": {},
   "outputs": [
    {
     "name": "stdout",
     "output_type": "stream",
     "text": [
      "+--------------------+--------------+\n",
      "|                 App|      Category|\n",
      "+--------------------+--------------+\n",
      "|U Launcher Lite –...|ART_AND_DESIGN|\n",
      "|Sketch - Draw & P...|ART_AND_DESIGN|\n",
      "|Pixel Draw - Numb...|ART_AND_DESIGN|\n",
      "|Paper flowers ins...|ART_AND_DESIGN|\n",
      "|Garden Coloring Book|ART_AND_DESIGN|\n",
      "|Kids Paint Free -...|ART_AND_DESIGN|\n",
      "|Text on Photo - F...|ART_AND_DESIGN|\n",
      "|Name Art Photo Ed...|ART_AND_DESIGN|\n",
      "|Tattoo Name On My...|ART_AND_DESIGN|\n",
      "|Mandala Coloring ...|ART_AND_DESIGN|\n",
      "|3D Color Pixel by...|ART_AND_DESIGN|\n",
      "|Photo Designer - ...|ART_AND_DESIGN|\n",
      "|350 Diy Room Deco...|ART_AND_DESIGN|\n",
      "|FlipaClip - Carto...|ART_AND_DESIGN|\n",
      "|        ibis Paint X|ART_AND_DESIGN|\n",
      "|Superheroes Wallp...|ART_AND_DESIGN|\n",
      "|HD Mickey Minnie ...|ART_AND_DESIGN|\n",
      "|Harley Quinn wall...|ART_AND_DESIGN|\n",
      "|Colorfit - Drawin...|ART_AND_DESIGN|\n",
      "|Pink Silver Bow K...|ART_AND_DESIGN|\n",
      "+--------------------+--------------+\n",
      "only showing top 20 rows\n",
      "\n"
     ]
    }
   ],
   "source": [
    "#Realizamos la consulta con las columnas y condicion pedida y la mostramos por pantalla\n",
    "google_df=spark.sql('SELECT App, Category FROM google WHERE Rating>=4.2').show()"
   ]
  },
  {
   "cell_type": "code",
   "execution_count": 42,
   "metadata": {},
   "outputs": [
    {
     "name": "stdout",
     "output_type": "stream",
     "text": [
      "+----+--------------+--------------+------+\n",
      "|Type|      Category|Content_Rating|Rating|\n",
      "+----+--------------+--------------+------+\n",
      "|Free|ART_AND_DESIGN|      Everyone|   4.1|\n",
      "|Free|ART_AND_DESIGN|      Everyone|   3.9|\n",
      "|Free|ART_AND_DESIGN|      Everyone|   4.7|\n",
      "|Free|ART_AND_DESIGN|          Teen|   4.5|\n",
      "|Free|ART_AND_DESIGN|      Everyone|   4.3|\n",
      "|Free|ART_AND_DESIGN|      Everyone|   4.4|\n",
      "|Free|ART_AND_DESIGN|      Everyone|   3.8|\n",
      "|Free|ART_AND_DESIGN|      Everyone|   4.1|\n",
      "|Free|ART_AND_DESIGN|      Everyone|   4.4|\n",
      "|Free|ART_AND_DESIGN|      Everyone|   4.7|\n",
      "|Free|ART_AND_DESIGN|      Everyone|   4.4|\n",
      "|Free|ART_AND_DESIGN|      Everyone|   4.4|\n",
      "|Free|ART_AND_DESIGN|          Teen|   4.2|\n",
      "|Free|ART_AND_DESIGN|      Everyone|   4.6|\n",
      "|Free|ART_AND_DESIGN|      Everyone|   4.4|\n",
      "|Free|ART_AND_DESIGN|      Everyone|   3.2|\n",
      "|Free|ART_AND_DESIGN|      Everyone|   4.7|\n",
      "|Free|ART_AND_DESIGN|      Everyone|   4.5|\n",
      "|Free|ART_AND_DESIGN|      Everyone|   4.3|\n",
      "|Free|ART_AND_DESIGN|      Everyone|   4.6|\n",
      "+----+--------------+--------------+------+\n",
      "only showing top 20 rows\n",
      "\n"
     ]
    },
    {
     "ename": "AttributeError",
     "evalue": "'NoneType' object has no attribute 'select'",
     "output_type": "error",
     "traceback": [
      "\u001b[0;31m---------------------------------------------------------------------------\u001b[0m",
      "\u001b[0;31mAttributeError\u001b[0m                            Traceback (most recent call last)",
      "\u001b[0;32m<ipython-input-42-fd48d94efdf9>\u001b[0m in \u001b[0;36m<module>\u001b[0;34m\u001b[0m\n\u001b[1;32m      2\u001b[0m \u001b[0mno_null_df\u001b[0m \u001b[0;34m=\u001b[0m \u001b[0mspark\u001b[0m\u001b[0;34m.\u001b[0m\u001b[0msql\u001b[0m\u001b[0;34m(\u001b[0m\u001b[0;34m'SELECT Type, Category, Content_Rating, Rating FROM google'\u001b[0m\u001b[0;34m)\u001b[0m\u001b[0;34m.\u001b[0m\u001b[0mdropna\u001b[0m\u001b[0;34m(\u001b[0m\u001b[0;34m'any'\u001b[0m\u001b[0;34m,\u001b[0m \u001b[0msubset\u001b[0m\u001b[0;34m=\u001b[0m\u001b[0;34m[\u001b[0m\u001b[0;34m'Type'\u001b[0m\u001b[0;34m,\u001b[0m \u001b[0;34m'Category'\u001b[0m\u001b[0;34m]\u001b[0m\u001b[0;34m)\u001b[0m\u001b[0;34m.\u001b[0m\u001b[0mshow\u001b[0m\u001b[0;34m(\u001b[0m\u001b[0;34m)\u001b[0m\u001b[0;34m\u001b[0m\u001b[0m\n\u001b[1;32m      3\u001b[0m \u001b[0;31m#Nos quedamos solo con las columnas Type, Category, Content Rating y Rating\u001b[0m\u001b[0;34m\u001b[0m\u001b[0;34m\u001b[0m\u001b[0m\n\u001b[0;32m----> 4\u001b[0;31m \u001b[0mnew_df2\u001b[0m \u001b[0;34m=\u001b[0m \u001b[0mno_null_df\u001b[0m\u001b[0;34m.\u001b[0m\u001b[0mselect\u001b[0m\u001b[0;34m(\u001b[0m\u001b[0;34m'Type'\u001b[0m\u001b[0;34m,\u001b[0m \u001b[0;34m'Category'\u001b[0m\u001b[0;34m,\u001b[0m\u001b[0;34m'Content_Rating'\u001b[0m\u001b[0;34m,\u001b[0m\u001b[0;34m'Rating'\u001b[0m\u001b[0;34m)\u001b[0m\u001b[0;34m\u001b[0m\u001b[0m\n\u001b[0m\u001b[1;32m      5\u001b[0m \u001b[0;31m#Obtenemos la media para Type\u001b[0m\u001b[0;34m\u001b[0m\u001b[0;34m\u001b[0m\u001b[0m\n\u001b[1;32m      6\u001b[0m \u001b[0mnew_df2\u001b[0m\u001b[0;34m.\u001b[0m\u001b[0mgroupBy\u001b[0m\u001b[0;34m(\u001b[0m\u001b[0mcol\u001b[0m\u001b[0;34m(\u001b[0m\u001b[0;34m'Type'\u001b[0m\u001b[0;34m)\u001b[0m\u001b[0;34m)\u001b[0m\u001b[0;34m.\u001b[0m\u001b[0magg\u001b[0m\u001b[0;34m(\u001b[0m\u001b[0mexpr\u001b[0m\u001b[0;34m(\u001b[0m\u001b[0;34m'mean(Rating)'\u001b[0m\u001b[0;34m)\u001b[0m\u001b[0;34m)\u001b[0m\u001b[0;34m.\u001b[0m\u001b[0mshow\u001b[0m\u001b[0;34m(\u001b[0m\u001b[0;34m)\u001b[0m\u001b[0;34m\u001b[0m\u001b[0m\n",
      "\u001b[0;31mAttributeError\u001b[0m: 'NoneType' object has no attribute 'select'"
     ]
    }
   ],
   "source": [
    "google_df=spark.sql('SELECT App, Category FROM google WHERE Rating>=4.2')\n",
    "no_null_df = spark.sql('SELECT Type, Category, Content_Rating, Rating FROM google').dropna('any', subset=['Type', 'Category']).show()\n",
    "#Nos quedamos solo con las columnas Type, Category, Content Rating y Rating\n",
    "new_df2 = no_null_df.select('Type', 'Category','Content_Rating','Rating')\n",
    "#Obtenemos la media para Type\n",
    "new_df2.groupBy(col('Type')).agg(expr('mean(Rating)')).show()\n",
    "#Obtenemos la media para Category\n",
    "new_df2.groupBy(col('Category')).agg(expr('mean(Rating)')).show()\n",
    "#Obtenemos la media para Content Rating\n",
    "new_df2.groupBy(col('Content Rating')).agg(expr('mean(Rating)')).show()"
   ]
  },
  {
   "cell_type": "code",
   "execution_count": null,
   "metadata": {},
   "outputs": [],
   "source": [
    "#Unimos los dos dataframes por los nombres de las app\n",
    "polarity_category_df = google_play_df.join( app_reviews_df, google_play_df.App == app_reviews_df.App, how='inner').distinct()\n",
    "#Nos quedamos solo con las columnas necesarias\n",
    "final_df=polarity_category_df.select('Content Rating','Sentiment_polarity')\n",
    "#Calculamos la media\n",
    "final_df.groupBy(col('Content Rating')).agg(expr('mean(Sentiment_polarity)')).show()\n",
    "#Calculamos desviación\n",
    "final_df.groupBy(col('Content Rating')).agg(expr('var_pop(Sentiment_polarity)')).show("
   ]
  },
  {
   "cell_type": "code",
   "execution_count": null,
   "metadata": {},
   "outputs": [],
   "source": []
  },
  {
   "cell_type": "code",
   "execution_count": null,
   "metadata": {},
   "outputs": [],
   "source": []
  },
  {
   "cell_type": "code",
   "execution_count": null,
   "metadata": {},
   "outputs": [],
   "source": []
  },
  {
   "cell_type": "code",
   "execution_count": null,
   "metadata": {},
   "outputs": [],
   "source": []
  },
  {
   "cell_type": "code",
   "execution_count": null,
   "metadata": {},
   "outputs": [],
   "source": []
  },
  {
   "cell_type": "code",
   "execution_count": null,
   "metadata": {},
   "outputs": [],
   "source": []
  }
 ],
 "metadata": {
  "kernelspec": {
   "display_name": "Python 3",
   "language": "python",
   "name": "python3"
  },
  "language_info": {
   "codemirror_mode": {
    "name": "ipython",
    "version": 3
   },
   "file_extension": ".py",
   "mimetype": "text/x-python",
   "name": "python",
   "nbconvert_exporter": "python",
   "pygments_lexer": "ipython3",
   "version": "3.7.0"
  }
 },
 "nbformat": 4,
 "nbformat_minor": 2
}
