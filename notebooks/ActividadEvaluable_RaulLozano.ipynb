{
 "cells": [
  {
   "cell_type": "code",
   "execution_count": 74,
   "metadata": {},
   "outputs": [],
   "source": [
    "from pyspark.sql.types import *\n",
    "from pyspark.sql.functions import expr, col, desc, lower, instr"
   ]
  },
  {
   "cell_type": "code",
   "execution_count": 75,
   "metadata": {},
   "outputs": [],
   "source": [
    "google_play_df = spark.read.csv('../data/googleplaystore.csv', header=True, inferSchema=True, nullValue='', sep=',')"
   ]
  },
  {
   "cell_type": "code",
   "execution_count": 76,
   "metadata": {},
   "outputs": [],
   "source": [
    "schema = StructType( [\n",
    "    StructField('App', StringType()),\n",
    "    StructField('Translated Review', StringType()),\n",
    "    StructField('Sentiment', StringType() ),\n",
    "    StructField('Sentiment_Polarity', DoubleType()),\n",
    "    StructField('Sentiment_Subjectivity', DoubleType())\n",
    "] )\n",
    "app_reviews_df = spark.read.csv('../data/googleplaystore_user_reviews.csv', sep=',', schema=schema, header=True)"
   ]
  },
  {
   "cell_type": "code",
   "execution_count": 77,
   "metadata": {},
   "outputs": [],
   "source": [
    "google_play_df = google_play_df.withColumn('Price', expr('double(replace(Price,\"\\$\",\"\"))'))\n",
    "google_play_df = google_play_df.withColumn('Installs', expr('double(replace(replace(Installs, \"+\", \"\"), \",\", \"\"))') )\n",
    "google_play_df=google_play_df.withColumn('Size', expr('double(replace(replace(Size,\"M\",\"000\"),\"K\",\"\"))'))\n",
    "google_play_df=google_play_df.drop('Android Ver')\n",
    "google_play_df=google_play_df.drop('Genres')\n",
    "google_play_df=google_play_df.drop('Last Updated')\n",
    "google_play_df=google_play_df.drop('Current Ver')"
   ]
  },
  {
   "cell_type": "markdown",
   "metadata": {},
   "source": [
    "1. Ejercicio 1. Usamos un filter para filtrar por la condición dada y nos quedamos con las columnas App y Category"
   ]
  },
  {
   "cell_type": "code",
   "execution_count": 78,
   "metadata": {},
   "outputs": [
    {
     "name": "stdout",
     "output_type": "stream",
     "text": [
      "+--------------------+--------------+\n",
      "|                 App|      Category|\n",
      "+--------------------+--------------+\n",
      "|U Launcher Lite –...|ART_AND_DESIGN|\n",
      "|Sketch - Draw & P...|ART_AND_DESIGN|\n",
      "|Pixel Draw - Numb...|ART_AND_DESIGN|\n",
      "|Paper flowers ins...|ART_AND_DESIGN|\n",
      "|Garden Coloring Book|ART_AND_DESIGN|\n",
      "+--------------------+--------------+\n",
      "only showing top 5 rows\n",
      "\n"
     ]
    }
   ],
   "source": [
    "google_play_df_1 = google_play_df.filter(expr('Rating>=4.2')).select('App', 'Category')\n",
    "google_play_df_1.show(5)"
   ]
  },
  {
   "cell_type": "markdown",
   "metadata": {},
   "source": [
    "2. Ejercicio 2. Usamos filter para filtrar por la cndición y con count obtenemos el número de registros"
   ]
  },
  {
   "cell_type": "code",
   "execution_count": 79,
   "metadata": {},
   "outputs": [
    {
     "data": {
      "text/plain": [
       "5085"
      ]
     },
     "execution_count": 79,
     "metadata": {},
     "output_type": "execute_result"
    }
   ],
   "source": [
    "google_play_df_2_count = google_play_df.filter(expr('Size>10000')).count()\n",
    "google_play_df_2_count"
   ]
  },
  {
   "cell_type": "markdown",
   "metadata": {},
   "source": [
    "3. Ejercicio 3. Con dropna eliminamos las filas que tengan un valor nulo en Type o Category. Agrupamos por Type, Category y Content Rating y por cada tripleta calculamos la media de Rating"
   ]
  },
  {
   "cell_type": "code",
   "execution_count": 80,
   "metadata": {},
   "outputs": [
    {
     "name": "stdout",
     "output_type": "stream",
     "text": [
      "+----+-------------------+--------------+------------------+\n",
      "|Type|           Category|Content Rating|      mean(Rating)|\n",
      "+----+-------------------+--------------+------------------+\n",
      "|Free|             DATING|          Teen|3.5999999999999996|\n",
      "|Free|          EDUCATION|      Everyone| 4.374820143884892|\n",
      "|Free|       PRODUCTIVITY|  Everyone 10+|               3.6|\n",
      "|Free|      ENTERTAINMENT|  Everyone 10+|               4.1|\n",
      "|Free|          LIFESTYLE|      Everyone| 4.070037453183519|\n",
      "|Paid|          EDUCATION|      Everyone|              4.75|\n",
      "|Free|              TOOLS|    Mature 17+|               3.7|\n",
      "|Paid|          LIFESTYLE|          Teen|               5.0|\n",
      "|Free|BOOKS_AND_REFERENCE|          Teen|4.3050000000000015|\n",
      "|Free|    PERSONALIZATION|      Everyone|4.2849514563106785|\n",
      "|Free|             DATING|      Everyone| 4.266666666666667|\n",
      "|Free|     FOOD_AND_DRINK|      Everyone| 4.142857142857143|\n",
      "|Free|        PHOTOGRAPHY|      Everyone| 4.193971631205671|\n",
      "|Free|   TRAVEL_AND_LOCAL|    Mature 17+|               4.6|\n",
      "|Free| NEWS_AND_MAGAZINES|  Everyone 10+| 4.079687500000001|\n",
      "|Free|     ART_AND_DESIGN|  Everyone 10+|               4.7|\n",
      "|Free|      ENTERTAINMENT|    Mature 17+|              4.15|\n",
      "|Paid|               GAME|      Everyone| 4.336585365853659|\n",
      "|Free|   TRAVEL_AND_LOCAL|      Everyone| 4.108490566037735|\n",
      "|Free|       PRODUCTIVITY|          Teen| 4.050000000000001|\n",
      "+----+-------------------+--------------+------------------+\n",
      "only showing top 20 rows\n",
      "\n"
     ]
    }
   ],
   "source": [
    "google_play_df_3 = google_play_df.dropna('any', subset=['Type', 'Category']).groupby(col('Type'), col('Category'), col('Content Rating')).agg(expr('mean(Rating)'))\n",
    "google_play_df_3.show()"
   ]
  },
  {
   "cell_type": "markdown",
   "metadata": {},
   "source": [
    "4. Ejercicio 4. Con dropna quitamos las filas con valores nulos en el campo Type. Usamos crosstab para crear la tabla de contigencia entre Content Rating y Type"
   ]
  },
  {
   "cell_type": "code",
   "execution_count": 81,
   "metadata": {},
   "outputs": [
    {
     "name": "stdout",
     "output_type": "stream",
     "text": [
      "+-------------------+----+----+\n",
      "|Content Rating_Type|Free|Paid|\n",
      "+-------------------+----+----+\n",
      "|            Unrated|   2|   0|\n",
      "|         Mature 17+| 479|  20|\n",
      "|       Everyone 10+| 380|  33|\n",
      "|    Adults only 18+|   3|   0|\n",
      "|           Everyone|8020| 695|\n",
      "|               Teen|1156|  52|\n",
      "+-------------------+----+----+\n",
      "\n"
     ]
    }
   ],
   "source": [
    "google_play_df_4 = google_play_df.dropna('any', subset=['Type']).crosstab('Content Rating', 'Type')\n",
    "google_play_df_4.show()"
   ]
  },
  {
   "cell_type": "markdown",
   "metadata": {},
   "source": [
    "5. Ejercicio 5. Creamos un dataframe temporal que agrupe por categoría y calcule la media de Rating por cada categoría. Unimos este dataframe con el original por el campo Category y con flter filtranos aquellos registros cuyo Rating es mayor que la media de Ratings de su categoría. Tras esto, nos quedamos con el campo App a través de select"
   ]
  },
  {
   "cell_type": "code",
   "execution_count": 82,
   "metadata": {},
   "outputs": [
    {
     "name": "stdout",
     "output_type": "stream",
     "text": [
      "+--------------------+\n",
      "|                 App|\n",
      "+--------------------+\n",
      "|U Launcher Lite –...|\n",
      "|Sketch - Draw & P...|\n",
      "|Paper flowers ins...|\n",
      "|Garden Coloring Book|\n",
      "|Kids Paint Free -...|\n",
      "|Text on Photo - F...|\n",
      "|Name Art Photo Ed...|\n",
      "|Mandala Coloring ...|\n",
      "|3D Color Pixel by...|\n",
      "|Photo Designer - ...|\n",
      "|350 Diy Room Deco...|\n",
      "|        ibis Paint X|\n",
      "|Superheroes Wallp...|\n",
      "|HD Mickey Minnie ...|\n",
      "|Harley Quinn wall...|\n",
      "|Colorfit - Drawin...|\n",
      "|Anime Manga Color...|\n",
      "|     I Creative Idea|\n",
      "|UNICORN - Color B...|\n",
      "|PIP Camera - PIP ...|\n",
      "+--------------------+\n",
      "only showing top 20 rows\n",
      "\n"
     ]
    }
   ],
   "source": [
    "google_play_df_5_temp = google_play_df.groupby(col('Category')).agg(expr('mean(Rating)')).withColumnRenamed('Category', 'CategoryR')\n",
    "google_play_df_5 = google_play_df.join(google_play_df_5_temp, google_play_df.Category == google_play_df_5_temp.CategoryR, how='inner').drop('CategoryR').filter(col('Rating') > col('mean(Rating)')).select('App')\n",
    "google_play_df_5.show()"
   ]
  },
  {
   "cell_type": "markdown",
   "metadata": {},
   "source": [
    "6. Ejercicio 6. Primero, obtenemos aquellas aplicaciones que tengan más de 300 reviews a través de filter. Por otro lado, obtenemos las reviews cuya polaridad sea 1. Unimos estos dos datasets de modo que tengamos tantas filas como reviews filtradas, y mediante dropDuplicates, quitamos aquellas filas en las que se repita App (ya que hay aplicaciones con más de un comentario con polaridad = 1). Tras esto, nos quedamos con los campos App y Category"
   ]
  },
  {
   "cell_type": "code",
   "execution_count": 83,
   "metadata": {},
   "outputs": [
    {
     "name": "stdout",
     "output_type": "stream",
     "text": [
      "+--------------------+------------------+\n",
      "|                 App|          Category|\n",
      "+--------------------+------------------+\n",
      "|  Floor Plan Creator|    ART_AND_DESIGN|\n",
      "|AOL - News, Mail ...|NEWS_AND_MAGAZINES|\n",
      "|      Epocrates Plus|           MEDICAL|\n",
      "|       File Explorer|      PRODUCTIVITY|\n",
      "|            Arrow.io|              GAME|\n",
      "|CALCU™ Stylish Ca...|             TOOLS|\n",
      "|FilterGrid - Cam&...|       PHOTOGRAPHY|\n",
      "|BELONG Beating Ca...|           MEDICAL|\n",
      "|      Bubble Shooter|              GAME|\n",
      "|Football Live Scores|            SPORTS|\n",
      "|     Amazon Shopping|          SHOPPING|\n",
      "|Basketball FRVR -...|            FAMILY|\n",
      "|CM Launcher 3D - ...|   PERSONALIZATION|\n",
      "|Dog Licks Screen ...|   PERSONALIZATION|\n",
      "|Drugs.com Medicat...|           MEDICAL|\n",
      "|           A+ Mobile|           FINANCE|\n",
      "|             Dropbox|      PRODUCTIVITY|\n",
      "|2GIS: directory &...|  TRAVEL_AND_LOCAL|\n",
      "|         Alarm Clock|             TOOLS|\n",
      "|       Baseball Boy!|              GAME|\n",
      "+--------------------+------------------+\n",
      "only showing top 20 rows\n",
      "\n"
     ]
    }
   ],
   "source": [
    "google_play_df_6_temp = google_play_df.filter(expr('Reviews>300')).withColumnRenamed('App', 'AppR')\n",
    "app_reviews_df_6 = app_reviews_df.filter(expr('Sentiment_Polarity=1'))\n",
    "google_play_df_6 = app_reviews_df_6.join(google_play_df_6_temp, app_reviews_df_6.App == google_play_df_6_temp.AppR, how=\"inner\").dropDuplicates(subset=['App']).select('App', 'Category')\n",
    "google_play_df_6.show()"
   ]
  },
  {
   "cell_type": "markdown",
   "metadata": {},
   "source": [
    "7. Ejercicio 7. Con dropna, quitamos aquellas filas en las que en el campo Translated Review sea nulo. Tras esto, mapeamos con withColumn dicho campo a su mismo valor usando minúsculas con la función lower. Creamos una columna hasGreat que, mediante la función instr, determine si contiene la ristra 'great'. Filtramos aquellasfilas cuyo valor de hasgReat sea mayor que 0, ya que un 0 indica que no encontró coincidencias con 'great'. Tras esto, con dropDuplicates nos quedamos con una fila por aplicación, y nos quedamos con el campo App."
   ]
  },
  {
   "cell_type": "code",
   "execution_count": 84,
   "metadata": {},
   "outputs": [
    {
     "name": "stdout",
     "output_type": "stream",
     "text": [
      "+--------------------+\n",
      "|                 App|\n",
      "+--------------------+\n",
      "|BaBe+ - Berita In...|\n",
      "|    Basketball Stars|\n",
      "|Davis's Drug Guid...|\n",
      "|Find&Save - Local...|\n",
      "|  Floor Plan Creator|\n",
      "|     Candy Pop Story|\n",
      "|Cricbuzz - Live C...|\n",
      "|        Google Earth|\n",
      "|    Homework Planner|\n",
      "|      Epocrates Plus|\n",
      "|            Arrow.io|\n",
      "|CALCU™ Stylish Ca...|\n",
      "|FilterGrid - Cam&...|\n",
      "|Golf GPS Rangefin...|\n",
      "|BELONG Beating Ca...|\n",
      "|      Bubble Shooter|\n",
      "|Football Live Scores|\n",
      "|     Amazon Shopping|\n",
      "|CM Launcher 3D - ...|\n",
      "|Dream League Socc...|\n",
      "+--------------------+\n",
      "only showing top 20 rows\n",
      "\n"
     ]
    }
   ],
   "source": [
    "app_reviews_df_7 = app_reviews_df.dropna('any', subset=['Translated Review']).withColumn('Translated Review', lower(col('Translated Review'))).withColumn('hasGreat', instr(col('Translated Review'), 'great')).filter(expr('hasGreat>0')).dropDuplicates(subset=['App']).select('App')\n",
    "app_reviews_df_7.show()"
   ]
  },
  {
   "cell_type": "markdown",
   "metadata": {},
   "source": [
    "8. Ejercicio 8. Con la función corr obtenemos el coeficiente de correlación de Pearson"
   ]
  },
  {
   "cell_type": "code",
   "execution_count": 85,
   "metadata": {},
   "outputs": [
    {
     "data": {
      "text/plain": [
       "0.10658246952806998"
      ]
     },
     "execution_count": 85,
     "metadata": {},
     "output_type": "execute_result"
    }
   ],
   "source": [
    "corr_8 = google_play_df.corr('Rating', 'Size')\n",
    "corr_8"
   ]
  },
  {
   "cell_type": "markdown",
   "metadata": {},
   "source": [
    "La correlación nos da un valor de 0.1066, lo que significa que las columnas están muy poco correlacionadas, ya que no se acerca ni a 1 ni a -1."
   ]
  },
  {
   "cell_type": "markdown",
   "metadata": {},
   "source": [
    "9. Ejercicio 9. Unimos el dataset de las aplicaciones con el de las reviews a través del capo App- Nos quedamos con el campo Content Rating y Sentiment_Polarity. Agrupamos por Content Rating y sobre esta agrupación, calculamos la media y la desviación estándar de Sentiment_Polarity con mean y stddev_samp respectivamente"
   ]
  },
  {
   "cell_type": "code",
   "execution_count": 86,
   "metadata": {},
   "outputs": [
    {
     "name": "stdout",
     "output_type": "stream",
     "text": [
      "+---------------+------------------------+-------------------------------+\n",
      "| Content Rating|mean(Sentiment_Polarity)|stddev_samp(Sentiment_Polarity)|\n",
      "+---------------+------------------------+-------------------------------+\n",
      "|           Teen|     0.12102082880135945|            0.30982467421170184|\n",
      "|     Mature 17+|     0.16858084745627555|             0.3678941965284479|\n",
      "|   Everyone 10+|     0.13200213901805052|            0.31099070220385955|\n",
      "|       Everyone|     0.16477698031357257|            0.33459519837814994|\n",
      "|Adults only 18+|     0.31233355379188715|              0.334873921904287|\n",
      "+---------------+------------------------+-------------------------------+\n",
      "\n"
     ]
    }
   ],
   "source": [
    "google_play_df_9 = google_play_df.select('App', 'Content Rating').withColumnRenamed('App', 'AppR')\n",
    "joined_df_9 = app_reviews_df.join(google_play_df_9, app_reviews_df.App == google_play_df_9.AppR, how=\"inner\").select('Content Rating', 'Sentiment_Polarity').groupby(col('Content Rating')).agg(expr('mean(Sentiment_Polarity)'), expr('stddev_samp(Sentiment_Polarity)'))\n",
    "joined_df_9.show()"
   ]
  },
  {
   "cell_type": "markdown",
   "metadata": {},
   "source": [
    "10. Ejercicio 10. Creamos la tabla temporal con createOrReplaceTempView"
   ]
  },
  {
   "cell_type": "code",
   "execution_count": 87,
   "metadata": {},
   "outputs": [],
   "source": [
    "google_play_df.withColumnRenamed('Content Rating', 'Content_Rating').createOrReplaceTempView('GooglePlay')"
   ]
  },
  {
   "cell_type": "markdown",
   "metadata": {},
   "source": [
    "11. Ejercicio 11. Creamos la tabla temporal con createOrReplaceTempView"
   ]
  },
  {
   "cell_type": "code",
   "execution_count": 42,
   "metadata": {},
   "outputs": [],
   "source": [
    "app_reviews_df.createOrReplaceTempView('Reviews')"
   ]
  },
  {
   "cell_type": "markdown",
   "metadata": {},
   "source": [
    "12. Ejercicio 12"
   ]
  },
  {
   "cell_type": "code",
   "execution_count": 50,
   "metadata": {},
   "outputs": [
    {
     "name": "stdout",
     "output_type": "stream",
     "text": [
      "+--------------------+--------------+\n",
      "|                 App|      Category|\n",
      "+--------------------+--------------+\n",
      "|U Launcher Lite –...|ART_AND_DESIGN|\n",
      "|Sketch - Draw & P...|ART_AND_DESIGN|\n",
      "|Pixel Draw - Numb...|ART_AND_DESIGN|\n",
      "|Paper flowers ins...|ART_AND_DESIGN|\n",
      "|Garden Coloring Book|ART_AND_DESIGN|\n",
      "+--------------------+--------------+\n",
      "only showing top 5 rows\n",
      "\n"
     ]
    }
   ],
   "source": [
    "google_play_df_12 = spark.sql('SELECT App, Category FROM GooglePlay WHERE Rating >= 4.2')\n",
    "google_play_df_12.show(5)"
   ]
  },
  {
   "cell_type": "markdown",
   "metadata": {},
   "source": [
    "13. Ejercicio 13. Cabe destacar el uso de AVG(Rating) que calcula la media de este campo y GROUP BY, que permite agrupar por campos"
   ]
  },
  {
   "cell_type": "code",
   "execution_count": 88,
   "metadata": {},
   "outputs": [
    {
     "name": "stdout",
     "output_type": "stream",
     "text": [
      "+----+-------------------+--------------+------------------+\n",
      "|Type|           Category|Content_Rating|       avg(Rating)|\n",
      "+----+-------------------+--------------+------------------+\n",
      "|Free|             DATING|          Teen|3.5999999999999996|\n",
      "|Free|          EDUCATION|      Everyone| 4.374820143884892|\n",
      "|Free|       PRODUCTIVITY|  Everyone 10+|               3.6|\n",
      "|Free|      ENTERTAINMENT|  Everyone 10+|               4.1|\n",
      "|Free|          LIFESTYLE|      Everyone| 4.070037453183519|\n",
      "|Paid|          EDUCATION|      Everyone|              4.75|\n",
      "|Free|              TOOLS|    Mature 17+|               3.7|\n",
      "|Paid|          LIFESTYLE|          Teen|               5.0|\n",
      "|Free|BOOKS_AND_REFERENCE|          Teen|4.3050000000000015|\n",
      "|Free|    PERSONALIZATION|      Everyone|4.2849514563106785|\n",
      "|Free|             DATING|      Everyone| 4.266666666666667|\n",
      "|Free|     FOOD_AND_DRINK|      Everyone| 4.142857142857143|\n",
      "|Free|        PHOTOGRAPHY|      Everyone| 4.193971631205671|\n",
      "|Free|   TRAVEL_AND_LOCAL|    Mature 17+|               4.6|\n",
      "|Free| NEWS_AND_MAGAZINES|  Everyone 10+| 4.079687500000001|\n",
      "|Free|     ART_AND_DESIGN|  Everyone 10+|               4.7|\n",
      "|Free|      ENTERTAINMENT|    Mature 17+|              4.15|\n",
      "|Paid|               GAME|      Everyone| 4.336585365853659|\n",
      "|Free|   TRAVEL_AND_LOCAL|      Everyone| 4.108490566037735|\n",
      "|Free|       PRODUCTIVITY|          Teen| 4.050000000000001|\n",
      "+----+-------------------+--------------+------------------+\n",
      "only showing top 20 rows\n",
      "\n"
     ]
    }
   ],
   "source": [
    "google_play_df_13 = spark.sql('SELECT Type, Category, Content_Rating, AVG(Rating) FROM GooglePlay WHERE Type is not NULL AND Category is not NULL GROUP BY Type, Category, Content_Rating')\n",
    "google_play_df_13.show()"
   ]
  },
  {
   "cell_type": "markdown",
   "metadata": {},
   "source": [
    "14. Ejercicio 14. Cabe destacar el uso de STD(Sentiment_Polarity), que permite calcular la desviación típica de esta columna"
   ]
  },
  {
   "cell_type": "code",
   "execution_count": 89,
   "metadata": {},
   "outputs": [
    {
     "name": "stdout",
     "output_type": "stream",
     "text": [
      "+---------------+-----------------------+-------------------------------+\n",
      "| Content_Rating|avg(Sentiment_Polarity)|stddev_samp(Sentiment_Polarity)|\n",
      "+---------------+-----------------------+-------------------------------+\n",
      "|           Teen|    0.12102082880135945|            0.30982467421170184|\n",
      "|     Mature 17+|    0.16858084745627555|             0.3678941965284479|\n",
      "|   Everyone 10+|    0.13200213901805052|            0.31099070220385955|\n",
      "|       Everyone|    0.16477698031357257|            0.33459519837814994|\n",
      "|Adults only 18+|    0.31233355379188715|              0.334873921904287|\n",
      "+---------------+-----------------------+-------------------------------+\n",
      "\n"
     ]
    }
   ],
   "source": [
    "google_play_df_14 = spark.sql('SELECT Content_Rating, AVG(Sentiment_Polarity), STD(Sentiment_Polarity) FROM Reviews INNER JOIN GooglePlay ON Reviews.App=GooglePlay.App GROUP BY Content_Rating')\n",
    "google_play_df_14.show()"
   ]
  },
  {
   "cell_type": "markdown",
   "metadata": {},
   "source": [
    "Eliminamos las tablas"
   ]
  },
  {
   "cell_type": "code",
   "execution_count": 90,
   "metadata": {},
   "outputs": [],
   "source": [
    "spark.catalog.dropTempView('GooglePlay')\n",
    "spark.catalog.dropTempView('Reviews')"
   ]
  },
  {
   "cell_type": "code",
   "execution_count": null,
   "metadata": {},
   "outputs": [],
   "source": []
  }
 ],
 "metadata": {
  "kernelspec": {
   "display_name": "Python 3",
   "language": "python",
   "name": "python3"
  },
  "language_info": {
   "codemirror_mode": {
    "name": "ipython",
    "version": 3
   },
   "file_extension": ".py",
   "mimetype": "text/x-python",
   "name": "python",
   "nbconvert_exporter": "python",
   "pygments_lexer": "ipython3",
   "version": "3.7.0"
  }
 },
 "nbformat": 4,
 "nbformat_minor": 2
}
