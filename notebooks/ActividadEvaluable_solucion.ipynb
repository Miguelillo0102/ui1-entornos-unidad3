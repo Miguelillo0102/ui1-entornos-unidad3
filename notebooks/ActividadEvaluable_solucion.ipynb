{
 "cells": [
  {
   "cell_type": "code",
   "execution_count": 2,
   "metadata": {},
   "outputs": [],
   "source": [
    "from pyspark.sql.types import *\n",
    "from pyspark.sql.functions import expr, col, desc, lower, instr"
   ]
  },
  {
   "cell_type": "code",
   "execution_count": 3,
   "metadata": {},
   "outputs": [],
   "source": [
    "google_play_df = spark.read.csv('../data/googleplaystore.csv', header=True, inferSchema=True, nullValue='', sep=',')"
   ]
  },
  {
   "cell_type": "code",
   "execution_count": 4,
   "metadata": {},
   "outputs": [],
   "source": [
    "schema = StructType( [\n",
    "    StructField('App', StringType()),\n",
    "    StructField('Translated Review', StringType()),\n",
    "    StructField('Sentiment', StringType() ),\n",
    "    StructField('Sentiment_Polarity', DoubleType()),\n",
    "    StructField('Sentiment_Subjectivity', DoubleType())\n",
    "] )\n",
    "app_reviews_df = spark.read.csv('../data/googleplaystore_user_reviews.csv', sep=',', schema=schema, header=True)"
   ]
  },
  {
   "cell_type": "code",
   "execution_count": 5,
   "metadata": {},
   "outputs": [],
   "source": [
    "google_play_df = google_play_df.withColumn('Price', expr('double(replace(Price,\"\\$\",\"\"))'))\n",
    "google_play_df = google_play_df.withColumn('Installs', expr('double(replace(replace(Installs, \"+\", \"\"), \",\", \"\"))') )\n",
    "google_play_df=google_play_df.withColumn('Size', expr('double(replace(replace(Size,\"M\",\"000\"),\"K\",\"\"))'))\n",
    "google_play_df=google_play_df.drop('Android Ver')\n",
    "google_play_df=google_play_df.drop('Genres')\n",
    "google_play_df=google_play_df.drop('Last Updated')\n",
    "google_play_df=google_play_df.drop('Current Ver')"
   ]
  },
  {
   "cell_type": "markdown",
   "metadata": {},
   "source": [
    "### Consulta 1"
   ]
  },
  {
   "cell_type": "code",
   "execution_count": 16,
   "metadata": {},
   "outputs": [
    {
     "name": "stdout",
     "output_type": "stream",
     "text": [
      "Una selección de aplicaciones junto a su categoría que cumplen tener un rating mayor o igual a 4.2:\n",
      "+--------------------+--------------+\n",
      "|                 App|      Category|\n",
      "+--------------------+--------------+\n",
      "|U Launcher Lite –...|ART_AND_DESIGN|\n",
      "|Sketch - Draw & P...|ART_AND_DESIGN|\n",
      "|Pixel Draw - Numb...|ART_AND_DESIGN|\n",
      "|Paper flowers ins...|ART_AND_DESIGN|\n",
      "|Garden Coloring Book|ART_AND_DESIGN|\n",
      "|Kids Paint Free -...|ART_AND_DESIGN|\n",
      "|Text on Photo - F...|ART_AND_DESIGN|\n",
      "|Name Art Photo Ed...|ART_AND_DESIGN|\n",
      "|Tattoo Name On My...|ART_AND_DESIGN|\n",
      "|Mandala Coloring ...|ART_AND_DESIGN|\n",
      "|3D Color Pixel by...|ART_AND_DESIGN|\n",
      "|Photo Designer - ...|ART_AND_DESIGN|\n",
      "|350 Diy Room Deco...|ART_AND_DESIGN|\n",
      "|FlipaClip - Carto...|ART_AND_DESIGN|\n",
      "|        ibis Paint X|ART_AND_DESIGN|\n",
      "|Superheroes Wallp...|ART_AND_DESIGN|\n",
      "|HD Mickey Minnie ...|ART_AND_DESIGN|\n",
      "|Harley Quinn wall...|ART_AND_DESIGN|\n",
      "|Colorfit - Drawin...|ART_AND_DESIGN|\n",
      "|Pink Silver Bow K...|ART_AND_DESIGN|\n",
      "+--------------------+--------------+\n",
      "only showing top 20 rows\n",
      "\n"
     ]
    }
   ],
   "source": [
    "print(\"Una selección de aplicaciones junto a su categoría que cumplen tener un rating mayor o igual a 4.2:\")\n",
    "google_play_df.filter(expr('Rating>=4.2')).select('App', 'Category').show()"
   ]
  },
  {
   "cell_type": "markdown",
   "metadata": {},
   "source": [
    "### Consulta 2"
   ]
  },
  {
   "cell_type": "code",
   "execution_count": 15,
   "metadata": {},
   "outputs": [
    {
     "name": "stdout",
     "output_type": "stream",
     "text": [
      "El número de aplicaciones que ocupan más de 10Mb (10000kb) es:\n"
     ]
    },
    {
     "data": {
      "text/plain": [
       "5085"
      ]
     },
     "execution_count": 15,
     "metadata": {},
     "output_type": "execute_result"
    }
   ],
   "source": [
    "print(\"El número de aplicaciones que ocupan más de 10Mb (10000kb) es:\")\n",
    "google_play_df.filter(expr('Size>10000')).count()"
   ]
  },
  {
   "cell_type": "markdown",
   "metadata": {},
   "source": [
    "### Consulta 3"
   ]
  },
  {
   "cell_type": "code",
   "execution_count": 25,
   "metadata": {},
   "outputs": [
    {
     "name": "stdout",
     "output_type": "stream",
     "text": [
      "Obtenemos la valoración por Type: \n",
      "+----+-----------------+\n",
      "|Type|     mean(Rating)|\n",
      "+----+-----------------+\n",
      "|Free|4.185940366972488|\n",
      "|Paid|4.266615146831529|\n",
      "+----+-----------------+\n",
      "\n",
      "Obtenemos la valoración por Category: \n",
      "+-------------------+------------------+\n",
      "|           Category|      mean(Rating)|\n",
      "+-------------------+------------------+\n",
      "|             EVENTS| 4.435555555555557|\n",
      "|             COMICS| 4.155172413793104|\n",
      "|             SPORTS| 4.223510971786835|\n",
      "|            WEATHER| 4.243999999999999|\n",
      "|      VIDEO_PLAYERS| 4.063750000000001|\n",
      "|  AUTO_AND_VEHICLES|  4.19041095890411|\n",
      "|          PARENTING| 4.300000000000001|\n",
      "|      ENTERTAINMENT| 4.126174496644294|\n",
      "|    PERSONALIZATION| 4.335987261146501|\n",
      "| HEALTH_AND_FITNESS|4.2771043771043775|\n",
      "|   TRAVEL_AND_LOCAL|  4.10929203539823|\n",
      "|BOOKS_AND_REFERENCE| 4.346067415730338|\n",
      "|     FOOD_AND_DRINK|4.1669724770642205|\n",
      "|        PHOTOGRAPHY| 4.192113564668767|\n",
      "|           BUSINESS| 4.121452145214522|\n",
      "|             FAMILY| 4.192272467086437|\n",
      "|           SHOPPING| 4.259663865546221|\n",
      "|     HOUSE_AND_HOME| 4.197368421052633|\n",
      "|               GAME|4.2863263445761195|\n",
      "|          EDUCATION| 4.389032258064517|\n",
      "+-------------------+------------------+\n",
      "only showing top 20 rows\n",
      "\n",
      "Obtenemos la valoración por Content Rating: \n",
      "+---------------+------------------+\n",
      "| Content Rating|      mean(Rating)|\n",
      "+---------------+------------------+\n",
      "|        Unrated|               4.1|\n",
      "|           Teen| 4.233487084870853|\n",
      "|     Mature 17+| 4.123427331887204|\n",
      "|   Everyone 10+| 4.257178841309818|\n",
      "|       Everyone|4.1860665678480045|\n",
      "|Adults only 18+|               4.3|\n",
      "+---------------+------------------+\n",
      "\n"
     ]
    }
   ],
   "source": [
    "print(\"Obtenemos la valoración por Type: \")\n",
    "google_play_df.dropna(subset=['Type']).groupBy(col('Type')).agg(expr('mean(Rating)')).show()\n",
    "# guardamos el resultado en un nuevo df para usarlo más adelante\n",
    "category_mean_rating = google_play_df.dropna(subset=['Category']).groupBy(col('Category')).agg(expr('mean(Rating)'))\n",
    "print(\"Obtenemos la valoración por Category: \")\n",
    "category_mean_rating.show()\n",
    "print(\"Obtenemos la valoración por Content Rating: \")\n",
    "google_play_df.groupBy(col('Content Rating')).agg(expr('mean(Rating)')).show()"
   ]
  },
  {
   "cell_type": "markdown",
   "metadata": {},
   "source": [
    "### Consulta 4"
   ]
  },
  {
   "cell_type": "code",
   "execution_count": 22,
   "metadata": {},
   "outputs": [
    {
     "name": "stdout",
     "output_type": "stream",
     "text": [
      "La tabla de contingencia entre las columnas Type y Content Rating es: \n",
      "+-------------------+----+----+\n",
      "|Content Rating_Type|Free|Paid|\n",
      "+-------------------+----+----+\n",
      "|            Unrated|   2|   0|\n",
      "|         Mature 17+| 479|  20|\n",
      "|       Everyone 10+| 380|  33|\n",
      "|    Adults only 18+|   3|   0|\n",
      "|           Everyone|8020| 695|\n",
      "|               Teen|1156|  52|\n",
      "+-------------------+----+----+\n",
      "\n"
     ]
    }
   ],
   "source": [
    "print(\"La tabla de contingencia entre las columnas Type y Content Rating es: \")\n",
    "google_play_df.dropna(subset=['Type']).crosstab('Content Rating', 'Type').show()"
   ]
  },
  {
   "cell_type": "markdown",
   "metadata": {},
   "source": [
    "### Consulta 5"
   ]
  },
  {
   "cell_type": "code",
   "execution_count": 42,
   "metadata": {},
   "outputs": [
    {
     "name": "stdout",
     "output_type": "stream",
     "text": [
      "Una muestra de las aplicaciones que superan su valoración por encima de la media de su categoría son:\n",
      "+------------------------------------------+\n",
      "|App                                       |\n",
      "+------------------------------------------+\n",
      "|Google Chrome: Fast & Secure              |\n",
      "|free video calls and chat                 |\n",
      "|Toddler Learning Games - Little Kids Games|\n",
      "|MyChart                                   |\n",
      "|Davis's Drug Guide for Nurses             |\n",
      "|Mercari: The Selling App                  |\n",
      "|Nigeria News NAIJ.com                     |\n",
      "|Basketball Stars                          |\n",
      "|C Examples                                |\n",
      "|Al-Quran Al-Muallim                       |\n",
      "|THE KING OF FIGHTERS-A 2012(F)            |\n",
      "|A-Z Punjabi Songs & Music Videos 2018     |\n",
      "|BD Hospital's                             |\n",
      "|Photo Editor - BPhoto                     |\n",
      "|Volvo CE Insider                          |\n",
      "|Casa CF                                   |\n",
      "|Chrome Canary (Unstable)                  |\n",
      "|C W Browser                               |\n",
      "|The Divine Feminine App: the DF App       |\n",
      "|Maher EL Mouaikly - Offline               |\n",
      "+------------------------------------------+\n",
      "only showing top 20 rows\n",
      "\n",
      "El número de aplicaciones que superan su valoración por encima de la media de su categoría es:\n"
     ]
    },
    {
     "data": {
      "text/plain": [
       "4902"
      ]
     },
     "execution_count": 42,
     "metadata": {},
     "output_type": "execute_result"
    }
   ],
   "source": [
    "# Utilizamos el df category_mean_rating que hemos creado previamente\n",
    "print(\"Una muestra de las aplicaciones que superan su valoración por encima de la media de su categoría son:\")\n",
    "app_up_mean = google_play_df.join(category_mean_rating, on=['Category']) \\\n",
    "                            .filter(col('Rating')>col('mean(Rating)')) \\\n",
    "                            .select('App').distinct()\n",
    "app_up_mean.show(truncate=False)\n",
    "print(\"El número de aplicaciones que superan su valoración por encima de la media de su categoría es:\")\n",
    "app_up_mean.count()"
   ]
  },
  {
   "cell_type": "code",
   "execution_count": 58,
   "metadata": {},
   "outputs": [
    {
     "name": "stdout",
     "output_type": "stream",
     "text": [
      "+-------------------------------------------------+------------------+-----+\n",
      "|App                                              |Category          |count|\n",
      "+-------------------------------------------------+------------------+-----+\n",
      "|8 Ball Pool                                      |GAME              |6    |\n",
      "|Adobe Acrobat Reader                             |PRODUCTIVITY      |3    |\n",
      "|AliExpress - Smarter Shopping, Better Living     |SHOPPING          |4    |\n",
      "|Amazon Shopping                                  |SHOPPING          |3    |\n",
      "|Angry Birds Classic                              |GAME              |5    |\n",
      "|Angry Birds Rio                                  |GAME              |4    |\n",
      "|Any.do: To-do list, Calendar, Reminders & Planner|PRODUCTIVITY      |3    |\n",
      "|B612 - Beauty & Filter Camera                    |PHOTOGRAPHY       |3    |\n",
      "|BBC News                                         |NEWS_AND_MAGAZINES|3    |\n",
      "|BBW Dating & Plus Size Chat                      |DATING            |3    |\n",
      "+-------------------------------------------------+------------------+-----+\n",
      "only showing top 10 rows\n",
      "\n"
     ]
    }
   ],
   "source": [
    "# Observamos que hay duplicados, por eso justificamos el distinct de la consulta anterior\n",
    "google_play_df.join(category_mean_rating, on=['Category']) \\\n",
    "              .filter(col('Rating')>col('mean(Rating)')).groupBy(['App', 'Category']).count().orderBy('App').filter(col('count')>=3).show(10, False)"
   ]
  },
  {
   "cell_type": "markdown",
   "metadata": {},
   "source": [
    "### Consulta 6"
   ]
  },
  {
   "cell_type": "code",
   "execution_count": 81,
   "metadata": {},
   "outputs": [
    {
     "name": "stdout",
     "output_type": "stream",
     "text": [
      "Una muestra de aplicaciones con más de 300 reviews y una polaridad de sentimiento igual a 1 (positiva): \n",
      "+--------------------+-------------------+\n",
      "|                 App|           Category|\n",
      "+--------------------+-------------------+\n",
      "|Calm - Meditate, ...| HEALTH_AND_FITNESS|\n",
      "|GMAT Math Flashcards|          EDUCATION|\n",
      "|             Hotstar|      ENTERTAINMENT|\n",
      "|Binaural Beats Me...| LIBRARIES_AND_DEMO|\n",
      "|BuzzFeed: News, T...| NEWS_AND_MAGAZINES|\n",
      "|       File Explorer|       PRODUCTIVITY|\n",
      "|          4 in a Row|               GAME|\n",
      "|Badoo - Free Chat...|             SOCIAL|\n",
      "|Cameringo Lite. F...|        PHOTOGRAPHY|\n",
      "|Foursquare Swarm:...|   TRAVEL_AND_LOCAL|\n",
      "|        ABCmouse.com|             FAMILY|\n",
      "|          Bloglovin'|             SOCIAL|\n",
      "|  All Maths Formulas|BOOKS_AND_REFERENCE|\n",
      "|     Baby Panda Care|             FAMILY|\n",
      "|      Comedy Central|      ENTERTAINMENT|\n",
      "|          Flashlight|              TOOLS|\n",
      "|Candy Camera - se...|        PHOTOGRAPHY|\n",
      "|Extreme Racing 2 ...|             FAMILY|\n",
      "|Family GPS tracke...|             SOCIAL|\n",
      "| CMB Free Dating App|             DATING|\n",
      "+--------------------+-------------------+\n",
      "only showing top 20 rows\n",
      "\n"
     ]
    }
   ],
   "source": [
    "print(\"Una muestra de aplicaciones con más de 300 reviews y una polaridad de sentimiento igual a 1 (positiva): \")\n",
    "google_play_df.filter(col('Reviews')>300).select('App','Category').distinct() \\\n",
    "    .join(app_reviews_df.select('App', 'Sentiment_Polarity') \\\n",
    "                        .filter(col('Sentiment_Polarity') == 1) \\\n",
    "                        .distinct(),\n",
    "          on='App') \\\n",
    "    .drop('Sentiment_Polarity') \\\n",
    "    .show()"
   ]
  },
  {
   "cell_type": "markdown",
   "metadata": {},
   "source": [
    "### Consulta 7"
   ]
  },
  {
   "cell_type": "code",
   "execution_count": 100,
   "metadata": {},
   "outputs": [
    {
     "name": "stdout",
     "output_type": "stream",
     "text": [
      "Una muestra de aquellas aplicaciones que tienen la cadena \"great\" en alguno de sus comentarios: \n",
      "+---------------------------------------------+\n",
      "|App                                          |\n",
      "+---------------------------------------------+\n",
      "|BaBe+ - Berita Indonesia                     |\n",
      "|Basketball Stars                             |\n",
      "|Davis's Drug Guide for Nurses                |\n",
      "|Find&Save - Local Shopping                   |\n",
      "|Floor Plan Creator                           |\n",
      "|Candy Pop Story                              |\n",
      "|Cricbuzz - Live Cricket Scores & News        |\n",
      "|Google Earth                                 |\n",
      "|Homework Planner                             |\n",
      "|Epocrates Plus                               |\n",
      "|Arrow.io                                     |\n",
      "|CALCU™ Stylish Calculator Free               |\n",
      "|FilterGrid - Cam&Photo Editor                |\n",
      "|Golf GPS Rangefinder: Golf Pad               |\n",
      "|BELONG Beating Cancer Together               |\n",
      "|Bubble Shooter                               |\n",
      "|Football Live Scores                         |\n",
      "|Amazon Shopping                              |\n",
      "|CM Launcher 3D - Theme, Wallpapers, Efficient|\n",
      "|Dream League Soccer 2018                     |\n",
      "+---------------------------------------------+\n",
      "only showing top 20 rows\n",
      "\n"
     ]
    }
   ],
   "source": [
    "print('Una muestra de aquellas aplicaciones que tienen la cadena \"great\" en alguno de sus comentarios: ')\n",
    "app_reviews_df.withColumn('Translated Review', lower(col('Translated Review'))) \\\n",
    "              .select('*',instr('Translated Review', 'great').alias('great')) \\\n",
    "              .filter(col('great') != 0).select('App').distinct().show(truncate=False)"
   ]
  },
  {
   "cell_type": "markdown",
   "metadata": {},
   "source": [
    "### Consulta 8\n",
    "\n",
    "\n",
    "\n",
    "\n",
    "\n"
   ]
  },
  {
   "cell_type": "code",
   "execution_count": 101,
   "metadata": {},
   "outputs": [
    {
     "name": "stdout",
     "output_type": "stream",
     "text": [
      "La correlación entre las variables Size y Rating es: \n"
     ]
    },
    {
     "data": {
      "text/plain": [
       "0.10658246952806993"
      ]
     },
     "execution_count": 101,
     "metadata": {},
     "output_type": "execute_result"
    }
   ],
   "source": [
    "print('La correlación entre las variables Size y Rating es: ')\n",
    "google_play_df.corr('Size', 'Rating')"
   ]
  },
  {
   "cell_type": "markdown",
   "metadata": {},
   "source": [
    "### Consulta 9"
   ]
  },
  {
   "cell_type": "code",
   "execution_count": 106,
   "metadata": {},
   "outputs": [
    {
     "name": "stdout",
     "output_type": "stream",
     "text": [
      "+---------------+-------------------+-------------------+\n",
      "| Content Rating|               mean|            std_pop|\n",
      "+---------------+-------------------+-------------------+\n",
      "|           Teen|0.12740170930175543| 0.3208047738198846|\n",
      "|     Mature 17+|0.17390891504000114| 0.3627460396030333|\n",
      "|   Everyone 10+|0.11851165277729031|0.29442744445998625|\n",
      "|       Everyone| 0.1773661129718786|0.34753494478603897|\n",
      "|Adults only 18+| 0.2984002267573696| 0.3242708588364504|\n",
      "+---------------+-------------------+-------------------+\n",
      "\n"
     ]
    }
   ],
   "source": [
    "print(\"Se muestra la polaridad media y la desviación estándar de cada Content Rating\")\n",
    "google_play_df.join(app_reviews_df, on='App') \\\n",
    "              .distinct() \\\n",
    "              .select('Content Rating','Sentiment_polarity') \\\n",
    "              .groupBy(col('Content Rating')) \\\n",
    "              .agg(expr('mean(Sentiment_polarity)').alias('mean'),\n",
    "                   expr('stddev_pop(Sentiment_polarity)').alias('std_pop')).show()"
   ]
  },
  {
   "cell_type": "markdown",
   "metadata": {},
   "source": [
    "### Consulta 10"
   ]
  },
  {
   "cell_type": "code",
   "execution_count": 107,
   "metadata": {},
   "outputs": [
    {
     "data": {
      "text/plain": [
       "DataFrame[]"
      ]
     },
     "execution_count": 107,
     "metadata": {},
     "output_type": "execute_result"
    }
   ],
   "source": [
    "spark.sql('CREATE DATABASE pydb')\n",
    "spark.sql('USE pydb')"
   ]
  },
  {
   "cell_type": "code",
   "execution_count": 110,
   "metadata": {},
   "outputs": [],
   "source": [
    "google_play_df.withColumnRenamed('Content Rating', 'Content_Rating').createOrReplaceTempView('GooglePlay')"
   ]
  },
  {
   "cell_type": "markdown",
   "metadata": {},
   "source": [
    "### Consulta 11"
   ]
  },
  {
   "cell_type": "code",
   "execution_count": 111,
   "metadata": {},
   "outputs": [],
   "source": [
    "app_reviews_df.withColumnRenamed('Translated Review', 'Translated_Review').createOrReplaceTempView('Reviews')"
   ]
  },
  {
   "cell_type": "markdown",
   "metadata": {},
   "source": [
    "### Consulta 12"
   ]
  },
  {
   "cell_type": "code",
   "execution_count": 114,
   "metadata": {},
   "outputs": [
    {
     "name": "stdout",
     "output_type": "stream",
     "text": [
      "+--------------------+--------------+\n",
      "|                 App|      Category|\n",
      "+--------------------+--------------+\n",
      "|U Launcher Lite –...|ART_AND_DESIGN|\n",
      "|Sketch - Draw & P...|ART_AND_DESIGN|\n",
      "|Pixel Draw - Numb...|ART_AND_DESIGN|\n",
      "|Paper flowers ins...|ART_AND_DESIGN|\n",
      "|Garden Coloring Book|ART_AND_DESIGN|\n",
      "|Kids Paint Free -...|ART_AND_DESIGN|\n",
      "|Text on Photo - F...|ART_AND_DESIGN|\n",
      "|Name Art Photo Ed...|ART_AND_DESIGN|\n",
      "|Tattoo Name On My...|ART_AND_DESIGN|\n",
      "|Mandala Coloring ...|ART_AND_DESIGN|\n",
      "|3D Color Pixel by...|ART_AND_DESIGN|\n",
      "|Photo Designer - ...|ART_AND_DESIGN|\n",
      "|350 Diy Room Deco...|ART_AND_DESIGN|\n",
      "|FlipaClip - Carto...|ART_AND_DESIGN|\n",
      "|        ibis Paint X|ART_AND_DESIGN|\n",
      "|Superheroes Wallp...|ART_AND_DESIGN|\n",
      "|HD Mickey Minnie ...|ART_AND_DESIGN|\n",
      "|Harley Quinn wall...|ART_AND_DESIGN|\n",
      "|Colorfit - Drawin...|ART_AND_DESIGN|\n",
      "|Pink Silver Bow K...|ART_AND_DESIGN|\n",
      "+--------------------+--------------+\n",
      "only showing top 20 rows\n",
      "\n"
     ]
    }
   ],
   "source": [
    "spark.sql('SELECT App, Category FROM GooglePlay WHERE Rating>=4.2').show()"
   ]
  },
  {
   "cell_type": "markdown",
   "metadata": {},
   "source": [
    "### Consulta 13"
   ]
  },
  {
   "cell_type": "code",
   "execution_count": 115,
   "metadata": {},
   "outputs": [
    {
     "name": "stdout",
     "output_type": "stream",
     "text": [
      "+----+-----------------+\n",
      "|Type|      avg(Rating)|\n",
      "+----+-----------------+\n",
      "|Free|4.185940366972488|\n",
      "|Paid|4.266615146831529|\n",
      "+----+-----------------+\n",
      "\n"
     ]
    }
   ],
   "source": [
    "spark.sql('SELECT Type, AVG(Rating) FROM GooglePlay WHERE Type IS NOT NULL GROUP BY Type').show()"
   ]
  },
  {
   "cell_type": "code",
   "execution_count": 117,
   "metadata": {},
   "outputs": [
    {
     "name": "stdout",
     "output_type": "stream",
     "text": [
      "+-------------------+------------------+\n",
      "|           Category|       avg(Rating)|\n",
      "+-------------------+------------------+\n",
      "|             EVENTS| 4.435555555555557|\n",
      "|             COMICS| 4.155172413793104|\n",
      "|             SPORTS| 4.223510971786835|\n",
      "|            WEATHER| 4.243999999999999|\n",
      "|      VIDEO_PLAYERS| 4.063750000000001|\n",
      "|  AUTO_AND_VEHICLES|  4.19041095890411|\n",
      "|          PARENTING| 4.300000000000001|\n",
      "|      ENTERTAINMENT| 4.126174496644294|\n",
      "|    PERSONALIZATION| 4.335987261146501|\n",
      "| HEALTH_AND_FITNESS|4.2771043771043775|\n",
      "|   TRAVEL_AND_LOCAL|  4.10929203539823|\n",
      "|BOOKS_AND_REFERENCE| 4.346067415730338|\n",
      "|     FOOD_AND_DRINK|4.1669724770642205|\n",
      "|        PHOTOGRAPHY| 4.192113564668767|\n",
      "|           BUSINESS| 4.121452145214522|\n",
      "|             FAMILY| 4.192272467086437|\n",
      "|           SHOPPING| 4.259663865546221|\n",
      "|     HOUSE_AND_HOME| 4.197368421052633|\n",
      "|               GAME|4.2863263445761195|\n",
      "|          EDUCATION| 4.389032258064517|\n",
      "+-------------------+------------------+\n",
      "only showing top 20 rows\n",
      "\n"
     ]
    }
   ],
   "source": [
    "spark.sql('SELECT Category, AVG(Rating) FROM GooglePlay WHERE Category IS NOT NULL GROUP BY Category').show()"
   ]
  },
  {
   "cell_type": "code",
   "execution_count": 119,
   "metadata": {},
   "outputs": [
    {
     "name": "stdout",
     "output_type": "stream",
     "text": [
      "+---------------+------------------+\n",
      "| Content_Rating|       avg(Rating)|\n",
      "+---------------+------------------+\n",
      "|        Unrated|               4.1|\n",
      "|           Teen| 4.233487084870853|\n",
      "|     Mature 17+| 4.123427331887204|\n",
      "|   Everyone 10+| 4.257178841309818|\n",
      "|       Everyone|4.1860665678480045|\n",
      "|Adults only 18+|               4.3|\n",
      "+---------------+------------------+\n",
      "\n"
     ]
    }
   ],
   "source": [
    "spark.sql('SELECT Content_Rating, AVG(Rating) FROM GooglePlay GROUP BY Content_Rating').show()"
   ]
  },
  {
   "cell_type": "markdown",
   "metadata": {},
   "source": [
    "### Consulta 14"
   ]
  },
  {
   "cell_type": "code",
   "execution_count": 125,
   "metadata": {},
   "outputs": [
    {
     "name": "stdout",
     "output_type": "stream",
     "text": [
      "+---------------+-----------------------+-------------------------------+\n",
      "| Content_Rating|avg(Sentiment_polarity)|stddev_samp(Sentiment_polarity)|\n",
      "+---------------+-----------------------+-------------------------------+\n",
      "|           Teen|    0.12102082880135905|            0.30982467421170223|\n",
      "|     Mature 17+|     0.1685808474562754|             0.3678941965284481|\n",
      "|   Everyone 10+|    0.13200213901805047|             0.3109907022038593|\n",
      "|       Everyone|     0.1647769803135702|            0.33459519837815016|\n",
      "|Adults only 18+|    0.31233355379188715|              0.334873921904287|\n",
      "+---------------+-----------------------+-------------------------------+\n",
      "\n"
     ]
    }
   ],
   "source": [
    "spark.sql('SELECT g.Content_Rating, MEAN(r.Sentiment_polarity), STD(r.Sentiment_polarity) \\\n",
    "          FROM GooglePlay as g \\\n",
    "          INNER JOIN Reviews as r ON g.App=r.App \\\n",
    "          GROUP BY Content_Rating').show()"
   ]
  }
 ],
 "metadata": {
  "kernelspec": {
   "display_name": "Python 3",
   "language": "python",
   "name": "python3"
  },
  "language_info": {
   "codemirror_mode": {
    "name": "ipython",
    "version": 3
   },
   "file_extension": ".py",
   "mimetype": "text/x-python",
   "name": "python",
   "nbconvert_exporter": "python",
   "pygments_lexer": "ipython3",
   "version": "3.7.0"
  }
 },
 "nbformat": 4,
 "nbformat_minor": 2
}
