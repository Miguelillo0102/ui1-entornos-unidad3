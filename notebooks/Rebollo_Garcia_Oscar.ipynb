{
 "cells": [
  {
   "cell_type": "code",
   "execution_count": 89,
   "metadata": {},
   "outputs": [],
   "source": [
    "from pyspark.sql.types import *\n",
    "from pyspark.sql.functions import expr, col, desc, lower, instr"
   ]
  },
  {
   "cell_type": "code",
   "execution_count": 90,
   "metadata": {},
   "outputs": [],
   "source": [
    "google_play_df = spark.read.csv('../data/googleplaystore.csv', header=True, inferSchema=True, nullValue='', sep=',')"
   ]
  },
  {
   "cell_type": "code",
   "execution_count": 91,
   "metadata": {},
   "outputs": [],
   "source": [
    "schema = StructType( [\n",
    "    StructField('App', StringType()),\n",
    "    StructField('Translated Review', StringType()),\n",
    "    StructField('Sentiment', StringType() ),\n",
    "    StructField('Sentiment_Polarity', DoubleType()),\n",
    "    StructField('Sentiment_Subjectivity', DoubleType())\n",
    "] )\n",
    "app_reviews_df = spark.read.csv('../data/googleplaystore_user_reviews.csv', sep=',', schema=schema, header=True)"
   ]
  },
  {
   "cell_type": "code",
   "execution_count": 92,
   "metadata": {},
   "outputs": [],
   "source": [
    "google_play_df = google_play_df.withColumn('Price', expr('double(replace(Price,\"\\$\",\"\"))'))\n",
    "google_play_df = google_play_df.withColumn('Installs', expr('double(replace(replace(Installs, \"+\", \"\"), \",\", \"\"))') )\n",
    "google_play_df=google_play_df.withColumn('Size', expr('double(replace(replace(Size,\"M\",\"000\"),\"K\",\"\"))'))\n",
    "google_play_df=google_play_df.drop('Android Ver')\n",
    "google_play_df=google_play_df.drop('Genres')\n",
    "google_play_df=google_play_df.drop('Last Updated')\n",
    "google_play_df=google_play_df.drop('Current Ver')"
   ]
  },
  {
   "cell_type": "markdown",
   "metadata": {},
   "source": [
    "Ejercicio1. Extraer nombre y categoria de todas aquellas aplicaciones con media valoraciones mayor o igual 4.2.\n",
    "Para ello se crea un dataframe (filtro) que contenga las valoraciones mayor o igual a 4.2, se imprime y luego se usa ese dataframe para crear otro (ejer1) para extraer solo los campos App y Category"
   ]
  },
  {
   "cell_type": "code",
   "execution_count": 93,
   "metadata": {},
   "outputs": [
    {
     "name": "stdout",
     "output_type": "stream",
     "text": [
      "+--------------------+--------------+------+-------+-------+---------+----+-----+--------------+\n",
      "|                 App|      Category|Rating|Reviews|   Size| Installs|Type|Price|Content Rating|\n",
      "+--------------------+--------------+------+-------+-------+---------+----+-----+--------------+\n",
      "|U Launcher Lite –...|ART_AND_DESIGN|   4.7|  87510|    8.7|5000000.0|Free|  0.0|      Everyone|\n",
      "|Sketch - Draw & P...|ART_AND_DESIGN|   4.5| 215644|25000.0|    5.0E7|Free|  0.0|          Teen|\n",
      "|Pixel Draw - Numb...|ART_AND_DESIGN|   4.3|    967|    2.8| 100000.0|Free|  0.0|      Everyone|\n",
      "|Paper flowers ins...|ART_AND_DESIGN|   4.4|    167|    5.6|  50000.0|Free|  0.0|      Everyone|\n",
      "|Garden Coloring Book|ART_AND_DESIGN|   4.4|  13791|33000.0|1000000.0|Free|  0.0|      Everyone|\n",
      "+--------------------+--------------+------+-------+-------+---------+----+-----+--------------+\n",
      "only showing top 5 rows\n",
      "\n",
      "+--------------------+--------------+\n",
      "|                 App|      Category|\n",
      "+--------------------+--------------+\n",
      "|U Launcher Lite –...|ART_AND_DESIGN|\n",
      "|Sketch - Draw & P...|ART_AND_DESIGN|\n",
      "|Pixel Draw - Numb...|ART_AND_DESIGN|\n",
      "|Paper flowers ins...|ART_AND_DESIGN|\n",
      "|Garden Coloring Book|ART_AND_DESIGN|\n",
      "+--------------------+--------------+\n",
      "only showing top 5 rows\n",
      "\n"
     ]
    }
   ],
   "source": [
    "filtro = google_play_df.filter( expr('Rating>4.2 OR Rating=4.2') )\n",
    "filtro.show(5)\n",
    "ejer1 = filtro.select('App', 'Category')\n",
    "ejer1.show(5)"
   ]
  },
  {
   "cell_type": "markdown",
   "metadata": {},
   "source": [
    "Ejercicio2. Contar cuantas aplicaciones ocupan mas de 10 MB (aproximadamente 1000 Kilobytes)."
   ]
  },
  {
   "cell_type": "code",
   "execution_count": 94,
   "metadata": {},
   "outputs": [
    {
     "name": "stdout",
     "output_type": "stream",
     "text": [
      "+--------------------+--------------+------+-------+-------+---------+----+-----+--------------+\n",
      "|                 App|      Category|Rating|Reviews|   Size| Installs|Type|Price|Content Rating|\n",
      "+--------------------+--------------+------+-------+-------+---------+----+-----+--------------+\n",
      "|Photo Editor & Ca...|ART_AND_DESIGN|   4.1|    159|19000.0|  10000.0|Free|  0.0|      Everyone|\n",
      "| Coloring book moana|ART_AND_DESIGN|   3.9|    967|14000.0| 500000.0|Free|  0.0|      Everyone|\n",
      "|Sketch - Draw & P...|ART_AND_DESIGN|   4.5| 215644|25000.0|    5.0E7|Free|  0.0|          Teen|\n",
      "|Smoke Effect Phot...|ART_AND_DESIGN|   3.8|    178|19000.0|  50000.0|Free|  0.0|      Everyone|\n",
      "|    Infinite Painter|ART_AND_DESIGN|   4.1|  36815|29000.0|1000000.0|Free|  0.0|      Everyone|\n",
      "+--------------------+--------------+------+-------+-------+---------+----+-----+--------------+\n",
      "only showing top 5 rows\n",
      "\n",
      "5085\n"
     ]
    }
   ],
   "source": [
    "ejer2 = google_play_df.filter( expr('Size>10000') )\n",
    "ejer2.show(5)\n",
    "print(ejer2.count())"
   ]
  },
  {
   "cell_type": "markdown",
   "metadata": {},
   "source": [
    "Ejercicio3. Dataframe con la valoracion media para cada Type, Categoria y para Content Rating, eliminando todos los valores null de las columnas Type y Category"
   ]
  },
  {
   "cell_type": "code",
   "execution_count": 95,
   "metadata": {},
   "outputs": [],
   "source": [
    "eliminar = google_play_df.dropna('any', subset=['Type', 'Category'])"
   ]
  },
  {
   "cell_type": "code",
   "execution_count": 96,
   "metadata": {},
   "outputs": [
    {
     "name": "stdout",
     "output_type": "stream",
     "text": [
      "+----+-----------------+\n",
      "|Type|     mean(Rating)|\n",
      "+----+-----------------+\n",
      "|Free|4.186202546163562|\n",
      "|Paid|4.266615146831529|\n",
      "+----+-----------------+\n",
      "\n",
      "+-------------+-----------------+\n",
      "|     Category|     mean(Rating)|\n",
      "+-------------+-----------------+\n",
      "|       EVENTS|4.435555555555557|\n",
      "|       COMICS|4.155172413793104|\n",
      "|       SPORTS|4.223510971786835|\n",
      "|      WEATHER|4.243999999999999|\n",
      "|VIDEO_PLAYERS|4.063750000000001|\n",
      "+-------------+-----------------+\n",
      "only showing top 5 rows\n",
      "\n",
      "+--------------+-----------------+\n",
      "|Content Rating|     mean(Rating)|\n",
      "+--------------+-----------------+\n",
      "|       Unrated|              4.1|\n",
      "|          Teen|4.233487084870853|\n",
      "|    Mature 17+|4.123427331887204|\n",
      "|  Everyone 10+|4.257178841309818|\n",
      "|      Everyone|4.186374663072782|\n",
      "+--------------+-----------------+\n",
      "only showing top 5 rows\n",
      "\n",
      "+-------------------+----+--------------+-----------------+\n",
      "|           Category|Type|Content Rating|     mean(Rating)|\n",
      "+-------------------+----+--------------+-----------------+\n",
      "|             SPORTS|Paid|      Everyone|4.254545454545454|\n",
      "|           SHOPPING|Free|    Mature 17+|4.266666666666667|\n",
      "|              TOOLS|Free|       Unrated|              4.1|\n",
      "|BOOKS_AND_REFERENCE|Free|  Everyone 10+|4.459999999999999|\n",
      "|          PARENTING|Free|      Everyone|4.326086956521739|\n",
      "+-------------------+----+--------------+-----------------+\n",
      "only showing top 5 rows\n",
      "\n"
     ]
    }
   ],
   "source": [
    "eliminar.groupBy(col('Type')).agg(expr('mean(Rating)') ).show(5)\n",
    "eliminar.groupBy(col('Category')).agg(expr('mean(Rating)') ).show(5)\n",
    "eliminar.groupBy(col('Content Rating')).agg(expr('mean(Rating)') ).show(5)\n",
    "eliminar.groupBy(col('Category'), col('Type'), col(\"Content Rating\")).agg(expr('mean(Rating)')).show(5)"
   ]
  },
  {
   "cell_type": "markdown",
   "metadata": {},
   "source": [
    "Ejercicio4. Tabla de contingencia entre Content Rating y Type, eliminando todos los valores null de Type."
   ]
  },
  {
   "cell_type": "code",
   "execution_count": 97,
   "metadata": {},
   "outputs": [
    {
     "name": "stdout",
     "output_type": "stream",
     "text": [
      "+-------------------+----+----+\n",
      "|      Category_Type|Free|Paid|\n",
      "+-------------------+----+----+\n",
      "|BOOKS_AND_REFERENCE| 203|  28|\n",
      "|               null|   1|   0|\n",
      "|          EDUCATION| 152|   4|\n",
      "|MAPS_AND_NAVIGATION| 132|   5|\n",
      "|           SHOPPING| 258|   2|\n",
      "|   TRAVEL_AND_LOCAL| 246|  12|\n",
      "|     HOUSE_AND_HOME|  88|   0|\n",
      "|        PHOTOGRAPHY| 313|  22|\n",
      "|               GAME|1061|  83|\n",
      "|      VIDEO_PLAYERS| 171|   4|\n",
      "|              TOOLS| 765|  78|\n",
      "| NEWS_AND_MAGAZINES| 281|   2|\n",
      "|            FINANCE| 349|  17|\n",
      "|             SOCIAL| 292|   3|\n",
      "|            WEATHER|  74|   8|\n",
      "|           BUSINESS| 446|  14|\n",
      "|    PERSONALIZATION| 309|  83|\n",
      "|          PARENTING|  58|   2|\n",
      "|     ART_AND_DESIGN|  62|   3|\n",
      "|     FOOD_AND_DRINK| 125|   2|\n",
      "|             COMICS|  60|   0|\n",
      "|      COMMUNICATION| 360|  27|\n",
      "|  AUTO_AND_VEHICLES|  82|   3|\n",
      "|             BEAUTY|  53|   0|\n",
      "|             EVENTS|  63|   1|\n",
      "|       PRODUCTIVITY| 396|  28|\n",
      "|             SPORTS| 360|  24|\n",
      "|            MEDICAL| 354| 109|\n",
      "|             FAMILY|1780| 191|\n",
      "| LIBRARIES_AND_DEMO|  84|   1|\n",
      "|      ENTERTAINMENT| 147|   2|\n",
      "|             DATING| 227|   7|\n",
      "|          LIFESTYLE| 363|  19|\n",
      "| HEALTH_AND_FITNESS| 325|  16|\n",
      "+-------------------+----+----+\n",
      "\n"
     ]
    }
   ],
   "source": [
    "eliminar5 = google_play_df.dropna('any', subset=['Type'])\n",
    "eliminar5.crosstab('Category', 'Type').show(n=100)\n"
   ]
  },
  {
   "cell_type": "markdown",
   "metadata": {},
   "source": [
    "Ejercicio 5.Calculamos la media y se guarda. Da error a la hora de ponerla en el filtro el nombre de media_5."
   ]
  },
  {
   "cell_type": "code",
   "execution_count": 98,
   "metadata": {},
   "outputs": [
    {
     "name": "stdout",
     "output_type": "stream",
     "text": [
      "+------------------+\n",
      "|              mean|\n",
      "+------------------+\n",
      "|4.1915127575531175|\n",
      "+------------------+\n",
      "\n",
      "+--------------------+--------------+------+-------+-------+---------+----+-----+--------------+\n",
      "|                 App|      Category|Rating|Reviews|   Size| Installs|Type|Price|Content Rating|\n",
      "+--------------------+--------------+------+-------+-------+---------+----+-----+--------------+\n",
      "|U Launcher Lite –...|ART_AND_DESIGN|   4.7|  87510|    8.7|5000000.0|Free|  0.0|      Everyone|\n",
      "|Sketch - Draw & P...|ART_AND_DESIGN|   4.5| 215644|25000.0|    5.0E7|Free|  0.0|          Teen|\n",
      "|Pixel Draw - Numb...|ART_AND_DESIGN|   4.3|    967|    2.8| 100000.0|Free|  0.0|      Everyone|\n",
      "|Paper flowers ins...|ART_AND_DESIGN|   4.4|    167|    5.6|  50000.0|Free|  0.0|      Everyone|\n",
      "|Garden Coloring Book|ART_AND_DESIGN|   4.4|  13791|33000.0|1000000.0|Free|  0.0|      Everyone|\n",
      "+--------------------+--------------+------+-------+-------+---------+----+-----+--------------+\n",
      "only showing top 5 rows\n",
      "\n"
     ]
    }
   ],
   "source": [
    "from pyspark.sql.functions import mean, stddev_samp, var_samp\n",
    "media_5=google_play_df.select( mean(google_play_df.Rating).alias('mean'))\n",
    "media_5.show()\n",
    "ejer5 = google_play_df.filter( expr('Rating>4.1915') )\n",
    "ejer5.show(5)"
   ]
  },
  {
   "cell_type": "markdown",
   "metadata": {},
   "source": [
    "Ejercicio6. Devuelve el nombre y categoría de las aplicaciones con más de 300 valoraciones que tengan una polaridad con un grado de positividad igual a 1."
   ]
  },
  {
   "cell_type": "code",
   "execution_count": 99,
   "metadata": {},
   "outputs": [
    {
     "name": "stdout",
     "output_type": "stream",
     "text": [
      "+--------------------+--------------------+---------+------------------+----------------------+--------------------+------------------+------+-------+----+--------+----+-----+--------------+\n",
      "|                 App|   Translated Review|Sentiment|Sentiment_Polarity|Sentiment_Subjectivity|                 App|          Category|Rating|Reviews|Size|Installs|Type|Price|Content Rating|\n",
      "+--------------------+--------------------+---------+------------------+----------------------+--------------------+------------------+------+-------+----+--------+----+-----+--------------+\n",
      "|10 Best Foods for...|I like eat delici...| Positive|               1.0|    0.5333333333333333|10 Best Foods for...|HEALTH_AND_FITNESS|   4.0|   2490| 3.8|500000.0|Free|  0.0|  Everyone 10+|\n",
      "|10 Best Foods for...|I like eat delici...| Positive|               1.0|    0.5333333333333333|10 Best Foods for...|HEALTH_AND_FITNESS|   4.0|   2490| 3.8|500000.0|Free|  0.0|  Everyone 10+|\n",
      "|10 Best Foods for...|        Best idea us| Positive|               1.0|                   0.3|10 Best Foods for...|HEALTH_AND_FITNESS|   4.0|   2490| 3.8|500000.0|Free|  0.0|  Everyone 10+|\n",
      "|10 Best Foods for...|        Best idea us| Positive|               1.0|                   0.3|10 Best Foods for...|HEALTH_AND_FITNESS|   4.0|   2490| 3.8|500000.0|Free|  0.0|  Everyone 10+|\n",
      "|10 Best Foods for...|            Best way| Positive|               1.0|                   0.3|10 Best Foods for...|HEALTH_AND_FITNESS|   4.0|   2490| 3.8|500000.0|Free|  0.0|  Everyone 10+|\n",
      "+--------------------+--------------------+---------+------------------+----------------------+--------------------+------------------+------+-------+----+--------+----+-----+--------------+\n",
      "only showing top 5 rows\n",
      "\n"
     ]
    }
   ],
   "source": [
    "union= app_reviews_df.join( google_play_df, app_reviews_df.App == google_play_df.App, how='inner' )\n",
    "ejer6= union.filter(expr((\"Reviews>500 AND Sentiment_Polarity=1\")))\n",
    "ejer6.show(5)\n"
   ]
  },
  {
   "cell_type": "markdown",
   "metadata": {},
   "source": [
    "Ejer7. Obtén el nombre único de todas las aplicaciones que contiene la subcadena great en alguna de sus opiniones que han sido traducidas al inglés. Para ello, emplea la función lower y instr para ese propósito (https://spark.apache.org/docs/2.4.0/api/python/pyspark.sql.html#modulepyspark.sql.functions)"
   ]
  },
  {
   "cell_type": "code",
   "execution_count": null,
   "metadata": {},
   "outputs": [],
   "source": []
  },
  {
   "cell_type": "markdown",
   "metadata": {},
   "source": [
    "8. Realiza un análisis de correlación entre Rating y Size. Se carga de la libreria pyspark.sql.functions la funcion corr y se selecciona esos campos."
   ]
  },
  {
   "cell_type": "code",
   "execution_count": 100,
   "metadata": {},
   "outputs": [
    {
     "name": "stdout",
     "output_type": "stream",
     "text": [
      "+-------------------+\n",
      "| corr(Rating, Size)|\n",
      "+-------------------+\n",
      "|0.07568995671515161|\n",
      "+-------------------+\n",
      "\n"
     ]
    }
   ],
   "source": [
    "from pyspark.sql.functions import corr\n",
    "google_play_df.select( corr(google_play_df.Rating, google_play_df.Size) ).show()"
   ]
  },
  {
   "cell_type": "markdown",
   "metadata": {},
   "source": [
    "9. Obtén la polaridad de sentimiento media, y su desviación típica para cada posible valor de Content Rating."
   ]
  },
  {
   "cell_type": "code",
   "execution_count": 101,
   "metadata": {},
   "outputs": [
    {
     "name": "stdout",
     "output_type": "stream",
     "text": [
      "+---------------+------------------------+------------------------------+\n",
      "| Content Rating|mean(Sentiment_Polarity)|stddev_pop(Sentiment_Polarity)|\n",
      "+---------------+------------------------+------------------------------+\n",
      "|           Teen|     0.12102082880135945|            0.3098101363014476|\n",
      "|     Mature 17+|     0.16858084745627555|           0.36785313461677044|\n",
      "|   Everyone 10+|     0.13200213901805052|           0.31093905548720285|\n",
      "|       Everyone|     0.16477698031357257|            0.3345921181710349|\n",
      "|Adults only 18+|     0.31233355379188715|            0.3301901398775387|\n",
      "+---------------+------------------------+------------------------------+\n",
      "\n"
     ]
    }
   ],
   "source": [
    "from pyspark.sql.functions import mean, stddev_pop\n",
    "union.groupBy(col('Content Rating')).agg(expr('mean(Sentiment_Polarity)'), expr('stddev_pop(Sentiment_Polarity)') ).show()"
   ]
  },
  {
   "cell_type": "markdown",
   "metadata": {},
   "source": [
    "10. Registra el Dataframe google_play_df como la tabla temporal GooglePlay."
   ]
  },
  {
   "cell_type": "code",
   "execution_count": 102,
   "metadata": {},
   "outputs": [],
   "source": [
    "google_play_df.createOrReplaceTempView('GooglePlay')\n"
   ]
  },
  {
   "cell_type": "markdown",
   "metadata": {},
   "source": [
    "11. Registra el Dataframe app_reviews_df como la tabla temporal Reviews."
   ]
  },
  {
   "cell_type": "code",
   "execution_count": 103,
   "metadata": {},
   "outputs": [],
   "source": [
    "app_reviews_df.createOrReplaceTempView('Reviews')"
   ]
  },
  {
   "cell_type": "markdown",
   "metadata": {},
   "source": [
    "12. Repite la consulta 1 con SQL."
   ]
  },
  {
   "cell_type": "code",
   "execution_count": 104,
   "metadata": {},
   "outputs": [
    {
     "name": "stdout",
     "output_type": "stream",
     "text": [
      "+--------------------+--------------+\n",
      "|                 App|      Category|\n",
      "+--------------------+--------------+\n",
      "|U Launcher Lite –...|ART_AND_DESIGN|\n",
      "|Sketch - Draw & P...|ART_AND_DESIGN|\n",
      "|Pixel Draw - Numb...|ART_AND_DESIGN|\n",
      "|Paper flowers ins...|ART_AND_DESIGN|\n",
      "|Garden Coloring Book|ART_AND_DESIGN|\n",
      "|Kids Paint Free -...|ART_AND_DESIGN|\n",
      "|Text on Photo - F...|ART_AND_DESIGN|\n",
      "|Name Art Photo Ed...|ART_AND_DESIGN|\n",
      "|Tattoo Name On My...|ART_AND_DESIGN|\n",
      "|Mandala Coloring ...|ART_AND_DESIGN|\n",
      "|3D Color Pixel by...|ART_AND_DESIGN|\n",
      "|Photo Designer - ...|ART_AND_DESIGN|\n",
      "|350 Diy Room Deco...|ART_AND_DESIGN|\n",
      "|FlipaClip - Carto...|ART_AND_DESIGN|\n",
      "|        ibis Paint X|ART_AND_DESIGN|\n",
      "|Superheroes Wallp...|ART_AND_DESIGN|\n",
      "|HD Mickey Minnie ...|ART_AND_DESIGN|\n",
      "|Harley Quinn wall...|ART_AND_DESIGN|\n",
      "|Colorfit - Drawin...|ART_AND_DESIGN|\n",
      "|Pink Silver Bow K...|ART_AND_DESIGN|\n",
      "+--------------------+--------------+\n",
      "only showing top 20 rows\n",
      "\n"
     ]
    }
   ],
   "source": [
    "ejer12=spark.sql('SELECT App, Category FROM GooglePlay WHERE Rating>4.2 OR Rating=4.2')\n",
    "ejer12.show()"
   ]
  },
  {
   "cell_type": "markdown",
   "metadata": {},
   "source": [
    "13. Repite la consulta 3 con SQL. Se eligen los campos sin valores vacios \"\". Me da error al cargar Content Rating, me imagino que es por el espacio...No me sale la media\n"
   ]
  },
  {
   "cell_type": "code",
   "execution_count": 105,
   "metadata": {},
   "outputs": [
    {
     "name": "stdout",
     "output_type": "stream",
     "text": [
      "+----+--------------+--------------+\n",
      "|Type|      Category|Content Rating|\n",
      "+----+--------------+--------------+\n",
      "|Free|ART_AND_DESIGN|Content Rating|\n",
      "|Free|ART_AND_DESIGN|Content Rating|\n",
      "|Free|ART_AND_DESIGN|Content Rating|\n",
      "|Free|ART_AND_DESIGN|Content Rating|\n",
      "|Free|ART_AND_DESIGN|Content Rating|\n",
      "|Free|ART_AND_DESIGN|Content Rating|\n",
      "|Free|ART_AND_DESIGN|Content Rating|\n",
      "|Free|ART_AND_DESIGN|Content Rating|\n",
      "|Free|ART_AND_DESIGN|Content Rating|\n",
      "|Free|ART_AND_DESIGN|Content Rating|\n",
      "|Free|ART_AND_DESIGN|Content Rating|\n",
      "|Free|ART_AND_DESIGN|Content Rating|\n",
      "|Free|ART_AND_DESIGN|Content Rating|\n",
      "|Free|ART_AND_DESIGN|Content Rating|\n",
      "|Free|ART_AND_DESIGN|Content Rating|\n",
      "|Free|ART_AND_DESIGN|Content Rating|\n",
      "|Free|ART_AND_DESIGN|Content Rating|\n",
      "|Free|ART_AND_DESIGN|Content Rating|\n",
      "|Free|ART_AND_DESIGN|Content Rating|\n",
      "|Free|ART_AND_DESIGN|Content Rating|\n",
      "+----+--------------+--------------+\n",
      "only showing top 20 rows\n",
      "\n",
      "+-------------------+--------------+\n",
      "|           Category|mean(Category)|\n",
      "+-------------------+--------------+\n",
      "|             EVENTS|          null|\n",
      "|             COMICS|          null|\n",
      "|             SPORTS|          null|\n",
      "|            WEATHER|          null|\n",
      "|      VIDEO_PLAYERS|          null|\n",
      "|               null|          null|\n",
      "|  AUTO_AND_VEHICLES|          null|\n",
      "|          PARENTING|          null|\n",
      "|      ENTERTAINMENT|          null|\n",
      "|    PERSONALIZATION|          null|\n",
      "| HEALTH_AND_FITNESS|          null|\n",
      "|   TRAVEL_AND_LOCAL|          null|\n",
      "|BOOKS_AND_REFERENCE|          null|\n",
      "|     FOOD_AND_DRINK|          null|\n",
      "|        PHOTOGRAPHY|          null|\n",
      "|           BUSINESS|          null|\n",
      "|             FAMILY|          null|\n",
      "|           SHOPPING|          null|\n",
      "|     HOUSE_AND_HOME|          null|\n",
      "|               GAME|          null|\n",
      "+-------------------+--------------+\n",
      "only showing top 20 rows\n",
      "\n"
     ]
    }
   ],
   "source": [
    "ejer13=spark.sql('SELECT Type, Category, \"Content Rating\" FROM GooglePlay WHERE Type<>\"\" OR Category<>\"\"')\n",
    "ejer13.show()\n",
    "ejer13.groupBy('Category').agg(expr('mean(Category)')).show()\n"
   ]
  },
  {
   "cell_type": "markdown",
   "metadata": {},
   "source": [
    "14. Repite la consulta 9 con SQL."
   ]
  },
  {
   "cell_type": "code",
   "execution_count": null,
   "metadata": {},
   "outputs": [],
   "source": []
  }
 ],
 "metadata": {
  "kernelspec": {
   "display_name": "Python 3",
   "language": "python",
   "name": "python3"
  },
  "language_info": {
   "codemirror_mode": {
    "name": "ipython",
    "version": 3
   },
   "file_extension": ".py",
   "mimetype": "text/x-python",
   "name": "python",
   "nbconvert_exporter": "python",
   "pygments_lexer": "ipython3",
   "version": "3.7.0"
  }
 },
 "nbformat": 4,
 "nbformat_minor": 2
}
