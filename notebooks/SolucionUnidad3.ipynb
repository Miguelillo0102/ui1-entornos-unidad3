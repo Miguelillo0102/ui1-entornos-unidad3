{
 "cells": [
  {
   "cell_type": "code",
   "execution_count": 1,
   "metadata": {},
   "outputs": [
    {
     "name": "stdout",
     "output_type": "stream",
     "text": [
      "+--------------------+--------------+------+-------+----+-----------+----+-----+--------------+--------------------+------------------+------------------+------------+\n",
      "|                 App|      Category|Rating|Reviews|Size|   Installs|Type|Price|Content Rating|              Genres|      Last Updated|       Current Ver| Android Ver|\n",
      "+--------------------+--------------+------+-------+----+-----------+----+-----+--------------+--------------------+------------------+------------------+------------+\n",
      "|Photo Editor & Ca...|ART_AND_DESIGN|   4.1|    159| 19M|    10,000+|Free|    0|      Everyone|        Art & Design|   January 7, 2018|             1.0.0|4.0.3 and up|\n",
      "| Coloring book moana|ART_AND_DESIGN|   3.9|    967| 14M|   500,000+|Free|    0|      Everyone|Art & Design;Pret...|  January 15, 2018|             2.0.0|4.0.3 and up|\n",
      "|U Launcher Lite –...|ART_AND_DESIGN|   4.7|  87510|8.7M| 5,000,000+|Free|    0|      Everyone|        Art & Design|    August 1, 2018|             1.2.4|4.0.3 and up|\n",
      "|Sketch - Draw & P...|ART_AND_DESIGN|   4.5| 215644| 25M|50,000,000+|Free|    0|          Teen|        Art & Design|      June 8, 2018|Varies with device|  4.2 and up|\n",
      "|Pixel Draw - Numb...|ART_AND_DESIGN|   4.3|    967|2.8M|   100,000+|Free|    0|      Everyone|Art & Design;Crea...|     June 20, 2018|               1.1|  4.4 and up|\n",
      "|Paper flowers ins...|ART_AND_DESIGN|   4.4|    167|5.6M|    50,000+|Free|    0|      Everyone|        Art & Design|    March 26, 2017|               1.0|  2.3 and up|\n",
      "|Smoke Effect Phot...|ART_AND_DESIGN|   3.8|    178| 19M|    50,000+|Free|    0|      Everyone|        Art & Design|    April 26, 2018|               1.1|4.0.3 and up|\n",
      "|    Infinite Painter|ART_AND_DESIGN|   4.1|  36815| 29M| 1,000,000+|Free|    0|      Everyone|        Art & Design|     June 14, 2018|          6.1.61.1|  4.2 and up|\n",
      "|Garden Coloring Book|ART_AND_DESIGN|   4.4|  13791| 33M| 1,000,000+|Free|    0|      Everyone|        Art & Design|September 20, 2017|             2.9.2|  3.0 and up|\n",
      "|Kids Paint Free -...|ART_AND_DESIGN|   4.7|    121|3.1M|    10,000+|Free|    0|      Everyone|Art & Design;Crea...|      July 3, 2018|               2.8|4.0.3 and up|\n",
      "+--------------------+--------------+------+-------+----+-----------+----+-----+--------------+--------------------+------------------+------------------+------------+\n",
      "only showing top 10 rows\n",
      "\n"
     ]
    }
   ],
   "source": [
    "google_play_df=spark.read.csv('../data/googleplaystore.csv', header=True, inferSchema=True, nullValue='', sep=',')\n",
    "google_play_df.show(n=10)"
   ]
  },
  {
   "cell_type": "code",
   "execution_count": 2,
   "metadata": {},
   "outputs": [],
   "source": [
    "from pyspark.sql.types import *\n",
    "schema = StructType( [\n",
    "    StructField('App', StringType()),\n",
    "    StructField('Category', StringType()),\n",
    "    StructField('Rating', DoubleType() ),\n",
    "    StructField('Reviews', IntegerType()),\n",
    "    StructField('Size', StringType()),\n",
    "    StructField('Installs', StringType()),\n",
    "    StructField('Type', StringType()),\n",
    "    StructField('Price', DoubleType()),\n",
    "    StructField('Genres', StringType()),\n",
    "    StructField('Last Updated', StringType()),\n",
    "    StructField('Current Ver', StringType()),\n",
    "    StructField('Android Ver', StringType())\n",
    "] )\n",
    "google_play_df = spark.read.csv('../data/googleplaystore.csv', header=True, schema=schema, nullValue='', sep=',')"
   ]
  },
  {
   "cell_type": "code",
   "execution_count": 3,
   "metadata": {},
   "outputs": [
    {
     "name": "stdout",
     "output_type": "stream",
     "text": [
      "+--------------------+--------------+------+-------+----+-----------+----+-----+--------------+--------------------+----------------+------------------+------------+\n",
      "|                 App|      Category|Rating|Reviews|Size|   Installs|Type|Price|Content Rating|              Genres|    Last Updated|       Current Ver| Android Ver|\n",
      "+--------------------+--------------+------+-------+----+-----------+----+-----+--------------+--------------------+----------------+------------------+------------+\n",
      "|Photo Editor & Ca...|ART_AND_DESIGN|   4.1|    159| 19M|    10,000+|Free|    0|      Everyone|        Art & Design| January 7, 2018|             1.0.0|4.0.3 and up|\n",
      "| Coloring book moana|ART_AND_DESIGN|   3.9|    967| 14M|   500,000+|Free|    0|      Everyone|Art & Design;Pret...|January 15, 2018|             2.0.0|4.0.3 and up|\n",
      "|U Launcher Lite –...|ART_AND_DESIGN|   4.7|  87510|8.7M| 5,000,000+|Free|    0|      Everyone|        Art & Design|  August 1, 2018|             1.2.4|4.0.3 and up|\n",
      "|Sketch - Draw & P...|ART_AND_DESIGN|   4.5| 215644| 25M|50,000,000+|Free|    0|          Teen|        Art & Design|    June 8, 2018|Varies with device|  4.2 and up|\n",
      "|Pixel Draw - Numb...|ART_AND_DESIGN|   4.3|    967|2.8M|   100,000+|Free|    0|      Everyone|Art & Design;Crea...|   June 20, 2018|               1.1|  4.4 and up|\n",
      "+--------------------+--------------+------+-------+----+-----------+----+-----+--------------+--------------------+----------------+------------------+------------+\n",
      "only showing top 5 rows\n",
      "\n"
     ]
    }
   ],
   "source": [
    "google_play_df=spark.read.csv('../data/googleplaystore.csv', header=True, inferSchema=True, nullValue='', sep=',', samplingRatio=0.3)\n",
    "google_play_df.show(n=5)"
   ]
  },
  {
   "cell_type": "code",
   "execution_count": 4,
   "metadata": {},
   "outputs": [
    {
     "name": "stdout",
     "output_type": "stream",
     "text": [
      "+--------------------+--------------------+---------+------------------+----------------------+\n",
      "|                 App|   Translated Review|Sentiment|Sentiment_Polarity|Sentiment_Subjectivity|\n",
      "+--------------------+--------------------+---------+------------------+----------------------+\n",
      "|10 Best Foods for...|I like eat delici...| Positive|               1.0|    0.5333333333333333|\n",
      "|10 Best Foods for...|This help eating ...| Positive|              0.25|   0.28846153846153844|\n",
      "|10 Best Foods for...|                null|     null|              null|                  null|\n",
      "|10 Best Foods for...|Works great espec...| Positive|               0.4|                 0.875|\n",
      "|10 Best Foods for...|        Best idea us| Positive|               1.0|                   0.3|\n",
      "+--------------------+--------------------+---------+------------------+----------------------+\n",
      "only showing top 5 rows\n",
      "\n"
     ]
    }
   ],
   "source": [
    "schema = StructType( [\n",
    "    StructField('App', StringType()),\n",
    "    StructField('Translated Review', StringType()),\n",
    "    StructField('Sentiment', StringType() ),\n",
    "    StructField('Sentiment_Polarity', DoubleType()),\n",
    "    StructField('Sentiment_Subjectivity', DoubleType())\n",
    "] )\n",
    "app_reviews_df = spark.read.csv('../data/googleplaystore_user_reviews.csv', sep=',', schema=schema, header=True)\n",
    "app_reviews_df.show(n=5)"
   ]
  },
  {
   "cell_type": "code",
   "execution_count": 5,
   "metadata": {},
   "outputs": [
    {
     "name": "stdout",
     "output_type": "stream",
     "text": [
      "+---+------+---+--------+-------+\n",
      "|age|gender| id|    name|surname|\n",
      "+---+------+---+--------+-------+\n",
      "| 25|     M|  1|    John|    Doe|\n",
      "| 18|     F|  2|    Mary|    Doe|\n",
      "| 25|     F|  3|    Lara|  Croft|\n",
      "| 44|     M|  4|    John| Watson|\n",
      "| 40|     F|  5|Sherlock| Holmes|\n",
      "+---+------+---+--------+-------+\n",
      "\n"
     ]
    }
   ],
   "source": [
    "sample_json_df = spark.read.json('../data/sample_json.json', multiLine=False)\n",
    "sample_json_df.show(n=5)"
   ]
  },
  {
   "cell_type": "code",
   "execution_count": 6,
   "metadata": {},
   "outputs": [
    {
     "name": "stdout",
     "output_type": "stream",
     "text": [
      "+-------------------+---+----------+---------+--------------------+------+--------------+----------------+------------+---------+---------+--------------------+--------+\n",
      "|  registration_dttm| id|first_name|last_name|               email|gender|    ip_address|              cc|     country|birthdate|   salary|               title|comments|\n",
      "+-------------------+---+----------+---------+--------------------+------+--------------+----------------+------------+---------+---------+--------------------+--------+\n",
      "|2016-02-03 08:55:29|  1|    Amanda|   Jordan|    ajordan0@com.com|Female|   1.197.201.2|6759521864920116|   Indonesia| 3/8/1971| 49756.53|    Internal Auditor|   1E+02|\n",
      "|2016-02-03 18:04:03|  2|    Albert|  Freeman|     afreeman1@is.gd|  Male|218.111.175.34|                |      Canada|1/16/1968|150280.17|       Accountant IV|        |\n",
      "|2016-02-03 02:09:31|  3|    Evelyn|   Morgan|emorgan2@altervis...|Female|  7.161.136.94|6767119071901597|      Russia| 2/1/1960|144972.51| Structural Engineer|        |\n",
      "|2016-02-03 01:36:21|  4|    Denise|    Riley|    driley3@gmpg.org|Female| 140.35.109.83|3576031598965625|       China| 4/8/1997| 90263.05|Senior Cost Accou...|        |\n",
      "|2016-02-03 06:05:31|  5|    Carlos|    Burns|cburns4@miitbeian...|      |169.113.235.40|5602256255204850|South Africa|         |     null|                    |        |\n",
      "+-------------------+---+----------+---------+--------------------+------+--------------+----------------+------------+---------+---------+--------------------+--------+\n",
      "only showing top 5 rows\n",
      "\n"
     ]
    }
   ],
   "source": [
    "sample_parquet_df = spark.read.parquet('../data/userdata1.parquet')\n",
    "sample_parquet_df.show(n=5)"
   ]
  },
  {
   "cell_type": "code",
   "execution_count": 7,
   "metadata": {},
   "outputs": [
    {
     "name": "stdout",
     "output_type": "stream",
     "text": [
      "+--------------------+\n",
      "|               value|\n",
      "+--------------------+\n",
      "|App,Category,Rati...|\n",
      "|Photo Editor & Ca...|\n",
      "|Coloring book moa...|\n",
      "|\"U Launcher Lite ...|\n",
      "|Sketch - Draw & P...|\n",
      "|Pixel Draw - Numb...|\n",
      "|Paper flowers ins...|\n",
      "|Smoke Effect Phot...|\n",
      "|Infinite Painter,...|\n",
      "|Garden Coloring B...|\n",
      "|Kids Paint Free -...|\n",
      "|Text on Photo - F...|\n",
      "|Name Art Photo Ed...|\n",
      "|Tattoo Name On My...|\n",
      "|Mandala Coloring ...|\n",
      "|3D Color Pixel by...|\n",
      "|Learn To Draw Kaw...|\n",
      "|Photo Designer - ...|\n",
      "|350 Diy Room Deco...|\n",
      "|FlipaClip - Carto...|\n",
      "+--------------------+\n",
      "only showing top 20 rows\n",
      "\n"
     ]
    }
   ],
   "source": [
    "spark.read.text('../data/googleplaystore.csv').show()"
   ]
  },
  {
   "cell_type": "code",
   "execution_count": 8,
   "metadata": {},
   "outputs": [
    {
     "data": {
      "text/plain": [
       "Column<b'((Price > 0) AND (Rating > 3))'>"
      ]
     },
     "execution_count": 8,
     "metadata": {},
     "output_type": "execute_result"
    }
   ],
   "source": [
    "from pyspark.sql.functions import col, column, expr\n",
    "google_play_df.Price - 10\n",
    "col('Price')-10\n",
    "column('Price')-10\n",
    "google_play_df.Price > 0\n",
    "col('Price')>0\n",
    "column('Price')>0\n",
    "expr('Price > 0')\n",
    "google_play_df.Rating * google_play_df.Reviews\n",
    "col('Rating')*col('Reviews')\n",
    "column('Rating')*column('Reviews')\n",
    "expr('Rating*Reviews')\n",
    "(google_play_df.Price>0) & (google_play_df.Rating>3)\n",
    "(col('Price')>0) & (col('Rating'))>3\n",
    "(column('Price')>0) & (column('Rating')>3)\n",
    "expr('Price>0 AND Rating>3')"
   ]
  },
  {
   "cell_type": "code",
   "execution_count": 9,
   "metadata": {},
   "outputs": [
    {
     "name": "stdout",
     "output_type": "stream",
     "text": [
      "+--------------------+--------------+------+-------+----+--------+----+-----+--------------+--------------------+----------------+-----------+------------+----------+\n",
      "|                 App|      Category|Rating|Reviews|Size|Installs|Type|Price|Content Rating|              Genres|    Last Updated|Current Ver| Android Ver|New_Column|\n",
      "+--------------------+--------------+------+-------+----+--------+----+-----+--------------+--------------------+----------------+-----------+------------+----------+\n",
      "|Photo Editor & Ca...|ART_AND_DESIGN|   4.1|    159| 19M| 10,000+|Free|    0|      Everyone|        Art & Design| January 7, 2018|      1.0.0|4.0.3 and up|      true|\n",
      "| Coloring book moana|ART_AND_DESIGN|   3.9|    967| 14M|500,000+|Free|    0|      Everyone|Art & Design;Pret...|January 15, 2018|      2.0.0|4.0.3 and up|      true|\n",
      "+--------------------+--------------+------+-------+----+--------+----+-----+--------------+--------------------+----------------+-----------+------------+----------+\n",
      "only showing top 2 rows\n",
      "\n"
     ]
    }
   ],
   "source": [
    "new_df = google_play_df.select(expr('*'), (col('Rating')>3).alias('New_Column') )\n",
    "new_df.show(2)"
   ]
  },
  {
   "cell_type": "code",
   "execution_count": 10,
   "metadata": {},
   "outputs": [
    {
     "name": "stdout",
     "output_type": "stream",
     "text": [
      "+--------------------+--------------+------+-------+----+--------+----+-----+--------------+--------------------+----------------+-----------+------------+----------+\n",
      "|                 App|      Category|Rating|Reviews|Size|Installs|Type|Price|Content Rating|              Genres|    Last Updated|Current Ver| Android Ver|New_Column|\n",
      "+--------------------+--------------+------+-------+----+--------+----+-----+--------------+--------------------+----------------+-----------+------------+----------+\n",
      "|Photo Editor & Ca...|ART_AND_DESIGN|   4.1|    159| 19M| 10,000+|Free|    0|      Everyone|        Art & Design| January 7, 2018|      1.0.0|4.0.3 and up|      true|\n",
      "| Coloring book moana|ART_AND_DESIGN|   3.9|    967| 14M|500,000+|Free|    0|      Everyone|Art & Design;Pret...|January 15, 2018|      2.0.0|4.0.3 and up|      true|\n",
      "+--------------------+--------------+------+-------+----+--------+----+-----+--------------+--------------------+----------------+-----------+------------+----------+\n",
      "only showing top 2 rows\n",
      "\n"
     ]
    }
   ],
   "source": [
    "new_df = google_play_df.select(expr('*'), expr('Rating>3 AS New_Column') )\n",
    "new_df.show(2)"
   ]
  },
  {
   "cell_type": "code",
   "execution_count": 11,
   "metadata": {},
   "outputs": [
    {
     "name": "stdout",
     "output_type": "stream",
     "text": [
      "+--------------------+--------------+------+-------+----+-----------+----+-----+--------------+--------------------+----------------+------------------+------------+----------+\n",
      "|                 App|      Category|Rating|Reviews|Size|   Installs|Type|Price|Content Rating|              Genres|    Last Updated|       Current Ver| Android Ver|New_Column|\n",
      "+--------------------+--------------+------+-------+----+-----------+----+-----+--------------+--------------------+----------------+------------------+------------+----------+\n",
      "|Photo Editor & Ca...|ART_AND_DESIGN|   4.1|    159| 19M|    10,000+|Free|    0|      Everyone|        Art & Design| January 7, 2018|             1.0.0|4.0.3 and up|      true|\n",
      "| Coloring book moana|ART_AND_DESIGN|   3.9|    967| 14M|   500,000+|Free|    0|      Everyone|Art & Design;Pret...|January 15, 2018|             2.0.0|4.0.3 and up|      true|\n",
      "|U Launcher Lite –...|ART_AND_DESIGN|   4.7|  87510|8.7M| 5,000,000+|Free|    0|      Everyone|        Art & Design|  August 1, 2018|             1.2.4|4.0.3 and up|      true|\n",
      "|Sketch - Draw & P...|ART_AND_DESIGN|   4.5| 215644| 25M|50,000,000+|Free|    0|          Teen|        Art & Design|    June 8, 2018|Varies with device|  4.2 and up|      true|\n",
      "|Pixel Draw - Numb...|ART_AND_DESIGN|   4.3|    967|2.8M|   100,000+|Free|    0|      Everyone|Art & Design;Crea...|   June 20, 2018|               1.1|  4.4 and up|      true|\n",
      "+--------------------+--------------+------+-------+----+-----------+----+-----+--------------+--------------------+----------------+------------------+------------+----------+\n",
      "only showing top 5 rows\n",
      "\n"
     ]
    }
   ],
   "source": [
    "new_df = google_play_df.selectExpr('*', 'Rating>3 AS New_Column')\n",
    "new_df.show(5)"
   ]
  },
  {
   "cell_type": "code",
   "execution_count": 12,
   "metadata": {},
   "outputs": [
    {
     "name": "stdout",
     "output_type": "stream",
     "text": [
      "+--------------------+--------------+------+-------+----+-----------+----+-----+--------------+--------------------+----------------+------------------+------------+\n",
      "|                 App|      Category|Rating|Reviews|Size|   Installs|Type|Price|Content Rating|              Genres|    Last Updated|       Current Ver| Android Ver|\n",
      "+--------------------+--------------+------+-------+----+-----------+----+-----+--------------+--------------------+----------------+------------------+------------+\n",
      "|Photo Editor & Ca...|ART_AND_DESIGN|   4.1|    159| 19M|    10,000+|Free|  0.0|      Everyone|        Art & Design| January 7, 2018|             1.0.0|4.0.3 and up|\n",
      "| Coloring book moana|ART_AND_DESIGN|   3.9|    967| 14M|   500,000+|Free|  0.0|      Everyone|Art & Design;Pret...|January 15, 2018|             2.0.0|4.0.3 and up|\n",
      "|U Launcher Lite –...|ART_AND_DESIGN|   4.7|  87510|8.7M| 5,000,000+|Free|  0.0|      Everyone|        Art & Design|  August 1, 2018|             1.2.4|4.0.3 and up|\n",
      "|Sketch - Draw & P...|ART_AND_DESIGN|   4.5| 215644| 25M|50,000,000+|Free|  0.0|          Teen|        Art & Design|    June 8, 2018|Varies with device|  4.2 and up|\n",
      "|Pixel Draw - Numb...|ART_AND_DESIGN|   4.3|    967|2.8M|   100,000+|Free|  0.0|      Everyone|Art & Design;Crea...|   June 20, 2018|               1.1|  4.4 and up|\n",
      "+--------------------+--------------+------+-------+----+-----------+----+-----+--------------+--------------------+----------------+------------------+------------+\n",
      "only showing top 5 rows\n",
      "\n"
     ]
    }
   ],
   "source": [
    "google_play_df = google_play_df.withColumn('Price', expr('double(replace(Price,\"\\$\",\"\"))'))\n",
    "google_play_df.show(5)"
   ]
  },
  {
   "cell_type": "code",
   "execution_count": 13,
   "metadata": {},
   "outputs": [],
   "source": [
    "google_play_df=google_play_df.withColumn('Size', expr('double(replace(replace(Size,\"M\",\"000\"),\"K\",\"\"))'))"
   ]
  },
  {
   "cell_type": "code",
   "execution_count": 14,
   "metadata": {},
   "outputs": [
    {
     "name": "stdout",
     "output_type": "stream",
     "text": [
      "+--------------------+--------------+------+-------+-------+-----------+----+-----+--------------+--------------------+----------------+------------------+------------+\n",
      "|                 App|      Category|Rating|Reviews|   Size|  Downloads|Type|Price|Content Rating|              Genres|    Last Updated|       Current Ver| Android Ver|\n",
      "+--------------------+--------------+------+-------+-------+-----------+----+-----+--------------+--------------------+----------------+------------------+------------+\n",
      "|Photo Editor & Ca...|ART_AND_DESIGN|   4.1|    159|19000.0|    10,000+|Free|  0.0|      Everyone|        Art & Design| January 7, 2018|             1.0.0|4.0.3 and up|\n",
      "| Coloring book moana|ART_AND_DESIGN|   3.9|    967|14000.0|   500,000+|Free|  0.0|      Everyone|Art & Design;Pret...|January 15, 2018|             2.0.0|4.0.3 and up|\n",
      "|U Launcher Lite –...|ART_AND_DESIGN|   4.7|  87510|    8.7| 5,000,000+|Free|  0.0|      Everyone|        Art & Design|  August 1, 2018|             1.2.4|4.0.3 and up|\n",
      "|Sketch - Draw & P...|ART_AND_DESIGN|   4.5| 215644|25000.0|50,000,000+|Free|  0.0|          Teen|        Art & Design|    June 8, 2018|Varies with device|  4.2 and up|\n",
      "|Pixel Draw - Numb...|ART_AND_DESIGN|   4.3|    967|    2.8|   100,000+|Free|  0.0|      Everyone|Art & Design;Crea...|   June 20, 2018|               1.1|  4.4 and up|\n",
      "+--------------------+--------------+------+-------+-------+-----------+----+-----+--------------+--------------------+----------------+------------------+------------+\n",
      "only showing top 5 rows\n",
      "\n"
     ]
    }
   ],
   "source": [
    "new_df=google_play_df.withColumnRenamed('Installs', 'Downloads')\n",
    "new_df.show(5)"
   ]
  },
  {
   "cell_type": "code",
   "execution_count": 15,
   "metadata": {},
   "outputs": [
    {
     "name": "stdout",
     "output_type": "stream",
     "text": [
      "+--------------------+-----+\n",
      "|                 App|Price|\n",
      "+--------------------+-----+\n",
      "|Photo Editor & Ca...|  0.0|\n",
      "| Coloring book moana|  0.0|\n",
      "|U Launcher Lite –...|  0.0|\n",
      "|Sketch - Draw & P...|  0.0|\n",
      "|Pixel Draw - Numb...|  0.0|\n",
      "+--------------------+-----+\n",
      "only showing top 5 rows\n",
      "\n"
     ]
    }
   ],
   "source": [
    "new_df = google_play_df.select('App', 'Price')\n",
    "new_df.show(5)"
   ]
  },
  {
   "cell_type": "code",
   "execution_count": 16,
   "metadata": {},
   "outputs": [
    {
     "name": "stdout",
     "output_type": "stream",
     "text": [
      "+--------------------+--------------+------+-------+-------+-----------+----+-----+--------------------+------------------+------------+\n",
      "|                 App|      Category|Rating|Reviews|   Size|   Installs|Type|Price|              Genres|       Current Ver| Android Ver|\n",
      "+--------------------+--------------+------+-------+-------+-----------+----+-----+--------------------+------------------+------------+\n",
      "|Photo Editor & Ca...|ART_AND_DESIGN|   4.1|    159|19000.0|    10,000+|Free|  0.0|        Art & Design|             1.0.0|4.0.3 and up|\n",
      "| Coloring book moana|ART_AND_DESIGN|   3.9|    967|14000.0|   500,000+|Free|  0.0|Art & Design;Pret...|             2.0.0|4.0.3 and up|\n",
      "|U Launcher Lite –...|ART_AND_DESIGN|   4.7|  87510|    8.7| 5,000,000+|Free|  0.0|        Art & Design|             1.2.4|4.0.3 and up|\n",
      "|Sketch - Draw & P...|ART_AND_DESIGN|   4.5| 215644|25000.0|50,000,000+|Free|  0.0|        Art & Design|Varies with device|  4.2 and up|\n",
      "|Pixel Draw - Numb...|ART_AND_DESIGN|   4.3|    967|    2.8|   100,000+|Free|  0.0|Art & Design;Crea...|               1.1|  4.4 and up|\n",
      "+--------------------+--------------+------+-------+-------+-----------+----+-----+--------------------+------------------+------------+\n",
      "only showing top 5 rows\n",
      "\n"
     ]
    }
   ],
   "source": [
    "new_df = google_play_df.drop('Content Rating', 'Last Updated')\n",
    "new_df.show(5)"
   ]
  },
  {
   "cell_type": "code",
   "execution_count": 17,
   "metadata": {},
   "outputs": [],
   "source": [
    "from pyspark.sql import Row\n",
    "new_row = Row('UI1', 'I love it!', 'Positive', 1.0, 0.0)\n"
   ]
  },
  {
   "cell_type": "code",
   "execution_count": 18,
   "metadata": {},
   "outputs": [],
   "source": [
    "new_df = app_reviews_df.union(spark.createDataFrame([new_row]))"
   ]
  },
  {
   "cell_type": "code",
   "execution_count": 19,
   "metadata": {},
   "outputs": [
    {
     "name": "stdout",
     "output_type": "stream",
     "text": [
      "+--------------------+---------+------+-------+-------+--------+----+-----+--------------+-------------------+-----------------+-------------+------------+\n",
      "|                 App| Category|Rating|Reviews|   Size|Installs|Type|Price|Content Rating|             Genres|     Last Updated|  Current Ver| Android Ver|\n",
      "+--------------------+---------+------+-------+-------+--------+----+-----+--------------+-------------------+-----------------+-------------+------------+\n",
      "|          Calculator|   DATING|   2.6|     57|    6.2|  1,000+|Paid| 6.99|      Everyone|             Dating| October 25, 2017|        1.1.6|  4.0 and up|\n",
      "|AMBW Dating App: ...|   DATING|   3.5|      2|17000.0|    100+|Paid| 7.99|    Mature 17+|             Dating| January 21, 2017|        1.0.1|  4.0 and up|\n",
      "|Fuzzy Numbers: Pr...|EDUCATION|   4.7|     21|44000.0|  1,000+|Paid| 5.99|      Everyone|Education;Education|    July 21, 2017|          1.3|  4.1 and up|\n",
      "|RollerCoaster Tyc...|     GAME|   4.6|  10795|69000.0|100,000+|Paid| 5.99|      Everyone|         Simulation|December 21, 2017|1.2.1.1712080|4.0.3 and up|\n",
      "|Call of Duty:Blac...|     GAME|   4.2|  13004|46000.0|100,000+|Paid| 6.99|          Teen|             Action|December 20, 2016|       1.0.11|2.3.3 and up|\n",
      "+--------------------+---------+------+-------+-------+--------+----+-----+--------------+-------------------+-----------------+-------------+------------+\n",
      "only showing top 5 rows\n",
      "\n"
     ]
    }
   ],
   "source": [
    "more_than_5_df = google_play_df.filter( expr('Price>5') )\n",
    "more_than_5_df.show(5)"
   ]
  },
  {
   "cell_type": "code",
   "execution_count": 20,
   "metadata": {},
   "outputs": [
    {
     "name": "stdout",
     "output_type": "stream",
     "text": [
      "+--------------------+--------+------+--------+-------+------------+----+-----+--------------+-------------------+-----------------+------------------+------------+\n",
      "|                 App|Category|Rating| Reviews|   Size|    Installs|Type|Price|Content Rating|             Genres|     Last Updated|       Current Ver| Android Ver|\n",
      "+--------------------+--------+------+--------+-------+------------+----+-----+--------------+-------------------+-----------------+------------------+------------+\n",
      "|    Candy Crush Saga|    GAME|   4.4|22426677|74000.0|500,000,000+|Free|  0.0|      Everyone|             Casual|     July 5, 2018|         1.129.0.2|  4.1 and up|\n",
      "|           Solitaire|    GAME|   4.7|  254258|23000.0| 10,000,000+|Free|  0.0|      Everyone|               Card|   August 1, 2018|           2.137.0|  4.1 and up|\n",
      "|      Bubble Shooter|    GAME|   4.5|  148897|46000.0| 10,000,000+|Free|  0.0|      Everyone|             Casual|    July 17, 2018|            1.20.1|4.0.3 and up|\n",
      "|Hello Kitty Nail ...|    GAME|   4.2|  369203|24000.0| 50,000,000+|Free|  0.0|      Everyone|Casual;Pretend Play|   April 17, 2018|               1.5|  4.1 and up|\n",
      "|          slither.io|    GAME|   4.4| 5234162|   null|100,000,000+|Free|  0.0|      Everyone|             Action|November 14, 2017|Varies with device|  2.3 and up|\n",
      "|        Temple Run 2|    GAME|   4.3| 8118609|62000.0|500,000,000+|Free|  0.0|      Everyone|             Action|     July 5, 2018|            1.49.1|  4.0 and up|\n",
      "|                 Pou|    GAME|   4.3|10485308|24000.0|500,000,000+|Free|  0.0|      Everyone|             Casual|     May 25, 2018|            1.4.77|  4.0 and up|\n",
      "|          Helix Jump|    GAME|   4.2| 1497361|33000.0|100,000,000+|Free|  0.0|      Everyone|             Action|    April 9, 2018|             1.0.6|  4.1 and up|\n",
      "|        Block Puzzle|    GAME|   4.6|   59800|    7.8|  5,000,000+|Free|  0.0|      Everyone|             Puzzle|    March 6, 2018|               2.9|  2.3 and up|\n",
      "|     Angry Birds Rio|    GAME|   4.4| 2610526|46000.0|100,000,000+|Free|  0.0|      Everyone|             Arcade|     July 3, 2018|             2.6.9|  4.1 and up|\n",
      "|          Sonic Dash|    GAME|   4.5| 3778921|75000.0|100,000,000+|Free|  0.0|      Everyone|             Arcade|    July 26, 2018|          3.8.5.Go|  4.1 and up|\n",
      "|Candy Crush Soda ...|    GAME|   4.4| 6198563|67000.0|100,000,000+|Free|  0.0|      Everyone|             Casual|    July 10, 2018|           1.118.4|  4.1 and up|\n",
      "|Block Puzzle Clas...|    GAME|   4.2|   17039|    4.9|  5,000,000+|Free|  0.0|      Everyone|             Puzzle|   April 13, 2018|               2.9|2.3.3 and up|\n",
      "|             PAC-MAN|    GAME|   4.2|  685981|37000.0|100,000,000+|Free|  0.0|      Everyone|             Arcade|     May 15, 2018|             6.6.3|  4.1 and up|\n",
      "|Super Jim Jump - ...|    GAME|   4.5|   10393|18000.0|  1,000,000+|Free|  0.0|      Everyone|             Arcade|    July 11, 2018|          2.2.3181|  4.0 and up|\n",
      "|         8 Ball Pool|    GAME|   4.5|14198297|52000.0|100,000,000+|Free|  0.0|      Everyone|             Sports|    July 31, 2018|             4.0.0|4.0.3 and up|\n",
      "|       Magic Tiles 3|    GAME|   4.5|  592068|   null| 50,000,000+|Free|  0.0|      Everyone|              Music|   August 3, 2018|          5.13.007|  4.1 and up|\n",
      "| Bubble Witch 3 Saga|    GAME|   4.7| 1732263|78000.0| 50,000,000+|Free|  0.0|      Everyone|             Puzzle|    July 17, 2018|             4.8.4|  3.0 and up|\n",
      "|         Word Search|    GAME|   4.7|  295241|    3.9| 10,000,000+|Free|  0.0|      Everyone|               Word|     June 6, 2018|             1.1.3|  3.0 and up|\n",
      "| Angry Birds Classic|    GAME|   4.4| 5566669|97000.0|100,000,000+|Free|  0.0|      Everyone|             Arcade|     May 24, 2018|             7.9.3|  4.1 and up|\n",
      "+--------------------+--------+------+--------+-------+------------+----+-----+--------------+-------------------+-----------------+------------------+------------+\n",
      "only showing top 20 rows\n",
      "\n"
     ]
    }
   ],
   "source": [
    "games_df = google_play_df.filter( expr('Category=\"GAME\" AND Price<3 AND `Content Rating`=\"Everyone\"') )\n",
    "games_df.show()"
   ]
  },
  {
   "cell_type": "code",
   "execution_count": 21,
   "metadata": {},
   "outputs": [
    {
     "name": "stdout",
     "output_type": "stream",
     "text": [
      "+--------------------+--------+------+--------+-------+------------+----+-----+--------------+-------------------+-----------------+------------------+------------+\n",
      "|                 App|Category|Rating| Reviews|   Size|    Installs|Type|Price|Content Rating|             Genres|     Last Updated|       Current Ver| Android Ver|\n",
      "+--------------------+--------+------+--------+-------+------------+----+-----+--------------+-------------------+-----------------+------------------+------------+\n",
      "|    Candy Crush Saga|    GAME|   4.4|22426677|74000.0|500,000,000+|Free|  0.0|      Everyone|             Casual|     July 5, 2018|         1.129.0.2|  4.1 and up|\n",
      "|           Solitaire|    GAME|   4.7|  254258|23000.0| 10,000,000+|Free|  0.0|      Everyone|               Card|   August 1, 2018|           2.137.0|  4.1 and up|\n",
      "|      Bubble Shooter|    GAME|   4.5|  148897|46000.0| 10,000,000+|Free|  0.0|      Everyone|             Casual|    July 17, 2018|            1.20.1|4.0.3 and up|\n",
      "|Hello Kitty Nail ...|    GAME|   4.2|  369203|24000.0| 50,000,000+|Free|  0.0|      Everyone|Casual;Pretend Play|   April 17, 2018|               1.5|  4.1 and up|\n",
      "|          slither.io|    GAME|   4.4| 5234162|   null|100,000,000+|Free|  0.0|      Everyone|             Action|November 14, 2017|Varies with device|  2.3 and up|\n",
      "|        Temple Run 2|    GAME|   4.3| 8118609|62000.0|500,000,000+|Free|  0.0|      Everyone|             Action|     July 5, 2018|            1.49.1|  4.0 and up|\n",
      "|                 Pou|    GAME|   4.3|10485308|24000.0|500,000,000+|Free|  0.0|      Everyone|             Casual|     May 25, 2018|            1.4.77|  4.0 and up|\n",
      "|          Helix Jump|    GAME|   4.2| 1497361|33000.0|100,000,000+|Free|  0.0|      Everyone|             Action|    April 9, 2018|             1.0.6|  4.1 and up|\n",
      "|        Block Puzzle|    GAME|   4.6|   59800|    7.8|  5,000,000+|Free|  0.0|      Everyone|             Puzzle|    March 6, 2018|               2.9|  2.3 and up|\n",
      "|     Angry Birds Rio|    GAME|   4.4| 2610526|46000.0|100,000,000+|Free|  0.0|      Everyone|             Arcade|     July 3, 2018|             2.6.9|  4.1 and up|\n",
      "|          Sonic Dash|    GAME|   4.5| 3778921|75000.0|100,000,000+|Free|  0.0|      Everyone|             Arcade|    July 26, 2018|          3.8.5.Go|  4.1 and up|\n",
      "|Candy Crush Soda ...|    GAME|   4.4| 6198563|67000.0|100,000,000+|Free|  0.0|      Everyone|             Casual|    July 10, 2018|           1.118.4|  4.1 and up|\n",
      "|Block Puzzle Clas...|    GAME|   4.2|   17039|    4.9|  5,000,000+|Free|  0.0|      Everyone|             Puzzle|   April 13, 2018|               2.9|2.3.3 and up|\n",
      "|             PAC-MAN|    GAME|   4.2|  685981|37000.0|100,000,000+|Free|  0.0|      Everyone|             Arcade|     May 15, 2018|             6.6.3|  4.1 and up|\n",
      "|Super Jim Jump - ...|    GAME|   4.5|   10393|18000.0|  1,000,000+|Free|  0.0|      Everyone|             Arcade|    July 11, 2018|          2.2.3181|  4.0 and up|\n",
      "|         8 Ball Pool|    GAME|   4.5|14198297|52000.0|100,000,000+|Free|  0.0|      Everyone|             Sports|    July 31, 2018|             4.0.0|4.0.3 and up|\n",
      "|       Magic Tiles 3|    GAME|   4.5|  592068|   null| 50,000,000+|Free|  0.0|      Everyone|              Music|   August 3, 2018|          5.13.007|  4.1 and up|\n",
      "| Bubble Witch 3 Saga|    GAME|   4.7| 1732263|78000.0| 50,000,000+|Free|  0.0|      Everyone|             Puzzle|    July 17, 2018|             4.8.4|  3.0 and up|\n",
      "|         Word Search|    GAME|   4.7|  295241|    3.9| 10,000,000+|Free|  0.0|      Everyone|               Word|     June 6, 2018|             1.1.3|  3.0 and up|\n",
      "| Angry Birds Classic|    GAME|   4.4| 5566669|97000.0|100,000,000+|Free|  0.0|      Everyone|             Arcade|     May 24, 2018|             7.9.3|  4.1 and up|\n",
      "+--------------------+--------+------+--------+-------+------------+----+-----+--------------+-------------------+-----------------+------------------+------------+\n",
      "only showing top 20 rows\n",
      "\n"
     ]
    }
   ],
   "source": [
    "games_df = google_play_df.filter( (col('Category')=='GAME') & (col('Price')<3) & (col('Content Rating')=='Everyone') )\n",
    "games_df.show()"
   ]
  },
  {
   "cell_type": "code",
   "execution_count": 22,
   "metadata": {},
   "outputs": [
    {
     "name": "stdout",
     "output_type": "stream",
     "text": [
      "+--------------------+--------------+------+-------+-------+-----------+----+-----+--------------+--------------------+------------------+------------------+------------+\n",
      "|                 App|      Category|Rating|Reviews|   Size|   Installs|Type|Price|Content Rating|              Genres|      Last Updated|       Current Ver| Android Ver|\n",
      "+--------------------+--------------+------+-------+-------+-----------+----+-----+--------------+--------------------+------------------+------------------+------------+\n",
      "|Photo Editor & Ca...|ART_AND_DESIGN|   4.1|    159|19000.0|    10,000+|Free|  0.0|      Everyone|        Art & Design|   January 7, 2018|             1.0.0|4.0.3 and up|\n",
      "| Coloring book moana|ART_AND_DESIGN|   3.9|    967|14000.0|   500,000+|Free|  0.0|      Everyone|Art & Design;Pret...|  January 15, 2018|             2.0.0|4.0.3 and up|\n",
      "|U Launcher Lite –...|ART_AND_DESIGN|   4.7|  87510|    8.7| 5,000,000+|Free|  0.0|      Everyone|        Art & Design|    August 1, 2018|             1.2.4|4.0.3 and up|\n",
      "|Sketch - Draw & P...|ART_AND_DESIGN|   4.5| 215644|25000.0|50,000,000+|Free|  0.0|          Teen|        Art & Design|      June 8, 2018|Varies with device|  4.2 and up|\n",
      "|Pixel Draw - Numb...|ART_AND_DESIGN|   4.3|    967|    2.8|   100,000+|Free|  0.0|      Everyone|Art & Design;Crea...|     June 20, 2018|               1.1|  4.4 and up|\n",
      "|Paper flowers ins...|ART_AND_DESIGN|   4.4|    167|    5.6|    50,000+|Free|  0.0|      Everyone|        Art & Design|    March 26, 2017|               1.0|  2.3 and up|\n",
      "|Smoke Effect Phot...|ART_AND_DESIGN|   3.8|    178|19000.0|    50,000+|Free|  0.0|      Everyone|        Art & Design|    April 26, 2018|               1.1|4.0.3 and up|\n",
      "|    Infinite Painter|ART_AND_DESIGN|   4.1|  36815|29000.0| 1,000,000+|Free|  0.0|      Everyone|        Art & Design|     June 14, 2018|          6.1.61.1|  4.2 and up|\n",
      "|Garden Coloring Book|ART_AND_DESIGN|   4.4|  13791|33000.0| 1,000,000+|Free|  0.0|      Everyone|        Art & Design|September 20, 2017|             2.9.2|  3.0 and up|\n",
      "|Kids Paint Free -...|ART_AND_DESIGN|   4.7|    121|    3.1|    10,000+|Free|  0.0|      Everyone|Art & Design;Crea...|      July 3, 2018|               2.8|4.0.3 and up|\n",
      "|Text on Photo - F...|ART_AND_DESIGN|   4.4|  13880|28000.0| 1,000,000+|Free|  0.0|      Everyone|        Art & Design|  October 27, 2017|             1.0.4|  4.1 and up|\n",
      "|Name Art Photo Ed...|ART_AND_DESIGN|   4.4|   8788|12000.0| 1,000,000+|Free|  0.0|      Everyone|        Art & Design|     July 31, 2018|            1.0.15|  4.0 and up|\n",
      "|Tattoo Name On My...|ART_AND_DESIGN|   4.2|  44829|20000.0|10,000,000+|Free|  0.0|          Teen|        Art & Design|     April 2, 2018|               3.8|  4.1 and up|\n",
      "|Mandala Coloring ...|ART_AND_DESIGN|   4.6|   4326|21000.0|   100,000+|Free|  0.0|      Everyone|        Art & Design|     June 26, 2018|             1.0.4|  4.4 and up|\n",
      "|3D Color Pixel by...|ART_AND_DESIGN|   4.4|   1518|37000.0|   100,000+|Free|  0.0|      Everyone|        Art & Design|    August 3, 2018|             1.2.3|  2.3 and up|\n",
      "|Learn To Draw Kaw...|ART_AND_DESIGN|   3.2|     55|    2.7|     5,000+|Free|  0.0|      Everyone|        Art & Design|      June 6, 2018|              null|  4.2 and up|\n",
      "|Photo Designer - ...|ART_AND_DESIGN|   4.7|   3632|    5.5|   500,000+|Free|  0.0|      Everyone|        Art & Design|     July 31, 2018|               3.1|  4.1 and up|\n",
      "|350 Diy Room Deco...|ART_AND_DESIGN|   4.5|     27|17000.0|    10,000+|Free|  0.0|      Everyone|        Art & Design|  November 7, 2017|               1.0|  2.3 and up|\n",
      "|FlipaClip - Carto...|ART_AND_DESIGN|   4.3| 194216|39000.0| 5,000,000+|Free|  0.0|      Everyone|        Art & Design|    August 3, 2018|             2.2.5|4.0.3 and up|\n",
      "|        ibis Paint X|ART_AND_DESIGN|   4.6| 224399|31000.0|10,000,000+|Free|  0.0|      Everyone|        Art & Design|     July 30, 2018|             5.5.4|  4.1 and up|\n",
      "+--------------------+--------------+------+-------+-------+-----------+----+-----+--------------+--------------------+------------------+------------------+------------+\n",
      "only showing top 20 rows\n",
      "\n"
     ]
    }
   ],
   "source": [
    "limited_df = google_play_df.limit(40)\n",
    "limited_df.show()"
   ]
  },
  {
   "cell_type": "code",
   "execution_count": 23,
   "metadata": {},
   "outputs": [
    {
     "name": "stdout",
     "output_type": "stream",
     "text": [
      "30679 3358\n"
     ]
    }
   ],
   "source": [
    "distinct_reviews_df = app_reviews_df.dropDuplicates(subset=['App', 'Sentiment'])\n",
    "print(app_reviews_df.distinct().count(), distinct_reviews_df.count())"
   ]
  },
  {
   "cell_type": "code",
   "execution_count": 24,
   "metadata": {},
   "outputs": [
    {
     "name": "stdout",
     "output_type": "stream",
     "text": [
      "484 592 587 553\n"
     ]
    }
   ],
   "source": [
    "df1 = games_df.dropna('any')\n",
    "df2 = games_df.dropna('all')\n",
    "df3 = games_df.dropna(thresh=12)\n",
    "df4 = games_df.dropna('any', subset=['Rating', 'Android Ver'])\n",
    "print(df1.count(), df2.count(), df3.count(), df4.count())"
   ]
  },
  {
   "cell_type": "code",
   "execution_count": 25,
   "metadata": {},
   "outputs": [
    {
     "name": "stdout",
     "output_type": "stream",
     "text": [
      "0\n"
     ]
    }
   ],
   "source": [
    "from pyspark.sql.functions import isnull\n",
    "games_full_rating_df=games_df.fillna(2.5, subset=['Rating'])\n",
    "print( games_full_rating_df.filter( isnull(col('Rating')) ).count() )"
   ]
  },
  {
   "cell_type": "code",
   "execution_count": 26,
   "metadata": {},
   "outputs": [
    {
     "name": "stdout",
     "output_type": "stream",
     "text": [
      "+--------------------+--------+------+-------+-------+-----------+----+-----+--------------+----------+------------------+-----------+------------+\n",
      "|                 App|Category|Rating|Reviews|   Size|   Installs|Type|Price|Content Rating|    Genres|      Last Updated|Current Ver| Android Ver|\n",
      "+--------------------+--------+------+-------+-------+-----------+----+-----+--------------+----------+------------------+-----------+------------+\n",
      "|   Mad Dash Fo' Cash|    GAME|   5.0|     14|16000.0|       100+|Free|  0.0|      Everyone|    Arcade|     June 19, 2017|       2.5a|  4.1 and up|\n",
      "|Trovami se ci riesci|    GAME|   5.0|     11|    6.1|        10+|Free|  0.0|      Everyone|    Arcade|    March 11, 2017|        0.1|  2.3 and up|\n",
      "|    Axe Champs! Wars|    GAME|   5.0|      8|25000.0|        50+|Free|  0.0|      Everyone|    Arcade|     June 26, 2018|        1.1|  4.1 and up|\n",
      "|Flippy Axe : Flip...|    GAME|   5.0|      7|15000.0|       100+|Free|  0.0|      Everyone|    Arcade|September 27, 2017|        1.1|  4.2 and up|\n",
      "|    Brick Breaker BR|    GAME|   5.0|      7|19000.0|         5+|Free|  0.0|      Everyone|    Arcade|     July 23, 2018|        1.0|  4.1 and up|\n",
      "|           CP Trivia|    GAME|   5.0|      5|12000.0|       100+|Free|  0.0|      Everyone|    Trivia|    August 6, 2018|       0.99|  5.0 and up|\n",
      "|            EC Mover|    GAME|   5.0|      5|    4.6|        10+|Free|  0.0|      Everyone|    Racing|    August 1, 2018|       1.11|4.0.3 and up|\n",
      "|            Ra Ga Ba|    GAME|   5.0|      2|20000.0|         1+|Paid| 1.49|      Everyone|    Arcade|  February 8, 2017|      1.0.4|  2.3 and up|\n",
      "|             Mu.F.O.|    GAME|   5.0|      2|16000.0|         1+|Paid| 0.99|      Everyone|    Arcade|     March 3, 2017|        1.0|  2.3 and up|\n",
      "|    Monster Ride Pro|    GAME|   5.0|      1|24000.0|        10+|Free|  0.0|      Everyone|    Racing|     March 5, 2018|        2.0|  2.3 and up|\n",
      "|Solitaire: Decked...|    GAME|   4.9|  37302|35000.0|   500,000+|Free|  0.0|      Everyone|      Card|       May 8, 2017|      1.3.3|  4.1 and up|\n",
      "|           Word Hunt|    GAME|   4.9|     59|21000.0|       500+|Free|  0.0|      Everyone|      Word|     June 22, 2018|        1.0|  4.4 and up|\n",
      "|Cash, Inc. Money ...|    GAME|   4.8| 549720|85000.0|10,000,000+|Free|  0.0|      Everyone|Simulation|     July 19, 2018|  2.1.1.4.0|  4.4 and up|\n",
      "|          Wordscapes|    GAME|   4.8| 230849|87000.0|10,000,000+|Free|  0.0|      Everyone|      Word|    August 2, 2018|     1.0.47|  4.1 and up|\n",
      "|          Wordscapes|    GAME|   4.8| 230727|87000.0|10,000,000+|Free|  0.0|      Everyone|      Word|    August 2, 2018|     1.0.47|  4.1 and up|\n",
      "|          Wordscapes|    GAME|   4.8| 230727|87000.0|10,000,000+|Free|  0.0|      Everyone|      Word|    August 2, 2018|     1.0.47|  4.1 and up|\n",
      "|          Wordscapes|    GAME|   4.8| 230710|87000.0|10,000,000+|Free|  0.0|      Everyone|      Word|    August 2, 2018|     1.0.47|  4.1 and up|\n",
      "|CT-ART 4.0 (Chess...|    GAME|   4.8|   8191|   null|   100,000+|Free|  0.0|      Everyone|     Board|      May 22, 2018|      1.1.0|  4.1 and up|\n",
      "|Sermon on Proverb...|    GAME|   4.8|     35|    3.1|    10,000+|Free|  0.0|      Everyone|    Trivia|     July 29, 2016|      1.0.0|  4.0 and up|\n",
      "|Puppy Shooting an...|    GAME|   4.8|     21|89000.0|     1,000+|Free|  0.0|      Everyone|    Arcade|    March 30, 2018|    0.46.91|  4.4 and up|\n",
      "+--------------------+--------+------+-------+-------+-----------+----+-----+--------------+----------+------------------+-----------+------------+\n",
      "only showing top 20 rows\n",
      "\n"
     ]
    }
   ],
   "source": [
    "games_df.sort(col('Rating').desc(), col('Reviews').desc()).show()"
   ]
  },
  {
   "cell_type": "code",
   "execution_count": 27,
   "metadata": {},
   "outputs": [
    {
     "name": "stdout",
     "output_type": "stream",
     "text": [
      "[Row(App=\"Mad Dash Fo' Cash\", Category='GAME', Rating=5.0, Reviews=14, Size=16000.0, Installs='100+', Type='Free', Price=0.0, Content Rating='Everyone', Genres='Arcade', Last Updated='June 19, 2017', Current Ver='2.5a', Android Ver='4.1 and up'), Row(App='Trovami se ci riesci', Category='GAME', Rating=5.0, Reviews=11, Size=6.1, Installs='10+', Type='Free', Price=0.0, Content Rating='Everyone', Genres='Arcade', Last Updated='March 11, 2017', Current Ver='0.1', Android Ver='2.3 and up'), Row(App='Axe Champs! Wars', Category='GAME', Rating=5.0, Reviews=8, Size=25000.0, Installs='50+', Type='Free', Price=0.0, Content Rating='Everyone', Genres='Arcade', Last Updated='June 26, 2018', Current Ver='1.1', Android Ver='4.1 and up'), Row(App='Brick Breaker BR', Category='GAME', Rating=5.0, Reviews=7, Size=19000.0, Installs='5+', Type='Free', Price=0.0, Content Rating='Everyone', Genres='Arcade', Last Updated='July 23, 2018', Current Ver='1.0', Android Ver='4.1 and up'), Row(App='Flippy Axe : Flip The Knife & Axe Simulator', Category='GAME', Rating=5.0, Reviews=7, Size=15000.0, Installs='100+', Type='Free', Price=0.0, Content Rating='Everyone', Genres='Arcade', Last Updated='September 27, 2017', Current Ver='1.1', Android Ver='4.2 and up')]\n",
      "[Row(App=\"Mad Dash Fo' Cash\", Category='GAME', Rating=5.0, Reviews=14, Size=16000.0, Installs='100+', Type='Free', Price=0.0, Content Rating='Everyone', Genres='Arcade', Last Updated='June 19, 2017', Current Ver='2.5a', Android Ver='4.1 and up'), Row(App='Trovami se ci riesci', Category='GAME', Rating=5.0, Reviews=11, Size=6.1, Installs='10+', Type='Free', Price=0.0, Content Rating='Everyone', Genres='Arcade', Last Updated='March 11, 2017', Current Ver='0.1', Android Ver='2.3 and up'), Row(App='Axe Champs! Wars', Category='GAME', Rating=5.0, Reviews=8, Size=25000.0, Installs='50+', Type='Free', Price=0.0, Content Rating='Everyone', Genres='Arcade', Last Updated='June 26, 2018', Current Ver='1.1', Android Ver='4.1 and up'), Row(App='Brick Breaker BR', Category='GAME', Rating=5.0, Reviews=7, Size=19000.0, Installs='5+', Type='Free', Price=0.0, Content Rating='Everyone', Genres='Arcade', Last Updated='July 23, 2018', Current Ver='1.0', Android Ver='4.1 and up'), Row(App='Flippy Axe : Flip The Knife & Axe Simulator', Category='GAME', Rating=5.0, Reviews=7, Size=15000.0, Installs='100+', Type='Free', Price=0.0, Content Rating='Everyone', Genres='Arcade', Last Updated='September 27, 2017', Current Ver='1.1', Android Ver='4.2 and up')]\n",
      "[Row(App=\"Mad Dash Fo' Cash\", Category='GAME', Rating=5.0, Reviews=14, Size=16000.0, Installs='100+', Type='Free', Price=0.0, Content Rating='Everyone', Genres='Arcade', Last Updated='June 19, 2017', Current Ver='2.5a', Android Ver='4.1 and up'), Row(App='Trovami se ci riesci', Category='GAME', Rating=5.0, Reviews=11, Size=6.1, Installs='10+', Type='Free', Price=0.0, Content Rating='Everyone', Genres='Arcade', Last Updated='March 11, 2017', Current Ver='0.1', Android Ver='2.3 and up'), Row(App='Axe Champs! Wars', Category='GAME', Rating=5.0, Reviews=8, Size=25000.0, Installs='50+', Type='Free', Price=0.0, Content Rating='Everyone', Genres='Arcade', Last Updated='June 26, 2018', Current Ver='1.1', Android Ver='4.1 and up'), Row(App='Brick Breaker BR', Category='GAME', Rating=5.0, Reviews=7, Size=19000.0, Installs='5+', Type='Free', Price=0.0, Content Rating='Everyone', Genres='Arcade', Last Updated='July 23, 2018', Current Ver='1.0', Android Ver='4.1 and up'), Row(App='Flippy Axe : Flip The Knife & Axe Simulator', Category='GAME', Rating=5.0, Reviews=7, Size=15000.0, Installs='100+', Type='Free', Price=0.0, Content Rating='Everyone', Genres='Arcade', Last Updated='September 27, 2017', Current Ver='1.1', Android Ver='4.2 and up')]\n",
      "[Row(App=\"Mad Dash Fo' Cash\", Category='GAME', Rating=5.0, Reviews=14, Size=16000.0, Installs='100+', Type='Free', Price=0.0, Content Rating='Everyone', Genres='Arcade', Last Updated='June 19, 2017', Current Ver='2.5a', Android Ver='4.1 and up'), Row(App='Trovami se ci riesci', Category='GAME', Rating=5.0, Reviews=11, Size=6.1, Installs='10+', Type='Free', Price=0.0, Content Rating='Everyone', Genres='Arcade', Last Updated='March 11, 2017', Current Ver='0.1', Android Ver='2.3 and up'), Row(App='Axe Champs! Wars', Category='GAME', Rating=5.0, Reviews=8, Size=25000.0, Installs='50+', Type='Free', Price=0.0, Content Rating='Everyone', Genres='Arcade', Last Updated='June 26, 2018', Current Ver='1.1', Android Ver='4.1 and up'), Row(App='Brick Breaker BR', Category='GAME', Rating=5.0, Reviews=7, Size=19000.0, Installs='5+', Type='Free', Price=0.0, Content Rating='Everyone', Genres='Arcade', Last Updated='July 23, 2018', Current Ver='1.0', Android Ver='4.1 and up'), Row(App='Flippy Axe : Flip The Knife & Axe Simulator', Category='GAME', Rating=5.0, Reviews=7, Size=15000.0, Installs='100+', Type='Free', Price=0.0, Content Rating='Everyone', Genres='Arcade', Last Updated='September 27, 2017', Current Ver='1.1', Android Ver='4.2 and up')]\n"
     ]
    }
   ],
   "source": [
    "from pyspark.sql.functions import asc, desc\n",
    "sort_df1 = games_df.sort(['Rating', 'Reviews'], ascending=[False, False]).limit(5)\n",
    "sort_df2 = games_df.sort(['Rating', 'Reviews'], ascending=[False, False]).limit(5)\n",
    "sort_df3 = games_df.sort( [desc('Rating'), desc('Reviews')]  ).limit(5)\n",
    "sort_df4 = games_df.sort( [col('Rating').desc(), col('Reviews').desc()]  ).limit(5)\n",
    "for df in [sort_df1, sort_df2, sort_df3, sort_df4]:\n",
    "    print(df.collect())"
   ]
  },
  {
   "cell_type": "code",
   "execution_count": 28,
   "metadata": {},
   "outputs": [
    {
     "data": {
      "text/plain": [
       "[Row(App='I am rich', Category='LIFESTYLE', Rating=3.8, Reviews=3547, Size=1.8, Installs='100,000+', Type='Paid', Price=399.99, Content Rating='Everyone', Genres='Lifestyle', Last Updated='January 12, 2018', Current Ver='2.0', Android Ver='4.0.3 and up'),\n",
       " Row(App='I Am Rich Premium', Category='FINANCE', Rating=4.1, Reviews=1867, Size=4.7, Installs='50,000+', Type='Paid', Price=399.99, Content Rating='Everyone', Genres='Finance', Last Updated='November 12, 2017', Current Ver='1.6', Android Ver='4.0 and up'),\n",
       " Row(App='I am Rich Plus', Category='FAMILY', Rating=4.0, Reviews=856, Size=8.7, Installs='10,000+', Type='Paid', Price=399.99, Content Rating='Everyone', Genres='Entertainment', Last Updated='May 19, 2018', Current Ver='3.0', Android Ver='4.4 and up')]"
      ]
     },
     "execution_count": 28,
     "metadata": {},
     "output_type": "execute_result"
    }
   ],
   "source": [
    "highly_reviewed_df = google_play_df.filter(expr('Reviews > 500')).sort( desc('Price') ).limit(3)\n",
    "highly_reviewed_df.collect()"
   ]
  },
  {
   "cell_type": "code",
   "execution_count": 29,
   "metadata": {},
   "outputs": [
    {
     "name": "stdout",
     "output_type": "stream",
     "text": [
      "+-------------------+----+----+----+\n",
      "|      Category_Type|Free|Paid|null|\n",
      "+-------------------+----+----+----+\n",
      "|BOOKS_AND_REFERENCE| 203|  28|   0|\n",
      "|               null|   1|   0|   0|\n",
      "|          EDUCATION| 152|   4|   0|\n",
      "|MAPS_AND_NAVIGATION| 132|   5|   0|\n",
      "|           SHOPPING| 258|   2|   0|\n",
      "|   TRAVEL_AND_LOCAL| 246|  12|   0|\n",
      "|     HOUSE_AND_HOME|  88|   0|   0|\n",
      "|        PHOTOGRAPHY| 313|  22|   0|\n",
      "|               GAME|1061|  83|   0|\n",
      "|      VIDEO_PLAYERS| 171|   4|   0|\n",
      "|              TOOLS| 765|  78|   0|\n",
      "| NEWS_AND_MAGAZINES| 281|   2|   0|\n",
      "|            FINANCE| 349|  17|   0|\n",
      "|             SOCIAL| 292|   3|   0|\n",
      "|            WEATHER|  74|   8|   0|\n",
      "|           BUSINESS| 446|  14|   0|\n",
      "|    PERSONALIZATION| 309|  83|   0|\n",
      "|          PARENTING|  58|   2|   0|\n",
      "|     ART_AND_DESIGN|  62|   3|   0|\n",
      "|     FOOD_AND_DRINK| 125|   2|   0|\n",
      "|             COMICS|  60|   0|   0|\n",
      "|      COMMUNICATION| 360|  27|   0|\n",
      "|  AUTO_AND_VEHICLES|  82|   3|   0|\n",
      "|             BEAUTY|  53|   0|   0|\n",
      "|             EVENTS|  63|   1|   0|\n",
      "|       PRODUCTIVITY| 396|  28|   0|\n",
      "|             SPORTS| 360|  24|   0|\n",
      "|            MEDICAL| 354| 109|   0|\n",
      "|             FAMILY|1780| 191|   1|\n",
      "| LIBRARIES_AND_DEMO|  84|   1|   0|\n",
      "|      ENTERTAINMENT| 147|   2|   0|\n",
      "|             DATING| 227|   7|   0|\n",
      "|          LIFESTYLE| 363|  19|   0|\n",
      "| HEALTH_AND_FITNESS| 325|  16|   0|\n",
      "+-------------------+----+----+----+\n",
      "\n"
     ]
    }
   ],
   "source": [
    "google_play_df.crosstab('Category', 'Type').show(n=100)"
   ]
  },
  {
   "cell_type": "code",
   "execution_count": 30,
   "metadata": {},
   "outputs": [
    {
     "name": "stdout",
     "output_type": "stream",
     "text": [
      "122482 592 468 124\n"
     ]
    }
   ],
   "source": [
    "reviews_with_category_df = app_reviews_df.join( google_play_df, app_reviews_df.App == google_play_df.App, how='inner' )\n",
    "games_with_reviews_df = games_df.join(app_reviews_df, app_reviews_df.App == games_df.App, how='left_semi')\n",
    "games_with_no_reviews_df = games_df.join(app_reviews_df, app_reviews_df.App == games_df.App, how='left_anti')\n",
    "free_games_with_reviews_df = games_df.join(app_reviews_df, (app_reviews_df.App == games_df.App) & (games_df.Type=='Free'), how='left_semi')\n",
    "print(reviews_with_category_df.count(), games_df.count(), games_with_no_reviews_df.count(), free_games_with_reviews_df.count())"
   ]
  },
  {
   "cell_type": "code",
   "execution_count": 31,
   "metadata": {},
   "outputs": [
    {
     "name": "stdout",
     "output_type": "stream",
     "text": [
      "+--------------------+---------+------------------+----------------------+--------------------+------------------+------+-------+----+--------+----+-----+--------------+----------------+-----------------+-----------+------------+\n",
      "|   Translated Review|Sentiment|Sentiment_Polarity|Sentiment_Subjectivity|                 App|          Category|Rating|Reviews|Size|Installs|Type|Price|Content Rating|          Genres|     Last Updated|Current Ver| Android Ver|\n",
      "+--------------------+---------+------------------+----------------------+--------------------+------------------+------+-------+----+--------+----+-----+--------------+----------------+-----------------+-----------+------------+\n",
      "|I like eat delici...| Positive|               1.0|    0.5333333333333333|10 Best Foods for...|HEALTH_AND_FITNESS|   4.0|   2490| 3.8|500,000+|Free|  0.0|  Everyone 10+|Health & Fitness|February 17, 2017|        1.9|2.3.3 and up|\n",
      "|I like eat delici...| Positive|               1.0|    0.5333333333333333|10 Best Foods for...|HEALTH_AND_FITNESS|   4.0|   2490| 3.8|500,000+|Free|  0.0|  Everyone 10+|Health & Fitness|February 17, 2017|        1.9|2.3.3 and up|\n",
      "|This help eating ...| Positive|              0.25|   0.28846153846153844|10 Best Foods for...|HEALTH_AND_FITNESS|   4.0|   2490| 3.8|500,000+|Free|  0.0|  Everyone 10+|Health & Fitness|February 17, 2017|        1.9|2.3.3 and up|\n",
      "|This help eating ...| Positive|              0.25|   0.28846153846153844|10 Best Foods for...|HEALTH_AND_FITNESS|   4.0|   2490| 3.8|500,000+|Free|  0.0|  Everyone 10+|Health & Fitness|February 17, 2017|        1.9|2.3.3 and up|\n",
      "|                null|     null|              null|                  null|10 Best Foods for...|HEALTH_AND_FITNESS|   4.0|   2490| 3.8|500,000+|Free|  0.0|  Everyone 10+|Health & Fitness|February 17, 2017|        1.9|2.3.3 and up|\n",
      "|                null|     null|              null|                  null|10 Best Foods for...|HEALTH_AND_FITNESS|   4.0|   2490| 3.8|500,000+|Free|  0.0|  Everyone 10+|Health & Fitness|February 17, 2017|        1.9|2.3.3 and up|\n",
      "|Works great espec...| Positive|               0.4|                 0.875|10 Best Foods for...|HEALTH_AND_FITNESS|   4.0|   2490| 3.8|500,000+|Free|  0.0|  Everyone 10+|Health & Fitness|February 17, 2017|        1.9|2.3.3 and up|\n",
      "|Works great espec...| Positive|               0.4|                 0.875|10 Best Foods for...|HEALTH_AND_FITNESS|   4.0|   2490| 3.8|500,000+|Free|  0.0|  Everyone 10+|Health & Fitness|February 17, 2017|        1.9|2.3.3 and up|\n",
      "|        Best idea us| Positive|               1.0|                   0.3|10 Best Foods for...|HEALTH_AND_FITNESS|   4.0|   2490| 3.8|500,000+|Free|  0.0|  Everyone 10+|Health & Fitness|February 17, 2017|        1.9|2.3.3 and up|\n",
      "|        Best idea us| Positive|               1.0|                   0.3|10 Best Foods for...|HEALTH_AND_FITNESS|   4.0|   2490| 3.8|500,000+|Free|  0.0|  Everyone 10+|Health & Fitness|February 17, 2017|        1.9|2.3.3 and up|\n",
      "|            Best way| Positive|               1.0|                   0.3|10 Best Foods for...|HEALTH_AND_FITNESS|   4.0|   2490| 3.8|500,000+|Free|  0.0|  Everyone 10+|Health & Fitness|February 17, 2017|        1.9|2.3.3 and up|\n",
      "|            Best way| Positive|               1.0|                   0.3|10 Best Foods for...|HEALTH_AND_FITNESS|   4.0|   2490| 3.8|500,000+|Free|  0.0|  Everyone 10+|Health & Fitness|February 17, 2017|        1.9|2.3.3 and up|\n",
      "|             Amazing| Positive|0.6000000000000001|                   0.9|10 Best Foods for...|HEALTH_AND_FITNESS|   4.0|   2490| 3.8|500,000+|Free|  0.0|  Everyone 10+|Health & Fitness|February 17, 2017|        1.9|2.3.3 and up|\n",
      "|             Amazing| Positive|0.6000000000000001|                   0.9|10 Best Foods for...|HEALTH_AND_FITNESS|   4.0|   2490| 3.8|500,000+|Free|  0.0|  Everyone 10+|Health & Fitness|February 17, 2017|        1.9|2.3.3 and up|\n",
      "|                null|     null|              null|                  null|10 Best Foods for...|HEALTH_AND_FITNESS|   4.0|   2490| 3.8|500,000+|Free|  0.0|  Everyone 10+|Health & Fitness|February 17, 2017|        1.9|2.3.3 and up|\n",
      "|                null|     null|              null|                  null|10 Best Foods for...|HEALTH_AND_FITNESS|   4.0|   2490| 3.8|500,000+|Free|  0.0|  Everyone 10+|Health & Fitness|February 17, 2017|        1.9|2.3.3 and up|\n",
      "|Looking forward app,|  Neutral|               0.0|                   0.0|10 Best Foods for...|HEALTH_AND_FITNESS|   4.0|   2490| 3.8|500,000+|Free|  0.0|  Everyone 10+|Health & Fitness|February 17, 2017|        1.9|2.3.3 and up|\n",
      "|Looking forward app,|  Neutral|               0.0|                   0.0|10 Best Foods for...|HEALTH_AND_FITNESS|   4.0|   2490| 3.8|500,000+|Free|  0.0|  Everyone 10+|Health & Fitness|February 17, 2017|        1.9|2.3.3 and up|\n",
      "|It helpful site !...|  Neutral|               0.0|                   0.0|10 Best Foods for...|HEALTH_AND_FITNESS|   4.0|   2490| 3.8|500,000+|Free|  0.0|  Everyone 10+|Health & Fitness|February 17, 2017|        1.9|2.3.3 and up|\n",
      "|It helpful site !...|  Neutral|               0.0|                   0.0|10 Best Foods for...|HEALTH_AND_FITNESS|   4.0|   2490| 3.8|500,000+|Free|  0.0|  Everyone 10+|Health & Fitness|February 17, 2017|        1.9|2.3.3 and up|\n",
      "+--------------------+---------+------------------+----------------------+--------------------+------------------+------+-------+----+--------+----+-----+--------------+----------------+-----------------+-----------+------------+\n",
      "only showing top 20 rows\n",
      "\n"
     ]
    }
   ],
   "source": [
    "reviews_with_category_df.drop(app_reviews_df.App).show()"
   ]
  },
  {
   "cell_type": "code",
   "execution_count": 32,
   "metadata": {},
   "outputs": [
    {
     "name": "stdout",
     "output_type": "stream",
     "text": [
      "+------------------+------------------+-------------------+---+\n",
      "|              mean|               std|                Var| Q1|\n",
      "+------------------+------------------+-------------------+---+\n",
      "|4.1915127575531175|0.5157352405794644|0.26598283837555803|4.0|\n",
      "+------------------+------------------+-------------------+---+\n",
      "\n",
      "+------------------+------------------+-------------------+---+\n",
      "|              mean|               std|                Var| Q1|\n",
      "+------------------+------------------+-------------------+---+\n",
      "|4.1915127575531175|0.5157352405794644|0.26598283837555803|4.0|\n",
      "+------------------+------------------+-------------------+---+\n",
      "\n"
     ]
    }
   ],
   "source": [
    "from pyspark.sql.functions import mean, stddev_samp, var_samp\n",
    "google_play_df.select( mean(google_play_df.Rating).alias('mean'), stddev_samp(google_play_df.Rating).alias('std'), var_samp(google_play_df.Rating).alias('Var'), expr('percentile(Rating, 0.25) as Q1') ).show()\n",
    "google_play_df.selectExpr('mean(Rating) as mean', 'stddev_samp(Rating) as std', 'var_samp(Rating) as Var', 'percentile(Rating,0.25) as Q1').show()"
   ]
  },
  {
   "cell_type": "code",
   "execution_count": 33,
   "metadata": {},
   "outputs": [
    {
     "name": "stdout",
     "output_type": "stream",
     "text": [
      "+--------------------+\n",
      "| corr(Price, Rating)|\n",
      "+--------------------+\n",
      "|-0.02185137434492...|\n",
      "+--------------------+\n",
      "\n"
     ]
    }
   ],
   "source": [
    "from pyspark.sql.functions import corr\n",
    "google_play_df.select( corr(google_play_df.Price, google_play_df.Rating) ).show()"
   ]
  },
  {
   "cell_type": "code",
   "execution_count": 34,
   "metadata": {},
   "outputs": [
    {
     "name": "stdout",
     "output_type": "stream",
     "text": [
      "+-------+--------------------+--------------+------------------+-----------------+------------------+------------+-----+------------------+---------------+------+-----------------+-------------------+------------------+\n",
      "|summary|                 App|      Category|            Rating|          Reviews|              Size|    Installs| Type|             Price| Content Rating|Genres|     Last Updated|        Current Ver|       Android Ver|\n",
      "+-------+--------------------+--------------+------------------+-----------------+------------------+------------+-----+------------------+---------------+------+-----------------+-------------------+------------------+\n",
      "|  count|               10841|         10840|              9367|            10841|              8830|       10841|10840|             10841|          10841| 10840|            10841|              10833|             10839|\n",
      "|   mean|                null|          null|4.1915127575531175|444111.9280509178|20261.804711211866|         0.0| null|1.0272733142698907|           null|  null|             null|  419358.4537676931|              null|\n",
      "| stddev|                null|          null|0.5157352405794644|2927628.663974194|24189.251426869614|         NaN| null|15.948970817236956|           null|  null|             null|2.100728782992606E7|              null|\n",
      "|    min|\"\"\"i DT\"\" Fútbol....|ART_AND_DESIGN|               1.0|                0|               1.0|           0| Free|               0.0|Adults only 18+|Action|    April 1, 2016|            0.0.0.2|        1.0 and up|\n",
      "|    25%|                null|          null|               4.0|               38|               5.4|         0.0| null|               0.0|           null|  null|             null|               1.01|              null|\n",
      "|    50%|                null|          null|               4.3|             2093|           14000.0|         0.0| null|               0.0|           null|  null|             null|                1.4|              null|\n",
      "|    75%|                null|          null|               5.0|            54520|          100000.0|         0.0| null|               0.0|           null|  null|             null|               2.92|              null|\n",
      "|    max|🔥 Football Wallp...|       WEATHER|               5.0|         78158306|          100000.0|500,000,000+| Paid|             400.0|        Unrated|  Word|September 9, 2017|      version 0.994|Varies with device|\n",
      "+-------+--------------------+--------------+------------------+-----------------+------------------+------------+-----+------------------+---------------+------+-----------------+-------------------+------------------+\n",
      "\n"
     ]
    }
   ],
   "source": [
    "google_play_df.summary().show()"
   ]
  },
  {
   "cell_type": "code",
   "execution_count": 35,
   "metadata": {},
   "outputs": [
    {
     "name": "stdout",
     "output_type": "stream",
     "text": [
      "+----+-----------------+------------------+\n",
      "|Type|     mean(Rating)|stddev_pop(Rating)|\n",
      "+----+-----------------+------------------+\n",
      "|null|             null|              null|\n",
      "|Free|4.185940366972488|0.5128639107397938|\n",
      "|Paid|4.266615146831529|0.5470998247066678|\n",
      "+----+-----------------+------------------+\n",
      "\n"
     ]
    }
   ],
   "source": [
    "google_play_df.groupBy(col('Type')).agg(expr('mean(Rating)'), expr('stddev_pop(Rating)') ).show()"
   ]
  },
  {
   "cell_type": "code",
   "execution_count": 36,
   "metadata": {},
   "outputs": [
    {
     "name": "stdout",
     "output_type": "stream",
     "text": [
      "+----+-------------+\n",
      "|Type|count(Rating)|\n",
      "+----+-------------+\n",
      "|null|            0|\n",
      "|Free|         8720|\n",
      "|Paid|          647|\n",
      "+----+-------------+\n",
      "\n"
     ]
    }
   ],
   "source": [
    "google_play_df.groupBy(col('Type')).agg(expr('count(Rating)')).show()"
   ]
  },
  {
   "cell_type": "code",
   "execution_count": 37,
   "metadata": {},
   "outputs": [
    {
     "name": "stdout",
     "output_type": "stream",
     "text": [
      "+-------------------+----+-------------+\n",
      "|           Category|Type|count(Rating)|\n",
      "+-------------------+----+-------------+\n",
      "|  AUTO_AND_VEHICLES|Paid|            1|\n",
      "|            WEATHER|Paid|            7|\n",
      "|               GAME|Free|         1020|\n",
      "|             BEAUTY|Free|           42|\n",
      "|       PRODUCTIVITY|Paid|           18|\n",
      "|      VIDEO_PLAYERS|Paid|            4|\n",
      "|  AUTO_AND_VEHICLES|Free|           72|\n",
      "|             EVENTS|Paid|            0|\n",
      "|            FINANCE|Free|          310|\n",
      "|          PARENTING|Paid|            2|\n",
      "|             SOCIAL|Paid|            2|\n",
      "| NEWS_AND_MAGAZINES|Paid|            2|\n",
      "|          PARENTING|Free|           48|\n",
      "|MAPS_AND_NAVIGATION|Free|          119|\n",
      "|           SHOPPING|Paid|            2|\n",
      "|             FAMILY|Free|         1585|\n",
      "|     ART_AND_DESIGN|Paid|            3|\n",
      "|             COMICS|Free|           58|\n",
      "| HEALTH_AND_FITNESS|Free|          285|\n",
      "|     ART_AND_DESIGN|Free|           59|\n",
      "+-------------------+----+-------------+\n",
      "only showing top 20 rows\n",
      "\n"
     ]
    }
   ],
   "source": [
    "google_play_df.groupBy(col('Category'), col('Type')).agg(expr('count(Rating)')).show()"
   ]
  },
  {
   "cell_type": "code",
   "execution_count": 38,
   "metadata": {},
   "outputs": [
    {
     "name": "stdout",
     "output_type": "stream",
     "text": [
      "+---------------+----------------------+\n",
      "| Content Rating|count(DISTINCT Rating)|\n",
      "+---------------+----------------------+\n",
      "|        Unrated|                     1|\n",
      "|           Teen|                    26|\n",
      "|     Mature 17+|                    27|\n",
      "|   Everyone 10+|                    23|\n",
      "|       Everyone|                    39|\n",
      "|Adults only 18+|                     3|\n",
      "+---------------+----------------------+\n",
      "\n"
     ]
    }
   ],
   "source": [
    "from pyspark.sql.functions import countDistinct\n",
    "google_play_df.groupBy(col('`Content Rating`')).agg(countDistinct(col('Rating'))).show()"
   ]
  },
  {
   "cell_type": "code",
   "execution_count": 39,
   "metadata": {},
   "outputs": [
    {
     "ename": "AnalysisException",
     "evalue": "'path file:/home/alumno/projects/entornos/ui1-entornos-unidad3/data/games already exists.;'",
     "output_type": "error",
     "traceback": [
      "\u001b[0;31m---------------------------------------------------------------------------\u001b[0m",
      "\u001b[0;31mPy4JJavaError\u001b[0m                             Traceback (most recent call last)",
      "\u001b[0;32m~/opt/spark/python/pyspark/sql/utils.py\u001b[0m in \u001b[0;36mdeco\u001b[0;34m(*a, **kw)\u001b[0m\n\u001b[1;32m     62\u001b[0m         \u001b[0;32mtry\u001b[0m\u001b[0;34m:\u001b[0m\u001b[0;34m\u001b[0m\u001b[0m\n\u001b[0;32m---> 63\u001b[0;31m             \u001b[0;32mreturn\u001b[0m \u001b[0mf\u001b[0m\u001b[0;34m(\u001b[0m\u001b[0;34m*\u001b[0m\u001b[0ma\u001b[0m\u001b[0;34m,\u001b[0m \u001b[0;34m**\u001b[0m\u001b[0mkw\u001b[0m\u001b[0;34m)\u001b[0m\u001b[0;34m\u001b[0m\u001b[0m\n\u001b[0m\u001b[1;32m     64\u001b[0m         \u001b[0;32mexcept\u001b[0m \u001b[0mpy4j\u001b[0m\u001b[0;34m.\u001b[0m\u001b[0mprotocol\u001b[0m\u001b[0;34m.\u001b[0m\u001b[0mPy4JJavaError\u001b[0m \u001b[0;32mas\u001b[0m \u001b[0me\u001b[0m\u001b[0;34m:\u001b[0m\u001b[0;34m\u001b[0m\u001b[0m\n",
      "\u001b[0;32m~/opt/spark/python/lib/py4j-0.10.7-src.zip/py4j/protocol.py\u001b[0m in \u001b[0;36mget_return_value\u001b[0;34m(answer, gateway_client, target_id, name)\u001b[0m\n\u001b[1;32m    327\u001b[0m                     \u001b[0;34m\"An error occurred while calling {0}{1}{2}.\\n\"\u001b[0m\u001b[0;34m.\u001b[0m\u001b[0;34m\u001b[0m\u001b[0m\n\u001b[0;32m--> 328\u001b[0;31m                     format(target_id, \".\", name), value)\n\u001b[0m\u001b[1;32m    329\u001b[0m             \u001b[0;32melse\u001b[0m\u001b[0;34m:\u001b[0m\u001b[0;34m\u001b[0m\u001b[0m\n",
      "\u001b[0;31mPy4JJavaError\u001b[0m: An error occurred while calling o356.json.\n: org.apache.spark.sql.AnalysisException: path file:/home/alumno/projects/entornos/ui1-entornos-unidad3/data/games already exists.;\n\tat org.apache.spark.sql.execution.datasources.InsertIntoHadoopFsRelationCommand.run(InsertIntoHadoopFsRelationCommand.scala:114)\n\tat org.apache.spark.sql.execution.command.DataWritingCommandExec.sideEffectResult$lzycompute(commands.scala:104)\n\tat org.apache.spark.sql.execution.command.DataWritingCommandExec.sideEffectResult(commands.scala:102)\n\tat org.apache.spark.sql.execution.command.DataWritingCommandExec.doExecute(commands.scala:122)\n\tat org.apache.spark.sql.execution.SparkPlan$$anonfun$execute$1.apply(SparkPlan.scala:131)\n\tat org.apache.spark.sql.execution.SparkPlan$$anonfun$execute$1.apply(SparkPlan.scala:127)\n\tat org.apache.spark.sql.execution.SparkPlan$$anonfun$executeQuery$1.apply(SparkPlan.scala:155)\n\tat org.apache.spark.rdd.RDDOperationScope$.withScope(RDDOperationScope.scala:151)\n\tat org.apache.spark.sql.execution.SparkPlan.executeQuery(SparkPlan.scala:152)\n\tat org.apache.spark.sql.execution.SparkPlan.execute(SparkPlan.scala:127)\n\tat org.apache.spark.sql.execution.QueryExecution.toRdd$lzycompute(QueryExecution.scala:80)\n\tat org.apache.spark.sql.execution.QueryExecution.toRdd(QueryExecution.scala:80)\n\tat org.apache.spark.sql.DataFrameWriter$$anonfun$runCommand$1.apply(DataFrameWriter.scala:668)\n\tat org.apache.spark.sql.DataFrameWriter$$anonfun$runCommand$1.apply(DataFrameWriter.scala:668)\n\tat org.apache.spark.sql.execution.SQLExecution$$anonfun$withNewExecutionId$1.apply(SQLExecution.scala:78)\n\tat org.apache.spark.sql.execution.SQLExecution$.withSQLConfPropagated(SQLExecution.scala:125)\n\tat org.apache.spark.sql.execution.SQLExecution$.withNewExecutionId(SQLExecution.scala:73)\n\tat org.apache.spark.sql.DataFrameWriter.runCommand(DataFrameWriter.scala:668)\n\tat org.apache.spark.sql.DataFrameWriter.saveToV1Source(DataFrameWriter.scala:276)\n\tat org.apache.spark.sql.DataFrameWriter.save(DataFrameWriter.scala:270)\n\tat org.apache.spark.sql.DataFrameWriter.save(DataFrameWriter.scala:228)\n\tat org.apache.spark.sql.DataFrameWriter.json(DataFrameWriter.scala:536)\n\tat sun.reflect.NativeMethodAccessorImpl.invoke0(Native Method)\n\tat sun.reflect.NativeMethodAccessorImpl.invoke(NativeMethodAccessorImpl.java:62)\n\tat sun.reflect.DelegatingMethodAccessorImpl.invoke(DelegatingMethodAccessorImpl.java:43)\n\tat java.lang.reflect.Method.invoke(Method.java:498)\n\tat py4j.reflection.MethodInvoker.invoke(MethodInvoker.java:244)\n\tat py4j.reflection.ReflectionEngine.invoke(ReflectionEngine.java:357)\n\tat py4j.Gateway.invoke(Gateway.java:282)\n\tat py4j.commands.AbstractCommand.invokeMethod(AbstractCommand.java:132)\n\tat py4j.commands.CallCommand.execute(CallCommand.java:79)\n\tat py4j.GatewayConnection.run(GatewayConnection.java:238)\n\tat java.lang.Thread.run(Thread.java:748)\n",
      "\nDuring handling of the above exception, another exception occurred:\n",
      "\u001b[0;31mAnalysisException\u001b[0m                         Traceback (most recent call last)",
      "\u001b[0;32m<ipython-input-39-aa7317a0422d>\u001b[0m in \u001b[0;36m<module>\u001b[0;34m\u001b[0m\n\u001b[0;32m----> 1\u001b[0;31m \u001b[0mgames_df\u001b[0m\u001b[0;34m.\u001b[0m\u001b[0mwrite\u001b[0m\u001b[0;34m.\u001b[0m\u001b[0mjson\u001b[0m\u001b[0;34m(\u001b[0m\u001b[0;34m'../data/games'\u001b[0m\u001b[0;34m)\u001b[0m\u001b[0;34m\u001b[0m\u001b[0m\n\u001b[0m",
      "\u001b[0;32m~/opt/spark/python/pyspark/sql/readwriter.py\u001b[0m in \u001b[0;36mjson\u001b[0;34m(self, path, mode, compression, dateFormat, timestampFormat, lineSep, encoding)\u001b[0m\n\u001b[1;32m    812\u001b[0m             \u001b[0mcompression\u001b[0m\u001b[0;34m=\u001b[0m\u001b[0mcompression\u001b[0m\u001b[0;34m,\u001b[0m \u001b[0mdateFormat\u001b[0m\u001b[0;34m=\u001b[0m\u001b[0mdateFormat\u001b[0m\u001b[0;34m,\u001b[0m \u001b[0mtimestampFormat\u001b[0m\u001b[0;34m=\u001b[0m\u001b[0mtimestampFormat\u001b[0m\u001b[0;34m,\u001b[0m\u001b[0;34m\u001b[0m\u001b[0m\n\u001b[1;32m    813\u001b[0m             lineSep=lineSep, encoding=encoding)\n\u001b[0;32m--> 814\u001b[0;31m         \u001b[0mself\u001b[0m\u001b[0;34m.\u001b[0m\u001b[0m_jwrite\u001b[0m\u001b[0;34m.\u001b[0m\u001b[0mjson\u001b[0m\u001b[0;34m(\u001b[0m\u001b[0mpath\u001b[0m\u001b[0;34m)\u001b[0m\u001b[0;34m\u001b[0m\u001b[0m\n\u001b[0m\u001b[1;32m    815\u001b[0m \u001b[0;34m\u001b[0m\u001b[0m\n\u001b[1;32m    816\u001b[0m     \u001b[0;34m@\u001b[0m\u001b[0msince\u001b[0m\u001b[0;34m(\u001b[0m\u001b[0;36m1.4\u001b[0m\u001b[0;34m)\u001b[0m\u001b[0;34m\u001b[0m\u001b[0m\n",
      "\u001b[0;32m~/opt/spark/python/lib/py4j-0.10.7-src.zip/py4j/java_gateway.py\u001b[0m in \u001b[0;36m__call__\u001b[0;34m(self, *args)\u001b[0m\n\u001b[1;32m   1255\u001b[0m         \u001b[0manswer\u001b[0m \u001b[0;34m=\u001b[0m \u001b[0mself\u001b[0m\u001b[0;34m.\u001b[0m\u001b[0mgateway_client\u001b[0m\u001b[0;34m.\u001b[0m\u001b[0msend_command\u001b[0m\u001b[0;34m(\u001b[0m\u001b[0mcommand\u001b[0m\u001b[0;34m)\u001b[0m\u001b[0;34m\u001b[0m\u001b[0m\n\u001b[1;32m   1256\u001b[0m         return_value = get_return_value(\n\u001b[0;32m-> 1257\u001b[0;31m             answer, self.gateway_client, self.target_id, self.name)\n\u001b[0m\u001b[1;32m   1258\u001b[0m \u001b[0;34m\u001b[0m\u001b[0m\n\u001b[1;32m   1259\u001b[0m         \u001b[0;32mfor\u001b[0m \u001b[0mtemp_arg\u001b[0m \u001b[0;32min\u001b[0m \u001b[0mtemp_args\u001b[0m\u001b[0;34m:\u001b[0m\u001b[0;34m\u001b[0m\u001b[0m\n",
      "\u001b[0;32m~/opt/spark/python/pyspark/sql/utils.py\u001b[0m in \u001b[0;36mdeco\u001b[0;34m(*a, **kw)\u001b[0m\n\u001b[1;32m     67\u001b[0m                                              e.java_exception.getStackTrace()))\n\u001b[1;32m     68\u001b[0m             \u001b[0;32mif\u001b[0m \u001b[0ms\u001b[0m\u001b[0;34m.\u001b[0m\u001b[0mstartswith\u001b[0m\u001b[0;34m(\u001b[0m\u001b[0;34m'org.apache.spark.sql.AnalysisException: '\u001b[0m\u001b[0;34m)\u001b[0m\u001b[0;34m:\u001b[0m\u001b[0;34m\u001b[0m\u001b[0m\n\u001b[0;32m---> 69\u001b[0;31m                 \u001b[0;32mraise\u001b[0m \u001b[0mAnalysisException\u001b[0m\u001b[0;34m(\u001b[0m\u001b[0ms\u001b[0m\u001b[0;34m.\u001b[0m\u001b[0msplit\u001b[0m\u001b[0;34m(\u001b[0m\u001b[0;34m': '\u001b[0m\u001b[0;34m,\u001b[0m \u001b[0;36m1\u001b[0m\u001b[0;34m)\u001b[0m\u001b[0;34m[\u001b[0m\u001b[0;36m1\u001b[0m\u001b[0;34m]\u001b[0m\u001b[0;34m,\u001b[0m \u001b[0mstackTrace\u001b[0m\u001b[0;34m)\u001b[0m\u001b[0;34m\u001b[0m\u001b[0m\n\u001b[0m\u001b[1;32m     70\u001b[0m             \u001b[0;32mif\u001b[0m \u001b[0ms\u001b[0m\u001b[0;34m.\u001b[0m\u001b[0mstartswith\u001b[0m\u001b[0;34m(\u001b[0m\u001b[0;34m'org.apache.spark.sql.catalyst.analysis'\u001b[0m\u001b[0;34m)\u001b[0m\u001b[0;34m:\u001b[0m\u001b[0;34m\u001b[0m\u001b[0m\n\u001b[1;32m     71\u001b[0m                 \u001b[0;32mraise\u001b[0m \u001b[0mAnalysisException\u001b[0m\u001b[0;34m(\u001b[0m\u001b[0ms\u001b[0m\u001b[0;34m.\u001b[0m\u001b[0msplit\u001b[0m\u001b[0;34m(\u001b[0m\u001b[0;34m': '\u001b[0m\u001b[0;34m,\u001b[0m \u001b[0;36m1\u001b[0m\u001b[0;34m)\u001b[0m\u001b[0;34m[\u001b[0m\u001b[0;36m1\u001b[0m\u001b[0;34m]\u001b[0m\u001b[0;34m,\u001b[0m \u001b[0mstackTrace\u001b[0m\u001b[0;34m)\u001b[0m\u001b[0;34m\u001b[0m\u001b[0m\n",
      "\u001b[0;31mAnalysisException\u001b[0m: 'path file:/home/alumno/projects/entornos/ui1-entornos-unidad3/data/games already exists.;'"
     ]
    }
   ],
   "source": [
    "games_df.write.json('../data/games')"
   ]
  },
  {
   "cell_type": "code",
   "execution_count": null,
   "metadata": {},
   "outputs": [],
   "source": [
    "app_reviews_df.write.csv('../data/apps', sep='\\t', header=True, nullValue='', emptyValue='')"
   ]
  },
  {
   "cell_type": "code",
   "execution_count": null,
   "metadata": {},
   "outputs": [],
   "source": [
    "games_df.write.csv('../data/apps', mode='append', sep='\\t', header=True, nullValue='', emptyValue='')"
   ]
  },
  {
   "cell_type": "code",
   "execution_count": 40,
   "metadata": {},
   "outputs": [
    {
     "data": {
      "text/plain": [
       "DataFrame[]"
      ]
     },
     "execution_count": 40,
     "metadata": {},
     "output_type": "execute_result"
    }
   ],
   "source": [
    "spark.sql('CREATE DATABASE pydb')"
   ]
  },
  {
   "cell_type": "code",
   "execution_count": 41,
   "metadata": {},
   "outputs": [
    {
     "data": {
      "text/plain": [
       "DataFrame[]"
      ]
     },
     "execution_count": 41,
     "metadata": {},
     "output_type": "execute_result"
    }
   ],
   "source": [
    "spark.sql('USE pydb')"
   ]
  },
  {
   "cell_type": "code",
   "execution_count": 42,
   "metadata": {},
   "outputs": [
    {
     "data": {
      "text/plain": [
       "DataFrame[]"
      ]
     },
     "execution_count": 42,
     "metadata": {},
     "output_type": "execute_result"
    }
   ],
   "source": [
    "spark.sql(\"CREATE TABLE alumnos (\\\n",
    "    id LONG,\\\n",
    "    name STRING,\\\n",
    "    surname STRING,\\\n",
    "    gender STRING, \\\n",
    "    age INTEGER)\\\n",
    "USING JSON OPTIONS (path '/home/alumno/projects/entornos/ui1-entornos-unidad3/data/sample_json.json' )\\\n",
    "\")"
   ]
  },
  {
   "cell_type": "code",
   "execution_count": 53,
   "metadata": {},
   "outputs": [
    {
     "ename": "AnalysisException",
     "evalue": "'Attribute name \"Content Rating\" contains invalid character(s) among \" ,;{}()\\\\n\\\\t=\". Please use alias to rename it.;'",
     "output_type": "error",
     "traceback": [
      "\u001b[0;31m---------------------------------------------------------------------------\u001b[0m",
      "\u001b[0;31mPy4JJavaError\u001b[0m                             Traceback (most recent call last)",
      "\u001b[0;32m~/opt/spark/python/pyspark/sql/utils.py\u001b[0m in \u001b[0;36mdeco\u001b[0;34m(*a, **kw)\u001b[0m\n\u001b[1;32m     62\u001b[0m         \u001b[0;32mtry\u001b[0m\u001b[0;34m:\u001b[0m\u001b[0;34m\u001b[0m\u001b[0m\n\u001b[0;32m---> 63\u001b[0;31m             \u001b[0;32mreturn\u001b[0m \u001b[0mf\u001b[0m\u001b[0;34m(\u001b[0m\u001b[0;34m*\u001b[0m\u001b[0ma\u001b[0m\u001b[0;34m,\u001b[0m \u001b[0;34m**\u001b[0m\u001b[0mkw\u001b[0m\u001b[0;34m)\u001b[0m\u001b[0;34m\u001b[0m\u001b[0m\n\u001b[0m\u001b[1;32m     64\u001b[0m         \u001b[0;32mexcept\u001b[0m \u001b[0mpy4j\u001b[0m\u001b[0;34m.\u001b[0m\u001b[0mprotocol\u001b[0m\u001b[0;34m.\u001b[0m\u001b[0mPy4JJavaError\u001b[0m \u001b[0;32mas\u001b[0m \u001b[0me\u001b[0m\u001b[0;34m:\u001b[0m\u001b[0;34m\u001b[0m\u001b[0m\n",
      "\u001b[0;32m~/opt/spark/python/lib/py4j-0.10.7-src.zip/py4j/protocol.py\u001b[0m in \u001b[0;36mget_return_value\u001b[0;34m(answer, gateway_client, target_id, name)\u001b[0m\n\u001b[1;32m    327\u001b[0m                     \u001b[0;34m\"An error occurred while calling {0}{1}{2}.\\n\"\u001b[0m\u001b[0;34m.\u001b[0m\u001b[0;34m\u001b[0m\u001b[0m\n\u001b[0;32m--> 328\u001b[0;31m                     format(target_id, \".\", name), value)\n\u001b[0m\u001b[1;32m    329\u001b[0m             \u001b[0;32melse\u001b[0m\u001b[0;34m:\u001b[0m\u001b[0;34m\u001b[0m\u001b[0m\n",
      "\u001b[0;31mPy4JJavaError\u001b[0m: An error occurred while calling o650.saveAsTable.\n: org.apache.spark.sql.AnalysisException: Attribute name \"Content Rating\" contains invalid character(s) among \" ,;{}()\\n\\t=\". Please use alias to rename it.;\n\tat org.apache.spark.sql.execution.datasources.parquet.ParquetSchemaConverter$.checkConversionRequirement(ParquetSchemaConverter.scala:583)\n\tat org.apache.spark.sql.execution.datasources.parquet.ParquetSchemaConverter$.checkFieldName(ParquetSchemaConverter.scala:570)\n\tat org.apache.spark.sql.execution.datasources.parquet.ParquetSchemaConverter$$anonfun$checkFieldNames$1.apply(ParquetSchemaConverter.scala:578)\n\tat org.apache.spark.sql.execution.datasources.parquet.ParquetSchemaConverter$$anonfun$checkFieldNames$1.apply(ParquetSchemaConverter.scala:578)\n\tat scala.collection.IndexedSeqOptimized$class.foreach(IndexedSeqOptimized.scala:33)\n\tat scala.collection.mutable.WrappedArray.foreach(WrappedArray.scala:35)\n\tat org.apache.spark.sql.execution.datasources.parquet.ParquetSchemaConverter$.checkFieldNames(ParquetSchemaConverter.scala:578)\n\tat org.apache.spark.sql.execution.command.DDLUtils$$anonfun$checkDataColNames$1.apply(ddl.scala:883)\n\tat org.apache.spark.sql.execution.command.DDLUtils$$anonfun$checkDataColNames$1.apply(ddl.scala:874)\n\tat scala.Option.foreach(Option.scala:257)\n\tat org.apache.spark.sql.execution.command.DDLUtils$.checkDataColNames(ddl.scala:873)\n\tat org.apache.spark.sql.execution.command.DDLUtils$.checkDataColNames(ddl.scala:869)\n\tat org.apache.spark.sql.execution.datasources.DataSourceAnalysis$$anonfun$apply$1.applyOrElse(DataSourceStrategy.scala:141)\n\tat org.apache.spark.sql.execution.datasources.DataSourceAnalysis$$anonfun$apply$1.applyOrElse(DataSourceStrategy.scala:134)\n\tat org.apache.spark.sql.catalyst.plans.logical.AnalysisHelper$$anonfun$resolveOperatorsDown$1$$anonfun$2.apply(AnalysisHelper.scala:108)\n\tat org.apache.spark.sql.catalyst.plans.logical.AnalysisHelper$$anonfun$resolveOperatorsDown$1$$anonfun$2.apply(AnalysisHelper.scala:108)\n\tat org.apache.spark.sql.catalyst.trees.CurrentOrigin$.withOrigin(TreeNode.scala:70)\n\tat org.apache.spark.sql.catalyst.plans.logical.AnalysisHelper$$anonfun$resolveOperatorsDown$1.apply(AnalysisHelper.scala:107)\n\tat org.apache.spark.sql.catalyst.plans.logical.AnalysisHelper$$anonfun$resolveOperatorsDown$1.apply(AnalysisHelper.scala:106)\n\tat org.apache.spark.sql.catalyst.plans.logical.AnalysisHelper$.allowInvokingTransformsInAnalyzer(AnalysisHelper.scala:194)\n\tat org.apache.spark.sql.catalyst.plans.logical.AnalysisHelper$class.resolveOperatorsDown(AnalysisHelper.scala:106)\n\tat org.apache.spark.sql.catalyst.plans.logical.LogicalPlan.resolveOperatorsDown(LogicalPlan.scala:29)\n\tat org.apache.spark.sql.catalyst.plans.logical.AnalysisHelper$class.resolveOperators(AnalysisHelper.scala:73)\n\tat org.apache.spark.sql.catalyst.plans.logical.LogicalPlan.resolveOperators(LogicalPlan.scala:29)\n\tat org.apache.spark.sql.execution.datasources.DataSourceAnalysis.apply(DataSourceStrategy.scala:134)\n\tat org.apache.spark.sql.execution.datasources.DataSourceAnalysis.apply(DataSourceStrategy.scala:52)\n\tat org.apache.spark.sql.catalyst.rules.RuleExecutor$$anonfun$execute$1$$anonfun$apply$1.apply(RuleExecutor.scala:87)\n\tat org.apache.spark.sql.catalyst.rules.RuleExecutor$$anonfun$execute$1$$anonfun$apply$1.apply(RuleExecutor.scala:84)\n\tat scala.collection.IndexedSeqOptimized$class.foldl(IndexedSeqOptimized.scala:57)\n\tat scala.collection.IndexedSeqOptimized$class.foldLeft(IndexedSeqOptimized.scala:66)\n\tat scala.collection.mutable.ArrayBuffer.foldLeft(ArrayBuffer.scala:48)\n\tat org.apache.spark.sql.catalyst.rules.RuleExecutor$$anonfun$execute$1.apply(RuleExecutor.scala:84)\n\tat org.apache.spark.sql.catalyst.rules.RuleExecutor$$anonfun$execute$1.apply(RuleExecutor.scala:76)\n\tat scala.collection.immutable.List.foreach(List.scala:392)\n\tat org.apache.spark.sql.catalyst.rules.RuleExecutor.execute(RuleExecutor.scala:76)\n\tat org.apache.spark.sql.catalyst.analysis.Analyzer.org$apache$spark$sql$catalyst$analysis$Analyzer$$executeSameContext(Analyzer.scala:127)\n\tat org.apache.spark.sql.catalyst.analysis.Analyzer.execute(Analyzer.scala:121)\n\tat org.apache.spark.sql.catalyst.analysis.Analyzer$$anonfun$executeAndCheck$1.apply(Analyzer.scala:106)\n\tat org.apache.spark.sql.catalyst.analysis.Analyzer$$anonfun$executeAndCheck$1.apply(Analyzer.scala:105)\n\tat org.apache.spark.sql.catalyst.plans.logical.AnalysisHelper$.markInAnalyzer(AnalysisHelper.scala:201)\n\tat org.apache.spark.sql.catalyst.analysis.Analyzer.executeAndCheck(Analyzer.scala:105)\n\tat org.apache.spark.sql.execution.QueryExecution.analyzed$lzycompute(QueryExecution.scala:57)\n\tat org.apache.spark.sql.execution.QueryExecution.analyzed(QueryExecution.scala:55)\n\tat org.apache.spark.sql.execution.QueryExecution.assertAnalyzed(QueryExecution.scala:47)\n\tat org.apache.spark.sql.execution.QueryExecution.withCachedData$lzycompute(QueryExecution.scala:61)\n\tat org.apache.spark.sql.execution.QueryExecution.withCachedData(QueryExecution.scala:60)\n\tat org.apache.spark.sql.execution.QueryExecution.optimizedPlan$lzycompute(QueryExecution.scala:66)\n\tat org.apache.spark.sql.execution.QueryExecution.optimizedPlan(QueryExecution.scala:66)\n\tat org.apache.spark.sql.execution.QueryExecution.sparkPlan$lzycompute(QueryExecution.scala:72)\n\tat org.apache.spark.sql.execution.QueryExecution.sparkPlan(QueryExecution.scala:68)\n\tat org.apache.spark.sql.execution.QueryExecution.executedPlan$lzycompute(QueryExecution.scala:77)\n\tat org.apache.spark.sql.execution.QueryExecution.executedPlan(QueryExecution.scala:77)\n\tat org.apache.spark.sql.execution.SQLExecution$$anonfun$withNewExecutionId$1.apply(SQLExecution.scala:76)\n\tat org.apache.spark.sql.execution.SQLExecution$.withSQLConfPropagated(SQLExecution.scala:125)\n\tat org.apache.spark.sql.execution.SQLExecution$.withNewExecutionId(SQLExecution.scala:73)\n\tat org.apache.spark.sql.DataFrameWriter.runCommand(DataFrameWriter.scala:668)\n\tat org.apache.spark.sql.DataFrameWriter.createTable(DataFrameWriter.scala:465)\n\tat org.apache.spark.sql.DataFrameWriter.saveAsTable(DataFrameWriter.scala:444)\n\tat org.apache.spark.sql.DataFrameWriter.saveAsTable(DataFrameWriter.scala:400)\n\tat sun.reflect.NativeMethodAccessorImpl.invoke0(Native Method)\n\tat sun.reflect.NativeMethodAccessorImpl.invoke(NativeMethodAccessorImpl.java:62)\n\tat sun.reflect.DelegatingMethodAccessorImpl.invoke(DelegatingMethodAccessorImpl.java:43)\n\tat java.lang.reflect.Method.invoke(Method.java:498)\n\tat py4j.reflection.MethodInvoker.invoke(MethodInvoker.java:244)\n\tat py4j.reflection.ReflectionEngine.invoke(ReflectionEngine.java:357)\n\tat py4j.Gateway.invoke(Gateway.java:282)\n\tat py4j.commands.AbstractCommand.invokeMethod(AbstractCommand.java:132)\n\tat py4j.commands.CallCommand.execute(CallCommand.java:79)\n\tat py4j.GatewayConnection.run(GatewayConnection.java:238)\n\tat java.lang.Thread.run(Thread.java:748)\n",
      "\nDuring handling of the above exception, another exception occurred:\n",
      "\u001b[0;31mAnalysisException\u001b[0m                         Traceback (most recent call last)",
      "\u001b[0;32m<ipython-input-53-484430594839>\u001b[0m in \u001b[0;36m<module>\u001b[0;34m\u001b[0m\n\u001b[1;32m      1\u001b[0m \u001b[0mgames_df\u001b[0m\u001b[0;34m.\u001b[0m\u001b[0mwithColumnRenamed\u001b[0m\u001b[0;34m(\u001b[0m\u001b[0;34m'Content Rating'\u001b[0m\u001b[0;34m,\u001b[0m \u001b[0;34m'Content_Rating'\u001b[0m\u001b[0;34m)\u001b[0m\u001b[0;34m.\u001b[0m\u001b[0mwithColumnRenamed\u001b[0m\u001b[0;34m(\u001b[0m\u001b[0;34m'Last Updated'\u001b[0m\u001b[0;34m,\u001b[0m \u001b[0;34m'Last_Updated'\u001b[0m\u001b[0;34m)\u001b[0m\u001b[0;34m.\u001b[0m\u001b[0mwithColumnRenamed\u001b[0m\u001b[0;34m(\u001b[0m\u001b[0;34m'Android Ver'\u001b[0m\u001b[0;34m,\u001b[0m \u001b[0;34m'Android_Ver'\u001b[0m\u001b[0;34m)\u001b[0m\u001b[0;34m.\u001b[0m\u001b[0mwithColumnRenamed\u001b[0m\u001b[0;34m(\u001b[0m\u001b[0;34m'Current Ver'\u001b[0m\u001b[0;34m,\u001b[0m \u001b[0;34m'Current_Ver'\u001b[0m\u001b[0;34m)\u001b[0m\u001b[0;34m.\u001b[0m\u001b[0mwrite\u001b[0m\u001b[0;34m.\u001b[0m\u001b[0msaveAsTable\u001b[0m\u001b[0;34m(\u001b[0m\u001b[0;34m'game'\u001b[0m\u001b[0;34m)\u001b[0m\u001b[0;34m\u001b[0m\u001b[0m\n\u001b[0;32m----> 2\u001b[0;31m \u001b[0mgoogle_play_df\u001b[0m\u001b[0;34m.\u001b[0m\u001b[0mwrite\u001b[0m\u001b[0;34m.\u001b[0m\u001b[0msaveAsTable\u001b[0m\u001b[0;34m(\u001b[0m\u001b[0;34m'google'\u001b[0m\u001b[0;34m)\u001b[0m\u001b[0;34m\u001b[0m\u001b[0m\n\u001b[0m",
      "\u001b[0;32m~/opt/spark/python/pyspark/sql/readwriter.py\u001b[0m in \u001b[0;36msaveAsTable\u001b[0;34m(self, name, format, mode, partitionBy, **options)\u001b[0m\n\u001b[1;32m    773\u001b[0m         \u001b[0;32mif\u001b[0m \u001b[0mformat\u001b[0m \u001b[0;32mis\u001b[0m \u001b[0;32mnot\u001b[0m \u001b[0;32mNone\u001b[0m\u001b[0;34m:\u001b[0m\u001b[0;34m\u001b[0m\u001b[0m\n\u001b[1;32m    774\u001b[0m             \u001b[0mself\u001b[0m\u001b[0;34m.\u001b[0m\u001b[0mformat\u001b[0m\u001b[0;34m(\u001b[0m\u001b[0mformat\u001b[0m\u001b[0;34m)\u001b[0m\u001b[0;34m\u001b[0m\u001b[0m\n\u001b[0;32m--> 775\u001b[0;31m         \u001b[0mself\u001b[0m\u001b[0;34m.\u001b[0m\u001b[0m_jwrite\u001b[0m\u001b[0;34m.\u001b[0m\u001b[0msaveAsTable\u001b[0m\u001b[0;34m(\u001b[0m\u001b[0mname\u001b[0m\u001b[0;34m)\u001b[0m\u001b[0;34m\u001b[0m\u001b[0m\n\u001b[0m\u001b[1;32m    776\u001b[0m \u001b[0;34m\u001b[0m\u001b[0m\n\u001b[1;32m    777\u001b[0m     \u001b[0;34m@\u001b[0m\u001b[0msince\u001b[0m\u001b[0;34m(\u001b[0m\u001b[0;36m1.4\u001b[0m\u001b[0;34m)\u001b[0m\u001b[0;34m\u001b[0m\u001b[0m\n",
      "\u001b[0;32m~/opt/spark/python/lib/py4j-0.10.7-src.zip/py4j/java_gateway.py\u001b[0m in \u001b[0;36m__call__\u001b[0;34m(self, *args)\u001b[0m\n\u001b[1;32m   1255\u001b[0m         \u001b[0manswer\u001b[0m \u001b[0;34m=\u001b[0m \u001b[0mself\u001b[0m\u001b[0;34m.\u001b[0m\u001b[0mgateway_client\u001b[0m\u001b[0;34m.\u001b[0m\u001b[0msend_command\u001b[0m\u001b[0;34m(\u001b[0m\u001b[0mcommand\u001b[0m\u001b[0;34m)\u001b[0m\u001b[0;34m\u001b[0m\u001b[0m\n\u001b[1;32m   1256\u001b[0m         return_value = get_return_value(\n\u001b[0;32m-> 1257\u001b[0;31m             answer, self.gateway_client, self.target_id, self.name)\n\u001b[0m\u001b[1;32m   1258\u001b[0m \u001b[0;34m\u001b[0m\u001b[0m\n\u001b[1;32m   1259\u001b[0m         \u001b[0;32mfor\u001b[0m \u001b[0mtemp_arg\u001b[0m \u001b[0;32min\u001b[0m \u001b[0mtemp_args\u001b[0m\u001b[0;34m:\u001b[0m\u001b[0;34m\u001b[0m\u001b[0m\n",
      "\u001b[0;32m~/opt/spark/python/pyspark/sql/utils.py\u001b[0m in \u001b[0;36mdeco\u001b[0;34m(*a, **kw)\u001b[0m\n\u001b[1;32m     67\u001b[0m                                              e.java_exception.getStackTrace()))\n\u001b[1;32m     68\u001b[0m             \u001b[0;32mif\u001b[0m \u001b[0ms\u001b[0m\u001b[0;34m.\u001b[0m\u001b[0mstartswith\u001b[0m\u001b[0;34m(\u001b[0m\u001b[0;34m'org.apache.spark.sql.AnalysisException: '\u001b[0m\u001b[0;34m)\u001b[0m\u001b[0;34m:\u001b[0m\u001b[0;34m\u001b[0m\u001b[0m\n\u001b[0;32m---> 69\u001b[0;31m                 \u001b[0;32mraise\u001b[0m \u001b[0mAnalysisException\u001b[0m\u001b[0;34m(\u001b[0m\u001b[0ms\u001b[0m\u001b[0;34m.\u001b[0m\u001b[0msplit\u001b[0m\u001b[0;34m(\u001b[0m\u001b[0;34m': '\u001b[0m\u001b[0;34m,\u001b[0m \u001b[0;36m1\u001b[0m\u001b[0;34m)\u001b[0m\u001b[0;34m[\u001b[0m\u001b[0;36m1\u001b[0m\u001b[0;34m]\u001b[0m\u001b[0;34m,\u001b[0m \u001b[0mstackTrace\u001b[0m\u001b[0;34m)\u001b[0m\u001b[0;34m\u001b[0m\u001b[0m\n\u001b[0m\u001b[1;32m     70\u001b[0m             \u001b[0;32mif\u001b[0m \u001b[0ms\u001b[0m\u001b[0;34m.\u001b[0m\u001b[0mstartswith\u001b[0m\u001b[0;34m(\u001b[0m\u001b[0;34m'org.apache.spark.sql.catalyst.analysis'\u001b[0m\u001b[0;34m)\u001b[0m\u001b[0;34m:\u001b[0m\u001b[0;34m\u001b[0m\u001b[0m\n\u001b[1;32m     71\u001b[0m                 \u001b[0;32mraise\u001b[0m \u001b[0mAnalysisException\u001b[0m\u001b[0;34m(\u001b[0m\u001b[0ms\u001b[0m\u001b[0;34m.\u001b[0m\u001b[0msplit\u001b[0m\u001b[0;34m(\u001b[0m\u001b[0;34m': '\u001b[0m\u001b[0;34m,\u001b[0m \u001b[0;36m1\u001b[0m\u001b[0;34m)\u001b[0m\u001b[0;34m[\u001b[0m\u001b[0;36m1\u001b[0m\u001b[0;34m]\u001b[0m\u001b[0;34m,\u001b[0m \u001b[0mstackTrace\u001b[0m\u001b[0;34m)\u001b[0m\u001b[0;34m\u001b[0m\u001b[0m\n",
      "\u001b[0;31mAnalysisException\u001b[0m: 'Attribute name \"Content Rating\" contains invalid character(s) among \" ,;{}()\\\\n\\\\t=\". Please use alias to rename it.;'"
     ]
    }
   ],
   "source": [
    "games_df.withColumnRenamed('Content Rating', 'Content_Rating').withColumnRenamed('Last Updated', 'Last_Updated').withColumnRenamed('Android Ver', 'Android_Ver').withColumnRenamed('Current Ver', 'Current_Ver').write.saveAsTable('game')"
   ]
  },
  {
   "cell_type": "code",
   "execution_count": 55,
   "metadata": {},
   "outputs": [],
   "source": [
    "google_play_df.withColumnRenamed('Content Rating', 'Content_Rating').withColumnRenamed('Last Updated', 'Last_Updated').withColumnRenamed('Android Ver', 'Android_Ver').withColumnRenamed('Current Ver', 'Current_Ver').write.saveAsTable('google')"
   ]
  },
  {
   "cell_type": "code",
   "execution_count": 60,
   "metadata": {},
   "outputs": [
    {
     "name": "stdout",
     "output_type": "stream",
     "text": [
      "+-------------------+-----------------+\n",
      "|           Category|     mean(Rating)|\n",
      "+-------------------+-----------------+\n",
      "|             EVENTS|4.470454545454547|\n",
      "|             COMICS|4.200000000000001|\n",
      "|             SPORTS|4.260256410256411|\n",
      "|            WEATHER|4.243999999999999|\n",
      "|      VIDEO_PLAYERS|4.137908496732027|\n",
      "|  AUTO_AND_VEHICLES|             4.26|\n",
      "|          PARENTING|4.346938775510204|\n",
      "|      ENTERTAINMENT|4.133783783783783|\n",
      "|    PERSONALIZATION| 4.34615384615385|\n",
      "| HEALTH_AND_FITNESS|4.415942028985508|\n",
      "|   TRAVEL_AND_LOCAL|4.177314814814815|\n",
      "|BOOKS_AND_REFERENCE|4.355367231638419|\n",
      "|     FOOD_AND_DRINK|4.224528301886793|\n",
      "|        PHOTOGRAPHY|4.260726072607258|\n",
      "|           BUSINESS|4.248571428571427|\n",
      "|             FAMILY|4.253594771241832|\n",
      "|           SHOPPING|4.290170940170943|\n",
      "|     HOUSE_AND_HOME|            4.216|\n",
      "|               GAME|4.302573529411767|\n",
      "|          EDUCATION|4.389032258064517|\n",
      "+-------------------+-----------------+\n",
      "only showing top 20 rows\n",
      "\n"
     ]
    }
   ],
   "source": [
    "new_df=spark.sql('SELECT Category, Rating from google WHERE Rating>3')\n",
    "new_df.groupBy('Category').agg(expr('mean(Rating)')).show()"
   ]
  },
  {
   "cell_type": "code",
   "execution_count": 66,
   "metadata": {},
   "outputs": [
    {
     "name": "stdout",
     "output_type": "stream",
     "text": [
      "+--------------------+---------+\n",
      "|                 App|Sentiment|\n",
      "+--------------------+---------+\n",
      "|10 Best Foods for...| Positive|\n",
      "|10 Best Foods for...| Positive|\n",
      "|10 Best Foods for...| Positive|\n",
      "|10 Best Foods for...| Positive|\n",
      "|10 Best Foods for...| Positive|\n",
      "|10 Best Foods for...| Positive|\n",
      "|10 Best Foods for...| Positive|\n",
      "|10 Best Foods for...| Positive|\n",
      "|10 Best Foods for...| Positive|\n",
      "|10 Best Foods for...| Positive|\n",
      "|10 Best Foods for...| Positive|\n",
      "|10 Best Foods for...| Positive|\n",
      "|10 Best Foods for...| Positive|\n",
      "|10 Best Foods for...| Positive|\n",
      "|10 Best Foods for...| Positive|\n",
      "|10 Best Foods for...| Positive|\n",
      "|10 Best Foods for...| Positive|\n",
      "|10 Best Foods for...| Positive|\n",
      "|10 Best Foods for...| Positive|\n",
      "|10 Best Foods for...| Positive|\n",
      "+--------------------+---------+\n",
      "only showing top 20 rows\n",
      "\n"
     ]
    }
   ],
   "source": [
    "app_reviews_df.createOrReplaceTempView('reviews')\n",
    "new_df=spark.sql('SELECT App, Sentiment FROM reviews WHERE Sentiment_Polarity>0')\n",
    "new_df.show()"
   ]
  },
  {
   "cell_type": "code",
   "execution_count": 67,
   "metadata": {},
   "outputs": [],
   "source": [
    "spark.catalog.dropTempView('reviews')"
   ]
  },
  {
   "cell_type": "code",
   "execution_count": 71,
   "metadata": {},
   "outputs": [
    {
     "name": "stdout",
     "output_type": "stream",
     "text": [
      "+--------------------+--------+------+-------+-------+------------+----+-----+--------------+----------+-----------------+-----------+-----------+\n",
      "|                 App|Category|Rating|Reviews|   Size|    Installs|Type|Price|Content Rating|    Genres|     Last Updated|Current Ver|Android Ver|\n",
      "+--------------------+--------+------+-------+-------+------------+----+-----+--------------+----------+-----------------+-----------+-----------+\n",
      "| Bubble Witch 3 Saga|    GAME|   4.7|1732263|78000.0| 50,000,000+|Free|  0.0|      Everyone|    Puzzle|    July 17, 2018|      4.8.4| 3.0 and up|\n",
      "|     Zombie Catchers|    GAME|   4.7| 990491|75000.0| 10,000,000+|Free|  0.0|      Everyone|    Action|     May 24, 2018|     1.0.27| 4.1 and up|\n",
      "| Geometry Dash World|    GAME|   4.6| 760628|63000.0| 10,000,000+|Free|  0.0|      Everyone|    Arcade|December 22, 2017|       1.03| 4.0 and up|\n",
      "|         Score! Hero|    GAME|   4.6|5418675|96000.0|100,000,000+|Free|  0.0|      Everyone|    Sports|    June 13, 2018|      1.751| 4.4 and up|\n",
      "|          Wordscapes|    GAME|   4.8| 230710|87000.0| 10,000,000+|Free|  0.0|      Everyone|      Word|   August 2, 2018|     1.0.47| 4.1 and up|\n",
      "|     Zombie Catchers|    GAME|   4.7| 990586|75000.0| 10,000,000+|Free|  0.0|      Everyone|    Action|     May 24, 2018|     1.0.27| 4.1 and up|\n",
      "|Talking Tom Gold Run|    GAME|   4.6|2698348|78000.0|100,000,000+|Free|  0.0|      Everyone|    Action|    July 31, 2018|   2.8.2.59| 4.1 and up|\n",
      "|Dream League Socc...|    GAME|   4.6|9882639|74000.0|100,000,000+|Free|  0.0|      Everyone|    Sports|    July 16, 2018|      5.064| 4.4 and up|\n",
      "|          Wordscapes|    GAME|   4.8| 230727|87000.0| 10,000,000+|Free|  0.0|      Everyone|      Word|   August 2, 2018|     1.0.47| 4.1 and up|\n",
      "|             Looper!|    GAME|   4.6|  48256|62000.0|  1,000,000+|Free|  0.0|      Everyone|    Puzzle|    July 20, 2018|      1.2.0| 4.1 and up|\n",
      "|          Wordscapes|    GAME|   4.8| 230727|87000.0| 10,000,000+|Free|  0.0|      Everyone|      Word|   August 2, 2018|     1.0.47| 4.1 and up|\n",
      "|MLB TAP SPORTS BA...|    GAME|   4.6|  32506|82000.0|  1,000,000+|Free|  0.0|      Everyone|    Sports|    June 27, 2018|      1.2.1| 4.2 and up|\n",
      "|Cash, Inc. Money ...|    GAME|   4.8| 549720|85000.0| 10,000,000+|Free|  0.0|      Everyone|Simulation|    July 19, 2018|  2.1.1.4.0| 4.4 and up|\n",
      "|       Angry Birds 2|    GAME|   4.6|3883589|57000.0|100,000,000+|Free|  0.0|      Everyone|    Casual|    July 26, 2018|     2.21.1| 4.1 and up|\n",
      "|          Wordscapes|    GAME|   4.8| 230849|87000.0| 10,000,000+|Free|  0.0|      Everyone|      Word|   August 2, 2018|     1.0.47| 4.1 and up|\n",
      "|         Score! Hero|    GAME|   4.6|5419676|96000.0|100,000,000+|Free|  0.0|      Everyone|    Sports|    June 13, 2018|      1.751| 4.4 and up|\n",
      "|     Zombie Catchers|    GAME|   4.7| 990723|75000.0| 10,000,000+|Free|  0.0|      Everyone|    Action|     May 24, 2018|     1.0.27| 4.1 and up|\n",
      "|Dream League Socc...|    GAME|   4.6|9883806|74000.0|100,000,000+|Free|  0.0|      Everyone|    Sports|    July 16, 2018|      5.064| 4.4 and up|\n",
      "|Talking Tom Gold Run|    GAME|   4.6|2698882|78000.0|100,000,000+|Free|  0.0|      Everyone|    Action|    July 31, 2018|   2.8.2.59| 4.1 and up|\n",
      "|Talking Tom Gold Run|    GAME|   4.6|2698889|78000.0|100,000,000+|Free|  0.0|      Everyone|    Action|    July 31, 2018|   2.8.2.59| 4.1 and up|\n",
      "+--------------------+--------+------+-------+-------+------------+----+-----+--------------+----------+-----------------+-----------+-----------+\n",
      "only showing top 20 rows\n",
      "\n"
     ]
    }
   ],
   "source": [
    "games_df.createOrReplaceTempView('games_temp')\n",
    "spark.sql('SELECT * FROM games_temp WHERE Size > 50000 AND Rating > 4.5').show()\n",
    "spark.catalog.dropTempView('games_temp')"
   ]
  },
  {
   "cell_type": "code",
   "execution_count": null,
   "metadata": {},
   "outputs": [],
   "source": []
  }
 ],
 "metadata": {
  "kernelspec": {
   "display_name": "Python 3",
   "language": "python",
   "name": "python3"
  },
  "language_info": {
   "codemirror_mode": {
    "name": "ipython",
    "version": 3
   },
   "file_extension": ".py",
   "mimetype": "text/x-python",
   "name": "python",
   "nbconvert_exporter": "python",
   "pygments_lexer": "ipython3",
   "version": "3.7.0"
  }
 },
 "nbformat": 4,
 "nbformat_minor": 2
}
